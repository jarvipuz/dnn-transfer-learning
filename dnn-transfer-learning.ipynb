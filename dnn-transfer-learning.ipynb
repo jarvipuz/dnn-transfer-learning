{
 "cells": [
  {
   "cell_type": "markdown",
   "metadata": {
    "colab_type": "text",
    "id": "UYoXRz_BFvMW"
   },
   "source": [
    "# COMP8220 Machine Learning Assessment Task 3\n",
    "\n"
   ]
  },
  {
   "cell_type": "code",
   "execution_count": 1,
   "metadata": {
    "colab": {
     "base_uri": "https://localhost:8080/",
     "height": 68
    },
    "colab_type": "code",
    "id": "X1oUiJza5mg3",
    "outputId": "34580aab-5ce1-4d00-de16-77d4592354ef"
   },
   "outputs": [
    {
     "name": "stderr",
     "output_type": "stream",
     "text": [
      "/usr/local/lib/python3.6/dist-packages/statsmodels/tools/_testing.py:19: FutureWarning: pandas.util.testing is deprecated. Use the functions in the public API at pandas.testing instead.\n",
      "  import pandas.util.testing as tm\n",
      "Using TensorFlow backend.\n"
     ]
    }
   ],
   "source": [
    "import os\n",
    "import random\n",
    "import numpy as np\n",
    "import pandas as pd\n",
    "\n",
    "import seaborn as sns\n",
    "import matplotlib.pyplot as plt\n",
    "from matplotlib.pyplot import imshow\n",
    "\n",
    "import keras\n",
    "from keras.preprocessing import image\n",
    "from keras.applications.imagenet_utils import preprocess_input\n",
    "from keras.models import Sequential\n",
    "from keras.layers import Dense, Dropout, Flatten, Activation\n",
    "from keras.layers import Conv2D, MaxPooling2D\n",
    "from keras.models import Model\n",
    "from keras.preprocessing.image import ImageDataGenerator\n",
    "from keras import backend as K\n",
    "\n",
    "from functools import partial\n",
    "\n",
    "from sklearn.model_selection import GridSearchCV\n",
    "from keras.wrappers.scikit_learn import KerasClassifier\n",
    "\n",
    "%matplotlib inline\n",
    "\n",
    "keras.backend.clear_session()"
   ]
  },
  {
   "cell_type": "markdown",
   "metadata": {
    "colab_type": "text",
    "id": "LCvaLFTKDEPB"
   },
   "source": [
    "## Downloading and Preprocessing the Dataset\n",
    "\n",
    "In this notebook, we will work with the Caltech-101 dataset which is composed of objects from 101 categories. We will exclude the top 5 most occurring categories from the dataset and use the remaining data to train a simple convolutional neural network (CNN) from scratch. We will also use the same dataset and use transfer learning to train a pretrained network, ResNet-50. In this section, we proceed by downloading and preprocessing the Caltech-101 dataset below."
   ]
  },
  {
   "cell_type": "code",
   "execution_count": 2,
   "metadata": {
    "colab": {
     "base_uri": "https://localhost:8080/",
     "height": 68
    },
    "colab_type": "code",
    "id": "im0EhWc25stu",
    "outputId": "5fca50a7-5893-444f-9c1b-4499acbc4754"
   },
   "outputs": [
    {
     "name": "stdout",
     "output_type": "stream",
     "text": [
      "Downloading 101_Object_Categories for image notebooks\n",
      "######################################################################## 100.0%\n",
      "101_ObjectCategories  cnn_drop.h5  cnn_nodrop.h5  sample_data\n"
     ]
    }
   ],
   "source": [
    "!echo \"Downloading 101_Object_Categories for image notebooks\"\n",
    "!curl -L -o 101_ObjectCategories.tar.gz --progress-bar http://www.vision.caltech.edu/Image_Datasets/Caltech101/101_ObjectCategories.tar.gz\n",
    "!tar -xzf 101_ObjectCategories.tar.gz\n",
    "!rm 101_ObjectCategories.tar.gz\n",
    "!ls"
   ]
  },
  {
   "cell_type": "code",
   "execution_count": 3,
   "metadata": {
    "colab": {
     "base_uri": "https://localhost:8080/",
     "height": 0
    },
    "colab_type": "code",
    "id": "JD6TL8jy7NnC",
    "outputId": "5dc18d61-e1b9-4a12-c780-0cc3d2c58935"
   },
   "outputs": [
    {
     "name": "stdout",
     "output_type": "stream",
     "text": [
      "['101_ObjectCategories/binocular', '101_ObjectCategories/grand_piano', '101_ObjectCategories/ibis', '101_ObjectCategories/minaret', '101_ObjectCategories/platypus', '101_ObjectCategories/rhino', '101_ObjectCategories/yin_yang', '101_ObjectCategories/llama', '101_ObjectCategories/anchor', '101_ObjectCategories/scorpion', '101_ObjectCategories/flamingo', '101_ObjectCategories/cougar_face', '101_ObjectCategories/beaver', '101_ObjectCategories/wild_cat', '101_ObjectCategories/saxophone', '101_ObjectCategories/revolver', '101_ObjectCategories/electric_guitar', '101_ObjectCategories/elephant', '101_ObjectCategories/inline_skate', '101_ObjectCategories/dollar_bill', '101_ObjectCategories/lamp', '101_ObjectCategories/brain', '101_ObjectCategories/joshua_tree', '101_ObjectCategories/hedgehog', '101_ObjectCategories/ceiling_fan', '101_ObjectCategories/starfish', '101_ObjectCategories/soccer_ball', '101_ObjectCategories/metronome', '101_ObjectCategories/watch', '101_ObjectCategories/ketch', '101_ObjectCategories/crocodile_head', '101_ObjectCategories/pizza', '101_ObjectCategories/camera', '101_ObjectCategories/ferry', '101_ObjectCategories/pigeon', '101_ObjectCategories/menorah', '101_ObjectCategories/tick', '101_ObjectCategories/octopus', '101_ObjectCategories/dolphin', '101_ObjectCategories/sunflower', '101_ObjectCategories/lobster', '101_ObjectCategories/cellphone', '101_ObjectCategories/chair', '101_ObjectCategories/sea_horse', '101_ObjectCategories/lotus', '101_ObjectCategories/wrench', '101_ObjectCategories/butterfly', '101_ObjectCategories/helicopter', '101_ObjectCategories/trilobite', '101_ObjectCategories/euphonium', '101_ObjectCategories/mandolin', '101_ObjectCategories/okapi', '101_ObjectCategories/ewer', '101_ObjectCategories/wheelchair', '101_ObjectCategories/brontosaurus', '101_ObjectCategories/pagoda', '101_ObjectCategories/stop_sign', '101_ObjectCategories/bass', '101_ObjectCategories/barrel', '101_ObjectCategories/rooster', '101_ObjectCategories/pyramid', '101_ObjectCategories/cup', '101_ObjectCategories/bonsai', '101_ObjectCategories/gerenuk', '101_ObjectCategories/stapler', '101_ObjectCategories/nautilus', '101_ObjectCategories/stegosaurus', '101_ObjectCategories/Leopards', '101_ObjectCategories/buddha', '101_ObjectCategories/scissors', '101_ObjectCategories/panda', '101_ObjectCategories/flamingo_head', '101_ObjectCategories/kangaroo', '101_ObjectCategories/hawksbill', '101_ObjectCategories/schooner', '101_ObjectCategories/strawberry', '101_ObjectCategories/cougar_body', '101_ObjectCategories/windsor_chair', '101_ObjectCategories/crocodile', '101_ObjectCategories/water_lilly', '101_ObjectCategories/cannon', '101_ObjectCategories/ant', '101_ObjectCategories/chandelier', '101_ObjectCategories/crab', '101_ObjectCategories/accordion', '101_ObjectCategories/mayfly', '101_ObjectCategories/garfield', '101_ObjectCategories/emu', '101_ObjectCategories/dalmatian', '101_ObjectCategories/headphone', '101_ObjectCategories/crayfish', '101_ObjectCategories/car_side', '101_ObjectCategories/umbrella', '101_ObjectCategories/laptop', '101_ObjectCategories/snoopy', '101_ObjectCategories/dragonfly', '101_ObjectCategories/gramophone']\n"
     ]
    }
   ],
   "source": [
    "root = '101_ObjectCategories'\n",
    "exclude = ['BACKGROUND_Google', 'Motorbikes', 'airplanes', 'Faces_easy', 'Faces']\n",
    "train_split, val_split = 0.7, 0.15\n",
    "\n",
    "categories = [x[0] for x in os.walk(root) if x[0]][1:]\n",
    "categories = [c for c in categories if c not in [os.path.join(root, e) for e in exclude]]\n",
    "\n",
    "print(categories)"
   ]
  },
  {
   "cell_type": "markdown",
   "metadata": {
    "colab_type": "text",
    "id": "Gbo6KwmXk5Sb"
   },
   "source": [
    "This function is useful for pre-processing the data into an image and input vector."
   ]
  },
  {
   "cell_type": "code",
   "execution_count": 0,
   "metadata": {
    "colab": {},
    "colab_type": "code",
    "id": "jkjQtpRq8-Rr"
   },
   "outputs": [],
   "source": [
    "# helper function to load image and return it and input vector\n",
    "def get_image(path):\n",
    "    img = image.load_img(path, target_size=(224, 224))\n",
    "    x = image.img_to_array(img)\n",
    "    x = np.expand_dims(x, axis=0)\n",
    "    x = preprocess_input(x)\n",
    "    return img, x"
   ]
  },
  {
   "cell_type": "markdown",
   "metadata": {
    "colab_type": "text",
    "id": "aRtqcIFOlUIz"
   },
   "source": [
    "Load all the images from root folder."
   ]
  },
  {
   "cell_type": "code",
   "execution_count": 0,
   "metadata": {
    "colab": {},
    "colab_type": "code",
    "id": "G8UeInmY9NjA"
   },
   "outputs": [],
   "source": [
    "data = []\n",
    "for c, category in enumerate(categories):\n",
    "    images = [os.path.join(dp, f) for dp, dn, filenames \n",
    "              in os.walk(category) for f in filenames \n",
    "              if os.path.splitext(f)[1].lower() in ['.jpg','.png','.jpeg']]\n",
    "    for img_path in images:\n",
    "        img, x = get_image(img_path)\n",
    "        data.append({'x':np.array(x[0]), 'y':c})\n",
    "\n",
    "# count the number of classes\n",
    "num_classes = len(categories)"
   ]
  },
  {
   "cell_type": "markdown",
   "metadata": {
    "colab_type": "text",
    "id": "-hM0iaZZlkvU"
   },
   "source": [
    "Randomize the data order."
   ]
  },
  {
   "cell_type": "code",
   "execution_count": 0,
   "metadata": {
    "colab": {},
    "colab_type": "code",
    "id": "QshiMdyA9RHs"
   },
   "outputs": [],
   "source": [
    "random.shuffle(data)"
   ]
  },
  {
   "cell_type": "markdown",
   "metadata": {
    "colab_type": "text",
    "id": "uTJPd3sNl_W5"
   },
   "source": [
    "Split the dataset to training / validation / test data (70%, 15%, 15%)"
   ]
  },
  {
   "cell_type": "code",
   "execution_count": 0,
   "metadata": {
    "colab": {},
    "colab_type": "code",
    "id": "osKyreSI9ZwG"
   },
   "outputs": [],
   "source": [
    "idx_val = int(train_split * len(data))\n",
    "idx_test = int((train_split + val_split) * len(data))\n",
    "train = data[:idx_val]\n",
    "val = data[idx_val:idx_test]\n",
    "test = data[idx_test:]"
   ]
  },
  {
   "cell_type": "markdown",
   "metadata": {
    "colab_type": "text",
    "id": "ges6KDSimG_K"
   },
   "source": [
    "Separate data for labels."
   ]
  },
  {
   "cell_type": "code",
   "execution_count": 8,
   "metadata": {
    "colab": {
     "base_uri": "https://localhost:8080/",
     "height": 54
    },
    "colab_type": "code",
    "id": "EmaMVGLf-Ydu",
    "outputId": "484c95d4-9419-47d5-d1d9-10024e342de1"
   },
   "outputs": [
    {
     "name": "stdout",
     "output_type": "stream",
     "text": [
      "[53, 62, 47, 22, 59, 91, 34, 96, 18, 19, 26, 9, 73, 72, 13, 37, 22, 9, 11, 33, 60, 86, 3, 30, 92, 95, 61, 17, 65, 18, 67, 75, 91, 96, 17, 84, 3, 9, 7, 60, 1, 70, 8, 92, 10, 7, 67, 61, 1, 21, 67, 53, 91, 39, 53, 16, 16, 89, 95, 72, 62, 67, 21, 72, 65, 24, 82, 26, 16, 76, 3, 28, 91, 57, 45, 57, 9, 55, 39, 9, 64, 33, 22, 67, 55, 48, 34, 96, 57, 91, 2, 19, 11, 89, 67, 85, 85, 83, 11, 1, 78, 91, 23, 28, 67, 83, 7, 12, 74, 78, 67, 11, 62, 77, 6, 12, 25, 6, 17, 93, 88, 93, 53, 64, 86, 12, 96, 7, 25, 90, 2, 35, 24, 74, 87, 55, 88, 80, 67, 41, 25, 80, 1, 11, 7, 27, 1, 48, 15, 57, 43, 25, 3, 62, 9, 31, 28, 41, 39, 68, 15, 17, 15, 67, 8, 25, 46, 3, 64, 77, 77, 88, 92, 67, 65, 88, 59, 95, 58, 78, 1, 71, 17, 16, 25, 2, 82, 68, 71, 20, 67, 7, 34, 56, 67, 5, 60, 73, 47, 18, 10, 91, 19, 71, 79, 72, 55, 9, 11, 22, 28, 28, 29, 69, 63, 36, 74, 23, 95, 60, 52, 29, 33, 62, 46, 44, 48, 22, 6, 59, 17, 55, 10, 28, 11, 3, 9, 41, 80, 55, 25, 43, 77, 65, 76, 44, 28, 89, 38, 19, 1, 52, 18, 16, 20, 60, 28, 22, 12, 91, 60, 62, 57, 81, 16, 82, 91, 1, 95, 23, 83, 29, 83, 17, 92, 46, 21, 67, 35, 8, 36, 73, 28, 9, 40, 13, 78, 83, 7, 68, 9, 46, 52, 39, 77, 62, 52, 81, 74, 78, 28, 17, 73, 88, 35, 85, 32, 7, 44, 2, 81, 75, 13, 86, 91, 60, 47, 92, 61, 22, 88, 63, 74, 51, 66, 72, 18, 78, 21, 48, 2, 22, 20, 34, 33, 2, 65, 14, 67, 24, 5, 65, 29, 4, 20, 63, 44, 71, 52, 28, 83, 78, 62, 3, 87, 87, 29, 29, 13, 49, 29, 57, 39, 83, 93, 91, 72, 22, 5, 82, 41, 35, 53, 58, 21, 65, 15, 25, 52, 47, 35, 25, 41, 35, 8, 43, 83, 96, 28, 91, 28, 38, 52, 27, 82, 77, 84, 91, 7, 11, 31, 26, 17, 66, 91, 64, 12, 35, 73, 14, 86, 10, 3, 81, 25, 1, 37, 84, 90, 41, 45, 61, 77, 65, 25, 53, 84, 41, 21, 26, 28, 59, 30, 89, 96, 77, 31, 7, 67, 74, 3, 2, 67, 6, 71, 84, 5, 36, 22, 5, 48, 68, 34, 47, 92, 9, 54, 40, 74, 70, 14, 56, 54, 36, 68, 66, 68, 67, 28, 41, 67, 73, 89, 28, 66, 10, 96, 76, 14, 84, 11, 11, 67, 87, 28, 36, 47, 24, 46, 58, 0, 62, 11, 51, 72, 7, 27, 81, 66, 84, 7, 78, 26, 85, 68, 44, 67, 65, 54, 29, 10, 9, 46, 27, 15, 67, 29, 25, 88, 11, 41, 33, 17, 67, 14, 13, 89, 91, 54, 55, 24, 12, 29, 60, 64, 75, 88, 48, 84, 24, 10, 28, 52, 9, 91, 67, 45, 39, 53, 61, 1, 80, 1, 57, 38, 10, 90, 5, 73, 67, 91, 17, 10, 72, 46, 2, 38, 7, 70, 79, 33, 87, 84, 4, 73, 67, 88, 86, 67, 94, 41, 38, 46, 96, 95, 76, 43, 60, 9, 90, 71, 47, 3, 29, 29, 52, 15, 46, 28, 16, 64, 48, 73, 39, 17, 41, 8, 73, 84, 69, 91, 42, 29, 53, 15, 46, 60, 93, 61, 57, 27, 71, 67, 46, 79, 2, 15, 29, 82, 69, 31, 54, 76, 25, 36, 42, 28, 61, 28, 28, 65, 42, 2, 28, 72, 74, 34, 42, 13, 2, 91, 56, 9, 92, 83, 18, 95, 87, 7, 80, 78, 50, 95, 10, 77, 90, 59, 32, 91, 70, 62, 30, 67, 20, 52, 46, 17, 11, 61, 73, 7, 78, 91, 7, 81, 72, 71, 28, 12, 21, 21, 11, 13, 47, 28, 60, 72, 9, 26, 88, 17, 73, 80, 61, 4, 17, 96, 88, 12, 67, 76, 87, 93, 35, 2, 23, 48, 5, 73, 2, 72, 54, 15, 37, 50, 24, 8, 0, 65, 69, 48, 83, 80, 49, 20, 9, 80, 16, 57, 30, 44, 5, 12, 67, 55, 52, 31, 90, 90, 7, 17, 67, 3, 95, 48, 58, 67, 44, 96, 77, 67, 33, 31, 11, 39, 2, 28, 14, 44, 59, 77, 2, 90, 49, 92, 5, 46, 41, 23, 96, 1, 83, 90, 50, 2, 48, 29, 67, 46, 28, 49, 39, 34, 37, 93, 48, 88, 36, 30, 71, 86, 75, 40, 96, 76, 8, 29, 89, 24, 91, 77, 59, 39, 34, 45, 54, 77, 16, 24, 84, 24, 5, 30, 8, 43, 33, 52, 70, 84, 16, 7, 16, 30, 74, 25, 91, 72, 85, 21, 44, 86, 4, 91, 54, 68, 81, 44, 95, 5, 84, 47, 79, 66, 22, 9, 30, 81, 28, 2, 52, 92, 28, 20, 10, 17, 56, 22, 35, 67, 74, 72, 79, 92, 88, 10, 48, 73, 5, 50, 2, 49, 47, 72, 96, 92, 52, 76, 21, 46, 29, 94, 28, 77, 45, 11, 72, 26, 77, 2, 41, 63, 91, 2, 9, 22, 22, 45, 83, 28, 17, 74, 28, 21, 71, 85, 1, 59, 91, 13, 56, 62, 46, 89, 73, 93, 7, 26, 24, 71, 32, 67, 91]\n"
     ]
    }
   ],
   "source": [
    "x_train, y_train = np.array([t[\"x\"] for t in train]), [t[\"y\"] for t in train]\n",
    "x_val, y_val = np.array([t[\"x\"] for t in val]), [t[\"y\"] for t in val]\n",
    "x_test, y_test = np.array([t[\"x\"] for t in test]), [t[\"y\"] for t in test]\n",
    "print(y_test)"
   ]
  },
  {
   "cell_type": "markdown",
   "metadata": {
    "colab_type": "text",
    "id": "qNohMKd0mOvl"
   },
   "source": [
    "Pre-process the data as before by making sure it's float32 and normalized between 0 and 1."
   ]
  },
  {
   "cell_type": "code",
   "execution_count": 9,
   "metadata": {
    "colab": {
     "base_uri": "https://localhost:8080/",
     "height": 0
    },
    "colab_type": "code",
    "id": "NzTIUEYc-cUT",
    "outputId": "5ee298a9-5987-488f-b5a9-3fc32a88d0c5"
   },
   "outputs": [
    {
     "name": "stdout",
     "output_type": "stream",
     "text": [
      "(932, 97)\n"
     ]
    }
   ],
   "source": [
    "# normalize data\n",
    "x_train = x_train.astype('float32') / 255.\n",
    "x_val = x_val.astype('float32') / 255.\n",
    "x_test = x_test.astype('float32') / 255.\n",
    "\n",
    "# convert labels to one-hot vectors\n",
    "y_train = keras.utils.to_categorical(y_train, num_classes)\n",
    "y_val = keras.utils.to_categorical(y_val, num_classes)\n",
    "y_test = keras.utils.to_categorical(y_test, num_classes)\n",
    "print(y_test.shape)"
   ]
  },
  {
   "cell_type": "markdown",
   "metadata": {
    "colab_type": "text",
    "id": "IkGfOf6cmd0_"
   },
   "source": [
    "Let's get a summary of what we have."
   ]
  },
  {
   "cell_type": "code",
   "execution_count": 10,
   "metadata": {
    "colab": {
     "base_uri": "https://localhost:8080/",
     "height": 0
    },
    "colab_type": "code",
    "id": "u7eexzw7-gx8",
    "outputId": "1065f655-234d-47f1-b451-2aa2fe067704"
   },
   "outputs": [
    {
     "name": "stdout",
     "output_type": "stream",
     "text": [
      "finished loading 6209 images from 97 categories\n",
      "train / validation / test split: 4346, 931, 932\n",
      "training data shape:  (4346, 224, 224, 3)\n",
      "training labels shape:  (4346, 97)\n"
     ]
    }
   ],
   "source": [
    "# summary\n",
    "print(\"finished loading %d images from %d categories\"%(len(data), num_classes))\n",
    "print(\"train / validation / test split: %d, %d, %d\"%(len(x_train), len(x_val), len(x_test)))\n",
    "print(\"training data shape: \", x_train.shape)\n",
    "print(\"training labels shape: \", y_train.shape)"
   ]
  },
  {
   "cell_type": "markdown",
   "metadata": {
    "colab_type": "text",
    "id": "IWCd7ZkqmqsY"
   },
   "source": [
    "Let's quickly look at a few sample images from our dataset."
   ]
  },
  {
   "cell_type": "code",
   "execution_count": 11,
   "metadata": {
    "colab": {
     "base_uri": "https://localhost:8080/",
     "height": 0
    },
    "colab_type": "code",
    "id": "fhYmVDhv-k12",
    "outputId": "615d4b5d-040b-4379-e4ac-2be461cfe87e"
   },
   "outputs": [
    {
     "data": {
      "text/plain": [
       "<matplotlib.image.AxesImage at 0x7fdd6b6367b8>"
      ]
     },
     "execution_count": 11,
     "metadata": {
      "tags": []
     },
     "output_type": "execute_result"
    },
    {
     "data": {
      "image/png": "[encoded data removed]",
      "text/plain": [
       "<Figure size 1152x288 with 1 Axes>"
      ]
     },
     "metadata": {
      "needs_background": "light",
      "tags": []
     },
     "output_type": "display_data"
    }
   ],
   "source": [
    "images = [os.path.join(dp, f) for dp, dn, filenames in os.walk(root) for f in filenames if os.path.splitext(f)[1].lower() in ['.jpg','.png','.jpeg']]\n",
    "idx = [int(len(images) * random.random()) for i in range(8)]\n",
    "imgs = [image.load_img(images[i], target_size=(224, 224)) for i in idx]\n",
    "concat_image = np.concatenate([np.asarray(img) for img in imgs], axis=1)\n",
    "plt.figure(figsize=(16,4))\n",
    "plt.imshow(concat_image)"
   ]
  },
  {
   "cell_type": "markdown",
   "metadata": {
    "colab_type": "text",
    "id": "5ffQK9lZcy-m"
   },
   "source": [
    "## Training Convolutional Neural Network from Scratch\n",
    "\n",
    "Now that we have downloaded and preprocessed the Caltech-101 dataset, we can now use the data to train two simple CNNs from scratch. We will build two versions of CNNs: one without dropout layers and one with dropout layers. Both networks will have the same architecture so we can compare their performance against each other and see the effect of using dropout layers on a network. Our networks will have two convolution layers and two maxpooling layers."
   ]
  },
  {
   "cell_type": "markdown",
   "metadata": {
    "colab_type": "text",
    "id": "uyrLUyscd1r2"
   },
   "source": [
    "### Building Convolutional Neural Network without Dropouts\n",
    "\n",
    "We will build the CNN without dropout layers first. As mentioned above, the network will contain two convolution layers and two maxpooling layers.\n",
    "\n",
    "Since we are working on small images only, we are going to use a small amount of filters. We would also like to identify small and local features on those images so we explore different options for the kernel size of the convolution layer and the pool size of the maxpool layer below:\n",
    "* `kernel_size=(3, 3)` with `pool_size=(2, 2)`\n",
    "* `kernel_size=(5, 5)` with `pool_size=(3, 3)`\n",
    "\n",
    "We choose the `padding='same'` option to capture any important features that might sit on the border of our images. We proceed with creating the simple CNN with `kernel_size=(3, 3)`, `pool_size=(2, 2)` and two hidden layers. Due to computational limitations, the hidden layers will only have 512 neurons. The loss function will be `categorical_crossentropy` with the `Adam` optimizer with learning rate of 0.0003."
   ]
  },
  {
   "cell_type": "markdown",
   "metadata": {
    "colab_type": "text",
    "id": "-jn7-2F279j8"
   },
   "source": [
    "#### 3 by 3 Kernel Size"
   ]
  },
  {
   "cell_type": "code",
   "execution_count": 0,
   "metadata": {
    "colab": {},
    "colab_type": "code",
    "id": "0ORoLXHgqMg4"
   },
   "outputs": [],
   "source": [
    "Dense_ = partial(keras.layers.Dense, activation='relu', kernel_initializer='he_normal')\n",
    "Conv_ = partial(keras.layers.Conv2D, activation='relu', padding='same')\n",
    "Maxpool_ = partial(keras.layers.MaxPooling2D, pool_size=(2, 2), padding='same')\n",
    "Dropout_ = partial(keras.layers.Dropout, rate=0.5)"
   ]
  },
  {
   "cell_type": "code",
   "execution_count": 13,
   "metadata": {
    "colab": {
     "base_uri": "https://localhost:8080/",
     "height": 442
    },
    "colab_type": "code",
    "id": "AMTy8t7qqgII",
    "outputId": "794e0790-8e16-4cca-c784-cac0d6c09b4f"
   },
   "outputs": [
    {
     "name": "stdout",
     "output_type": "stream",
     "text": [
      "Input dimensions:  (224, 224, 3)\n",
      "Model: \"sequential_1\"\n",
      "_________________________________________________________________\n",
      "Layer (type)                 Output Shape              Param #   \n",
      "=================================================================\n",
      "conv2d_1 (Conv2D)            (None, 224, 224, 32)      896       \n",
      "_________________________________________________________________\n",
      "max_pooling2d_1 (MaxPooling2 (None, 112, 112, 32)      0         \n",
      "_________________________________________________________________\n",
      "conv2d_2 (Conv2D)            (None, 112, 112, 64)      18496     \n",
      "_________________________________________________________________\n",
      "max_pooling2d_2 (MaxPooling2 (None, 56, 56, 64)        0         \n",
      "_________________________________________________________________\n",
      "flatten_1 (Flatten)          (None, 200704)            0         \n",
      "_________________________________________________________________\n",
      "dense_1 (Dense)              (None, 512)               102760960 \n",
      "_________________________________________________________________\n",
      "dense_2 (Dense)              (None, 512)               262656    \n",
      "_________________________________________________________________\n",
      "dense_3 (Dense)              (None, 97)                49761     \n",
      "=================================================================\n",
      "Total params: 103,092,769\n",
      "Trainable params: 103,092,769\n",
      "Non-trainable params: 0\n",
      "_________________________________________________________________\n"
     ]
    }
   ],
   "source": [
    "model_nodrop_3 = keras.models.Sequential([\n",
    "                    Conv_(32, (3, 3), input_shape=x_train.shape[1:]),\n",
    "                    Maxpool_(),\n",
    "                    Conv_(64, (3, 3)),\n",
    "                    Maxpool_(),\n",
    "                    keras.layers.Flatten(),\n",
    "                    Dense_(512),\n",
    "                    Dense_(512),\n",
    "                    Dense_(num_classes, activation='softmax',kernel_initializer='glorot_uniform')\n",
    "])\n",
    "\n",
    "model_nodrop_3.compile(loss='categorical_crossentropy',\n",
    "                       optimizer=keras.optimizers.Adam(learning_rate=3e-4),\n",
    "                       metrics=['accuracy'])\n",
    "\n",
    "print(\"Input dimensions: \",x_train.shape[1:])\n",
    "model_nodrop_3.summary()"
   ]
  },
  {
   "cell_type": "markdown",
   "metadata": {
    "colab_type": "text",
    "id": "doDdk2UG8NxH"
   },
   "source": [
    "The network we constructed has 103 million parameters which may not be computationally efficient given the limitations of Colab. We train the model with `batch_size=128` and `epochs=100`. We also employ early stopping and checkpointing to stop the algorithm once we do not observe any significant change in the validation loss."
   ]
  },
  {
   "cell_type": "code",
   "execution_count": 14,
   "metadata": {
    "colab": {
     "base_uri": "https://localhost:8080/",
     "height": 544
    },
    "colab_type": "code",
    "id": "xyGlU50N_1kg",
    "outputId": "3ae2c2ba-c997-489b-e1e0-605610c925ac"
   },
   "outputs": [
    {
     "name": "stdout",
     "output_type": "stream",
     "text": [
      "Train on 4346 samples, validate on 931 samples\n",
      "Epoch 1/100\n",
      "4346/4346 [==============================] - 8s 2ms/step - loss: 4.5401 - accuracy: 0.0792 - val_loss: 4.0009 - val_accuracy: 0.1493\n",
      "Epoch 2/100\n",
      "4346/4346 [==============================] - 5s 1ms/step - loss: 3.5269 - accuracy: 0.2338 - val_loss: 3.3456 - val_accuracy: 0.2932\n",
      "Epoch 3/100\n",
      "4346/4346 [==============================] - 6s 1ms/step - loss: 2.5403 - accuracy: 0.4225 - val_loss: 3.0330 - val_accuracy: 0.3416\n",
      "Epoch 4/100\n",
      "4346/4346 [==============================] - 5s 1ms/step - loss: 1.5880 - accuracy: 0.6454 - val_loss: 2.9044 - val_accuracy: 0.4017\n",
      "Epoch 5/100\n",
      "4346/4346 [==============================] - 5s 1ms/step - loss: 0.8892 - accuracy: 0.8132 - val_loss: 2.8097 - val_accuracy: 0.4017\n",
      "Epoch 6/100\n",
      "4346/4346 [==============================] - 5s 1ms/step - loss: 0.4083 - accuracy: 0.9225 - val_loss: 3.1591 - val_accuracy: 0.3727\n",
      "Epoch 7/100\n",
      "4346/4346 [==============================] - 5s 1ms/step - loss: 0.1808 - accuracy: 0.9770 - val_loss: 3.0428 - val_accuracy: 0.4307\n",
      "Epoch 8/100\n",
      "4346/4346 [==============================] - 5s 1ms/step - loss: 0.0653 - accuracy: 0.9956 - val_loss: 3.2046 - val_accuracy: 0.4157\n",
      "Epoch 9/100\n",
      "4346/4346 [==============================] - 5s 1ms/step - loss: 0.0288 - accuracy: 0.9986 - val_loss: 3.2492 - val_accuracy: 0.4372\n",
      "Epoch 10/100\n",
      "4346/4346 [==============================] - 5s 1ms/step - loss: 0.0428 - accuracy: 0.9940 - val_loss: 3.4715 - val_accuracy: 0.4082\n",
      "Epoch 11/100\n",
      "4346/4346 [==============================] - 5s 1ms/step - loss: 0.0205 - accuracy: 0.9984 - val_loss: 3.2237 - val_accuracy: 0.4425\n",
      "Epoch 12/100\n",
      "4346/4346 [==============================] - 5s 1ms/step - loss: 0.0073 - accuracy: 1.0000 - val_loss: 3.2338 - val_accuracy: 0.4576\n",
      "Epoch 13/100\n",
      "4346/4346 [==============================] - 5s 1ms/step - loss: 0.0039 - accuracy: 1.0000 - val_loss: 3.2437 - val_accuracy: 0.4479\n",
      "Epoch 14/100\n",
      "4346/4346 [==============================] - 5s 1ms/step - loss: 0.0028 - accuracy: 1.0000 - val_loss: 3.2850 - val_accuracy: 0.4511\n",
      "Epoch 15/100\n",
      "4346/4346 [==============================] - 5s 1ms/step - loss: 0.0023 - accuracy: 1.0000 - val_loss: 3.3151 - val_accuracy: 0.4501\n"
     ]
    }
   ],
   "source": [
    "history_nodrop_3 = model_nodrop_3.fit(x_train, y_train, \n",
    "                                      batch_size=128, epochs=100, \n",
    "                                      validation_data=(x_val, y_val),\n",
    "                                      callbacks=[keras.callbacks.ModelCheckpoint('cnn_nodrop.h5', save_best_only=True),\n",
    "                                                 keras.callbacks.EarlyStopping(patience=10, restore_best_weights=True)])"
   ]
  },
  {
   "cell_type": "code",
   "execution_count": 15,
   "metadata": {
    "colab": {
     "base_uri": "https://localhost:8080/",
     "height": 51
    },
    "colab_type": "code",
    "id": "U8aHDPRwjFW-",
    "outputId": "3fe70f49-bef6-4253-b571-d746ba6df769"
   },
   "outputs": [
    {
     "name": "stdout",
     "output_type": "stream",
     "text": [
      "Test loss: 3.067339804039493\n",
      "Test accuracy: 0.3540772497653961\n"
     ]
    }
   ],
   "source": [
    "loss_nodrop_3, accuracy_nodrop_3 = model_nodrop_3.evaluate(x_test, y_test, verbose=0)\n",
    "\n",
    "print('Test loss:', loss_nodrop_3)\n",
    "print('Test accuracy:', accuracy_nodrop_3)"
   ]
  },
  {
   "cell_type": "markdown",
   "metadata": {
    "colab_type": "text",
    "id": "EXKMI2MqAfEl"
   },
   "source": [
    "#### 5 by 5 Kernel Size\n",
    "We now build a CNN with `kernel_size=(5, 5)` and `pool_size=(3, 3)` then compare its performance against the network above."
   ]
  },
  {
   "cell_type": "code",
   "execution_count": 16,
   "metadata": {
    "colab": {
     "base_uri": "https://localhost:8080/",
     "height": 442
    },
    "colab_type": "code",
    "id": "UMxkFMGtNV8x",
    "outputId": "69b79fff-07a6-47b9-e566-e70ff0ed0a6b"
   },
   "outputs": [
    {
     "name": "stdout",
     "output_type": "stream",
     "text": [
      "Input dimensions:  (224, 224, 3)\n",
      "Model: \"sequential_2\"\n",
      "_________________________________________________________________\n",
      "Layer (type)                 Output Shape              Param #   \n",
      "=================================================================\n",
      "conv2d_3 (Conv2D)            (None, 224, 224, 32)      2432      \n",
      "_________________________________________________________________\n",
      "max_pooling2d_3 (MaxPooling2 (None, 75, 75, 32)        0         \n",
      "_________________________________________________________________\n",
      "conv2d_4 (Conv2D)            (None, 75, 75, 64)        51264     \n",
      "_________________________________________________________________\n",
      "max_pooling2d_4 (MaxPooling2 (None, 25, 25, 64)        0         \n",
      "_________________________________________________________________\n",
      "flatten_2 (Flatten)          (None, 40000)             0         \n",
      "_________________________________________________________________\n",
      "dense_4 (Dense)              (None, 512)               20480512  \n",
      "_________________________________________________________________\n",
      "dense_5 (Dense)              (None, 512)               262656    \n",
      "_________________________________________________________________\n",
      "dense_6 (Dense)              (None, 97)                49761     \n",
      "=================================================================\n",
      "Total params: 20,846,625\n",
      "Trainable params: 20,846,625\n",
      "Non-trainable params: 0\n",
      "_________________________________________________________________\n"
     ]
    }
   ],
   "source": [
    "model_nodrop = keras.models.Sequential([\n",
    "                  Conv_(32, (5, 5), input_shape=x_train.shape[1:]),\n",
    "                  Maxpool_(pool_size=(3, 3)),\n",
    "                  Conv_(64, (5, 5)),\n",
    "                  Maxpool_(pool_size=(3, 3)),\n",
    "                  keras.layers.Flatten(),\n",
    "                  Dense_(512),\n",
    "                  Dense_(512),\n",
    "                  Dense_(num_classes, activation='softmax', kernel_initializer='glorot_uniform')\n",
    "])\n",
    "\n",
    "model_nodrop.compile(loss='categorical_crossentropy',\n",
    "                     optimizer=keras.optimizers.Adam(learning_rate=3e-4),\n",
    "                     metrics=['accuracy'])\n",
    "\n",
    "print(\"Input dimensions: \",x_train.shape[1:])\n",
    "model_nodrop.summary()"
   ]
  },
  {
   "cell_type": "markdown",
   "metadata": {
    "colab_type": "text",
    "id": "h6tUIKbnC_yT"
   },
   "source": [
    "The network only contains 20.8 million trainable parameters, almost an 80% decrease compared to the network with `kernel_size=(3, 3)`. "
   ]
  },
  {
   "cell_type": "code",
   "execution_count": 17,
   "metadata": {
    "colab": {
     "base_uri": "https://localhost:8080/",
     "height": 510
    },
    "colab_type": "code",
    "id": "ABu9UXAbNmAN",
    "outputId": "ac14e160-c913-4d93-bb8c-8abe07935bea"
   },
   "outputs": [
    {
     "name": "stdout",
     "output_type": "stream",
     "text": [
      "Train on 4346 samples, validate on 931 samples\n",
      "Epoch 1/100\n",
      "4346/4346 [==============================] - 5s 1ms/step - loss: 4.2675 - accuracy: 0.1019 - val_loss: 3.7326 - val_accuracy: 0.2159\n",
      "Epoch 2/100\n",
      "4346/4346 [==============================] - 4s 912us/step - loss: 3.2395 - accuracy: 0.2814 - val_loss: 3.0733 - val_accuracy: 0.3405\n",
      "Epoch 3/100\n",
      "4346/4346 [==============================] - 4s 912us/step - loss: 2.3923 - accuracy: 0.4471 - val_loss: 2.8019 - val_accuracy: 0.3813\n",
      "Epoch 4/100\n",
      "4346/4346 [==============================] - 4s 915us/step - loss: 1.7078 - accuracy: 0.5838 - val_loss: 2.6258 - val_accuracy: 0.4189\n",
      "Epoch 5/100\n",
      "4346/4346 [==============================] - 4s 916us/step - loss: 1.0898 - accuracy: 0.7326 - val_loss: 2.6645 - val_accuracy: 0.4318\n",
      "Epoch 6/100\n",
      "4346/4346 [==============================] - 4s 912us/step - loss: 0.5734 - accuracy: 0.8642 - val_loss: 2.7809 - val_accuracy: 0.4672\n",
      "Epoch 7/100\n",
      "4346/4346 [==============================] - 4s 913us/step - loss: 0.2567 - accuracy: 0.9494 - val_loss: 3.0146 - val_accuracy: 0.4737\n",
      "Epoch 8/100\n",
      "4346/4346 [==============================] - 4s 911us/step - loss: 0.1071 - accuracy: 0.9839 - val_loss: 3.2454 - val_accuracy: 0.4844\n",
      "Epoch 9/100\n",
      "4346/4346 [==============================] - 4s 913us/step - loss: 0.0614 - accuracy: 0.9903 - val_loss: 3.3371 - val_accuracy: 0.4586\n",
      "Epoch 10/100\n",
      "4346/4346 [==============================] - 4s 913us/step - loss: 0.0287 - accuracy: 0.9972 - val_loss: 3.5133 - val_accuracy: 0.4758\n",
      "Epoch 11/100\n",
      "4346/4346 [==============================] - 4s 917us/step - loss: 0.0133 - accuracy: 0.9993 - val_loss: 3.5147 - val_accuracy: 0.4919\n",
      "Epoch 12/100\n",
      "4346/4346 [==============================] - 4s 911us/step - loss: 0.0056 - accuracy: 1.0000 - val_loss: 3.5689 - val_accuracy: 0.4823\n",
      "Epoch 13/100\n",
      "4346/4346 [==============================] - 4s 912us/step - loss: 0.0030 - accuracy: 1.0000 - val_loss: 3.6875 - val_accuracy: 0.4844\n",
      "Epoch 14/100\n",
      "4346/4346 [==============================] - 4s 913us/step - loss: 0.0022 - accuracy: 1.0000 - val_loss: 3.7536 - val_accuracy: 0.4844\n"
     ]
    }
   ],
   "source": [
    "history_nodrop = model_nodrop.fit(x_train, y_train, \n",
    "                                  batch_size=128, \n",
    "                                  epochs=100, \n",
    "                                  validation_data=(x_val, y_val),\n",
    "                                  callbacks=[keras.callbacks.ModelCheckpoint('cnn_nodrop.h5', save_best_only=True),\n",
    "                                             keras.callbacks.EarlyStopping(patience=10, restore_best_weights=True)])"
   ]
  },
  {
   "cell_type": "code",
   "execution_count": 18,
   "metadata": {
    "colab": {
     "base_uri": "https://localhost:8080/",
     "height": 51
    },
    "colab_type": "code",
    "id": "-ldibUlxNo68",
    "outputId": "5e67d7c8-67d7-468a-8871-fcac3b391651"
   },
   "outputs": [
    {
     "name": "stdout",
     "output_type": "stream",
     "text": [
      "Test loss: 2.833567216928425\n",
      "Test accuracy: 0.3744635283946991\n"
     ]
    }
   ],
   "source": [
    "loss_nodrop_train, accuracy_nodrop_train = model_nodrop.evaluate(x_train, y_train, verbose=0)\n",
    "loss_nodrop_val, accuracy_nodrop_val = model_nodrop.evaluate(x_val, y_val, verbose=0)\n",
    "loss_nodrop_test, accuracy_nodrop_test = model_nodrop.evaluate(x_test, y_test, verbose=0)\n",
    "\n",
    "print('Test loss:', loss_nodrop_test)\n",
    "print('Test accuracy:', accuracy_nodrop_test)"
   ]
  },
  {
   "cell_type": "code",
   "execution_count": 0,
   "metadata": {
    "colab": {},
    "colab_type": "code",
    "id": "dhbsBd-SjjWY"
   },
   "outputs": [],
   "source": [
    "nodrop_3 = pd.DataFrame(history_nodrop_3.history)\n",
    "nodrop_3['category'] = 'no_dropout_3'\n",
    "nodrop_3['epoch'] = range(len(nodrop_3))\n",
    "nodrop = pd.DataFrame(history_nodrop.history)\n",
    "nodrop['category'] = 'no_dropout_5'\n",
    "nodrop['epoch'] = range(len(nodrop))"
   ]
  },
  {
   "cell_type": "code",
   "execution_count": 20,
   "metadata": {
    "colab": {
     "base_uri": "https://localhost:8080/",
     "height": 204
    },
    "colab_type": "code",
    "id": "b4HbtzoZB9bi",
    "outputId": "e0bad39a-6df4-4a8f-9ddb-bcb8818bc7df"
   },
   "outputs": [
    {
     "data": {
      "text/html": [
       "<div>\n",
       "<style scoped>\n",
       "    .dataframe tbody tr th:only-of-type {\n",
       "        vertical-align: middle;\n",
       "    }\n",
       "\n",
       "    .dataframe tbody tr th {\n",
       "        vertical-align: top;\n",
       "    }\n",
       "\n",
       "    .dataframe thead th {\n",
       "        text-align: right;\n",
       "    }\n",
       "</style>\n",
       "<table border=\"1\" class=\"dataframe\">\n",
       "  <thead>\n",
       "    <tr style=\"text-align: right;\">\n",
       "      <th></th>\n",
       "      <th>val_loss</th>\n",
       "      <th>val_accuracy</th>\n",
       "      <th>loss</th>\n",
       "      <th>accuracy</th>\n",
       "      <th>category</th>\n",
       "      <th>epoch</th>\n",
       "    </tr>\n",
       "  </thead>\n",
       "  <tbody>\n",
       "    <tr>\n",
       "      <th>0</th>\n",
       "      <td>4.000906</td>\n",
       "      <td>0.149302</td>\n",
       "      <td>4.540120</td>\n",
       "      <td>0.079153</td>\n",
       "      <td>no_dropout_3</td>\n",
       "      <td>1</td>\n",
       "    </tr>\n",
       "    <tr>\n",
       "      <th>1</th>\n",
       "      <td>3.345588</td>\n",
       "      <td>0.293233</td>\n",
       "      <td>3.526884</td>\n",
       "      <td>0.233778</td>\n",
       "      <td>no_dropout_3</td>\n",
       "      <td>2</td>\n",
       "    </tr>\n",
       "    <tr>\n",
       "      <th>2</th>\n",
       "      <td>3.033037</td>\n",
       "      <td>0.341568</td>\n",
       "      <td>2.540289</td>\n",
       "      <td>0.422457</td>\n",
       "      <td>no_dropout_3</td>\n",
       "      <td>3</td>\n",
       "    </tr>\n",
       "    <tr>\n",
       "      <th>3</th>\n",
       "      <td>2.904409</td>\n",
       "      <td>0.401719</td>\n",
       "      <td>1.587993</td>\n",
       "      <td>0.645421</td>\n",
       "      <td>no_dropout_3</td>\n",
       "      <td>4</td>\n",
       "    </tr>\n",
       "    <tr>\n",
       "      <th>4</th>\n",
       "      <td>2.809665</td>\n",
       "      <td>0.401719</td>\n",
       "      <td>0.889192</td>\n",
       "      <td>0.813162</td>\n",
       "      <td>no_dropout_3</td>\n",
       "      <td>5</td>\n",
       "    </tr>\n",
       "  </tbody>\n",
       "</table>\n",
       "</div>"
      ],
      "text/plain": [
       "   val_loss  val_accuracy      loss  accuracy      category  epoch\n",
       "0  4.000906      0.149302  4.540120  0.079153  no_dropout_3      1\n",
       "1  3.345588      0.293233  3.526884  0.233778  no_dropout_3      2\n",
       "2  3.033037      0.341568  2.540289  0.422457  no_dropout_3      3\n",
       "3  2.904409      0.401719  1.587993  0.645421  no_dropout_3      4\n",
       "4  2.809665      0.401719  0.889192  0.813162  no_dropout_3      5"
      ]
     },
     "execution_count": 20,
     "metadata": {
      "tags": []
     },
     "output_type": "execute_result"
    }
   ],
   "source": [
    "simple_cnn = nodrop_3.append(nodrop)\n",
    "simple_cnn.epoch = simple_cnn.epoch + 1\n",
    "simple_cnn.head()"
   ]
  },
  {
   "cell_type": "code",
   "execution_count": 21,
   "metadata": {
    "colab": {
     "base_uri": "https://localhost:8080/",
     "height": 459
    },
    "colab_type": "code",
    "id": "wZmQ1awhCOVZ",
    "outputId": "6113bbe2-e1d9-443b-d2f9-3bc6f7aa068f"
   },
   "outputs": [
    {
     "data": {
      "text/plain": [
       "<matplotlib.axes._subplots.AxesSubplot at 0x7fdcf47ae630>"
      ]
     },
     "execution_count": 21,
     "metadata": {
      "tags": []
     },
     "output_type": "execute_result"
    },
    {
     "data": {
      "image/png": "[encoded data removed]",
      "text/plain": [
       "<Figure size 1080x504 with 4 Axes>"
      ]
     },
     "metadata": {
      "needs_background": "light",
      "tags": []
     },
     "output_type": "display_data"
    }
   ],
   "source": [
    "fig, axs = plt.subplots(ncols=2, nrows=2, figsize=(15,7))\n",
    "sns.lineplot(x='epoch', y='accuracy', data=simple_cnn, hue='category', ax=axs[0, 0])\n",
    "sns.lineplot(x='epoch', y='loss', data=simple_cnn, hue='category', ax=axs[0, 1])\n",
    "sns.lineplot(x='epoch', y='val_accuracy', data=simple_cnn, hue='category', ax=axs[1, 0])\n",
    "sns.lineplot(x='epoch', y='val_loss', data=simple_cnn, hue='category', ax=axs[1, 1])"
   ]
  },
  {
   "cell_type": "markdown",
   "metadata": {
    "colab_type": "text",
    "id": "eXTn1eqTCk7E"
   },
   "source": [
    "Comparing the performance of the networks with no dropout layers and taking to account the computational capacity of Colab, we choose the network with `kernel_size=(5, 5)` and `pool_size=(3, 3)`. We will these parameters when building the network with dropouts below."
   ]
  },
  {
   "cell_type": "markdown",
   "metadata": {
    "colab_type": "text",
    "id": "KtoWwbx4d-zN"
   },
   "source": [
    "### Building Convolutional Neural Network with Dropouts\n",
    "We replicate the architecture of the network with `kernel_size=(5, 5)` constructed above and insert three dropout layers, one layer will be placed before the flatten layer and two layers after it. For the dropout rate, we choose from [0.3, 0.4, 0.5, 0.6, 0.7] using `GridSearchCV()`."
   ]
  },
  {
   "cell_type": "code",
   "execution_count": 0,
   "metadata": {
    "colab": {},
    "colab_type": "code",
    "id": "72D2c4CkV9u3"
   },
   "outputs": [],
   "source": [
    "def create_model(dropout=0.5):\n",
    "  K.clear_session()\n",
    "  model = keras.models.Sequential([\n",
    "                Conv_(32, (5, 5), input_shape=x_train.shape[1:]),\n",
    "                Maxpool_(pool_size=(3, 3)),\n",
    "                Conv_(64, (5, 5)),\n",
    "                Maxpool_(pool_size=(3, 3)),\n",
    "                Dropout_(rate=dropout),\n",
    "                keras.layers.Flatten(),\n",
    "                Dense_(512),\n",
    "                Dropout_(rate=dropout),\n",
    "                Dense_(512),\n",
    "                Dropout_(rate=dropout),\n",
    "                Dense_(num_classes, activation='softmax', kernel_initializer='glorot_uniform')\n",
    "  ])\n",
    "  model.compile(loss='categorical_crossentropy',\n",
    "                optimizer=keras.optimizers.Adam(learning_rate=3e-4),\n",
    "                metrics=['accuracy'])\n",
    "  return model"
   ]
  },
  {
   "cell_type": "markdown",
   "metadata": {
    "colab_type": "text",
    "id": "pE4oMq3yHB9V"
   },
   "source": [
    "**Note:** The cell below executes very slowly, so I recommend not running them at all. The result of the `GridSearchCV()` for the best dropout rate is 0.7."
   ]
  },
  {
   "cell_type": "code",
   "execution_count": 0,
   "metadata": {
    "colab": {
     "base_uri": "https://localhost:8080/",
     "height": 119
    },
    "colab_type": "code",
    "id": "qkHjp8ZNWMtt",
    "outputId": "a58bb0f3-1534-4bda-e7b8-f3dc01009bf7"
   },
   "outputs": [
    {
     "name": "stdout",
     "output_type": "stream",
     "text": [
      "Best: 0.468475 using {'dropout': 0.7}\n",
      "0.420619 (0.011167) with : {'dropout': 0.3}\n",
      "0.402440 (0.017592) with : {'dropout': 0.4}\n",
      "0.429817 (0.010533) with : {'dropout': 0.5}\n",
      "0.463646 (0.016344) with : {'dropout': 0.6}\n",
      "0.468475 (0.011381) with : {'dropout': 0.7}\n"
     ]
    }
   ],
   "source": [
    "model_drop = KerasClassifier(build_fn=create_model, verbose=0)\n",
    "dropout_rate = [0.3, 0.4, 0.5, 0.6, 0.7]\n",
    "\n",
    "grid = GridSearchCV(estimator=model_drop, param_grid=dict(dropout=dropout_rate), cv=3)\n",
    "grid_result = grid.fit(x_train, y_train,\n",
    "                       epochs=100, batch_size=128,\n",
    "                       validation_data=(x_val, y_val),\n",
    "                       callbacks=[keras.callbacks.EarlyStopping(patience=10, restore_best_weights=True)])\n",
    "\n",
    "print('Best: %f using %s' % (grid_result.best_score_, grid_result.best_params_))\n",
    "means = grid_result.cv_results_['mean_test_score']\n",
    "stds = grid_result.cv_results_['std_test_score']\n",
    "params = grid_result.cv_results_['params']\n",
    "for mean, stdev, param in zip(means, stds, params):\n",
    "  print('%f (%f) with : %r' % (mean, stdev, param))"
   ]
  },
  {
   "cell_type": "markdown",
   "metadata": {
    "colab_type": "text",
    "id": "Xuxf3_YJHdaf"
   },
   "source": [
    "We train the network using the best dropout rate (`rate=0.7`) and the same parameters as the network with no dropouts executed earlier."
   ]
  },
  {
   "cell_type": "code",
   "execution_count": 23,
   "metadata": {
    "colab": {
     "base_uri": "https://localhost:8080/",
     "height": 544
    },
    "colab_type": "code",
    "id": "OTJYK0iDEUM8",
    "outputId": "f97748fa-defa-4d32-b8d3-15d04e231d9b"
   },
   "outputs": [
    {
     "name": "stdout",
     "output_type": "stream",
     "text": [
      "Input dimensions:  (224, 224, 3)\n",
      "Model: \"sequential_1\"\n",
      "_________________________________________________________________\n",
      "Layer (type)                 Output Shape              Param #   \n",
      "=================================================================\n",
      "conv2d_1 (Conv2D)            (None, 224, 224, 32)      2432      \n",
      "_________________________________________________________________\n",
      "max_pooling2d_1 (MaxPooling2 (None, 75, 75, 32)        0         \n",
      "_________________________________________________________________\n",
      "conv2d_2 (Conv2D)            (None, 75, 75, 64)        51264     \n",
      "_________________________________________________________________\n",
      "max_pooling2d_2 (MaxPooling2 (None, 25, 25, 64)        0         \n",
      "_________________________________________________________________\n",
      "dropout_1 (Dropout)          (None, 25, 25, 64)        0         \n",
      "_________________________________________________________________\n",
      "flatten_1 (Flatten)          (None, 40000)             0         \n",
      "_________________________________________________________________\n",
      "dense_1 (Dense)              (None, 512)               20480512  \n",
      "_________________________________________________________________\n",
      "dropout_2 (Dropout)          (None, 512)               0         \n",
      "_________________________________________________________________\n",
      "dense_2 (Dense)              (None, 512)               262656    \n",
      "_________________________________________________________________\n",
      "dropout_3 (Dropout)          (None, 512)               0         \n",
      "_________________________________________________________________\n",
      "dense_3 (Dense)              (None, 97)                49761     \n",
      "=================================================================\n",
      "Total params: 20,846,625\n",
      "Trainable params: 20,846,625\n",
      "Non-trainable params: 0\n",
      "_________________________________________________________________\n"
     ]
    }
   ],
   "source": [
    "model_drop = create_model(dropout=0.7)\n",
    "\n",
    "model_drop.compile(loss='categorical_crossentropy',\n",
    "                   optimizer=keras.optimizers.Adam(learning_rate=3e-4),\n",
    "                   metrics=['accuracy'])\n",
    "\n",
    "print(\"Input dimensions: \",x_train.shape[1:])\n",
    "model_drop.summary()"
   ]
  },
  {
   "cell_type": "code",
   "execution_count": 24,
   "metadata": {
    "colab": {
     "base_uri": "https://localhost:8080/",
     "height": 1000
    },
    "colab_type": "code",
    "id": "jYPFOxSHBKOJ",
    "outputId": "5507e37d-dd15-43a5-f65e-0051143bfe77"
   },
   "outputs": [
    {
     "name": "stdout",
     "output_type": "stream",
     "text": [
      "Train on 4346 samples, validate on 931 samples\n",
      "Epoch 1/100\n",
      "4346/4346 [==============================] - 4s 983us/step - loss: 4.6067 - accuracy: 0.0152 - val_loss: 4.5460 - val_accuracy: 0.0655\n",
      "Epoch 2/100\n",
      "4346/4346 [==============================] - 4s 925us/step - loss: 4.5436 - accuracy: 0.0315 - val_loss: 4.4769 - val_accuracy: 0.0709\n",
      "Epoch 3/100\n",
      "4346/4346 [==============================] - 4s 921us/step - loss: 4.4994 - accuracy: 0.0499 - val_loss: 4.4286 - val_accuracy: 0.0730\n",
      "Epoch 4/100\n",
      "4346/4346 [==============================] - 4s 971us/step - loss: 4.4382 - accuracy: 0.0621 - val_loss: 4.3073 - val_accuracy: 0.0784\n",
      "Epoch 5/100\n",
      "4346/4346 [==============================] - 4s 955us/step - loss: 4.3498 - accuracy: 0.0729 - val_loss: 4.1752 - val_accuracy: 0.1031\n",
      "Epoch 6/100\n",
      "4346/4346 [==============================] - 4s 961us/step - loss: 4.2571 - accuracy: 0.0918 - val_loss: 4.0948 - val_accuracy: 0.1375\n",
      "Epoch 7/100\n",
      "4346/4346 [==============================] - 4s 963us/step - loss: 4.1922 - accuracy: 0.1058 - val_loss: 4.0013 - val_accuracy: 0.1515\n",
      "Epoch 8/100\n",
      "4346/4346 [==============================] - 4s 963us/step - loss: 4.0847 - accuracy: 0.1224 - val_loss: 3.9085 - val_accuracy: 0.1762\n",
      "Epoch 9/100\n",
      "4346/4346 [==============================] - 4s 962us/step - loss: 4.0068 - accuracy: 0.1401 - val_loss: 3.7865 - val_accuracy: 0.1923\n",
      "Epoch 10/100\n",
      "4346/4346 [==============================] - 4s 955us/step - loss: 3.9029 - accuracy: 0.1578 - val_loss: 3.6942 - val_accuracy: 0.2331\n",
      "Epoch 11/100\n",
      "4346/4346 [==============================] - 4s 959us/step - loss: 3.8070 - accuracy: 0.1717 - val_loss: 3.5738 - val_accuracy: 0.2460\n",
      "Epoch 12/100\n",
      "4346/4346 [==============================] - 4s 956us/step - loss: 3.7078 - accuracy: 0.1868 - val_loss: 3.4772 - val_accuracy: 0.2460\n",
      "Epoch 13/100\n",
      "4346/4346 [==============================] - 4s 956us/step - loss: 3.6119 - accuracy: 0.2034 - val_loss: 3.4361 - val_accuracy: 0.2857\n",
      "Epoch 14/100\n",
      "4346/4346 [==============================] - 4s 962us/step - loss: 3.5304 - accuracy: 0.2156 - val_loss: 3.3316 - val_accuracy: 0.2986\n",
      "Epoch 15/100\n",
      "4346/4346 [==============================] - 4s 960us/step - loss: 3.4251 - accuracy: 0.2312 - val_loss: 3.2572 - val_accuracy: 0.3115\n",
      "Epoch 16/100\n",
      "4346/4346 [==============================] - 4s 964us/step - loss: 3.3297 - accuracy: 0.2464 - val_loss: 3.1651 - val_accuracy: 0.3394\n",
      "Epoch 17/100\n",
      "4346/4346 [==============================] - 4s 963us/step - loss: 3.2369 - accuracy: 0.2632 - val_loss: 3.1152 - val_accuracy: 0.3437\n",
      "Epoch 18/100\n",
      "4346/4346 [==============================] - 4s 957us/step - loss: 3.1900 - accuracy: 0.2715 - val_loss: 3.0720 - val_accuracy: 0.3663\n",
      "Epoch 19/100\n",
      "4346/4346 [==============================] - 4s 957us/step - loss: 3.1113 - accuracy: 0.2835 - val_loss: 2.9635 - val_accuracy: 0.3598\n",
      "Epoch 20/100\n",
      "4346/4346 [==============================] - 4s 956us/step - loss: 3.0059 - accuracy: 0.3021 - val_loss: 2.8784 - val_accuracy: 0.3749\n",
      "Epoch 21/100\n",
      "4346/4346 [==============================] - 4s 956us/step - loss: 2.9327 - accuracy: 0.3173 - val_loss: 2.8470 - val_accuracy: 0.4017\n",
      "Epoch 22/100\n",
      "4346/4346 [==============================] - 4s 955us/step - loss: 2.8363 - accuracy: 0.3311 - val_loss: 2.8076 - val_accuracy: 0.3963\n",
      "Epoch 23/100\n",
      "4346/4346 [==============================] - 4s 957us/step - loss: 2.7696 - accuracy: 0.3412 - val_loss: 2.7228 - val_accuracy: 0.4200\n",
      "Epoch 24/100\n",
      "4346/4346 [==============================] - 4s 945us/step - loss: 2.6394 - accuracy: 0.3665 - val_loss: 2.6710 - val_accuracy: 0.4211\n",
      "Epoch 25/100\n",
      "4346/4346 [==============================] - 4s 947us/step - loss: 2.5713 - accuracy: 0.3833 - val_loss: 2.6333 - val_accuracy: 0.4393\n",
      "Epoch 26/100\n",
      "4346/4346 [==============================] - 4s 950us/step - loss: 2.5379 - accuracy: 0.3810 - val_loss: 2.5983 - val_accuracy: 0.4479\n",
      "Epoch 27/100\n",
      "4346/4346 [==============================] - 4s 962us/step - loss: 2.4579 - accuracy: 0.3999 - val_loss: 2.5608 - val_accuracy: 0.4586\n",
      "Epoch 28/100\n",
      "4346/4346 [==============================] - 4s 956us/step - loss: 2.3943 - accuracy: 0.4137 - val_loss: 2.5576 - val_accuracy: 0.4608\n",
      "Epoch 29/100\n",
      "4346/4346 [==============================] - 4s 951us/step - loss: 2.2879 - accuracy: 0.4386 - val_loss: 2.5194 - val_accuracy: 0.4662\n",
      "Epoch 30/100\n",
      "4346/4346 [==============================] - 4s 946us/step - loss: 2.2093 - accuracy: 0.4505 - val_loss: 2.4223 - val_accuracy: 0.4791\n",
      "Epoch 31/100\n",
      "4346/4346 [==============================] - 4s 956us/step - loss: 2.1677 - accuracy: 0.4579 - val_loss: 2.4224 - val_accuracy: 0.4866\n",
      "Epoch 32/100\n",
      "4346/4346 [==============================] - 4s 954us/step - loss: 2.1068 - accuracy: 0.4740 - val_loss: 2.3889 - val_accuracy: 0.4995\n",
      "Epoch 33/100\n",
      "4346/4346 [==============================] - 4s 954us/step - loss: 2.0882 - accuracy: 0.4855 - val_loss: 2.4057 - val_accuracy: 0.5038\n",
      "Epoch 34/100\n",
      "4346/4346 [==============================] - 4s 959us/step - loss: 2.0184 - accuracy: 0.4899 - val_loss: 2.3846 - val_accuracy: 0.5016\n",
      "Epoch 35/100\n",
      "4346/4346 [==============================] - 4s 958us/step - loss: 1.9371 - accuracy: 0.5069 - val_loss: 2.3030 - val_accuracy: 0.5081\n",
      "Epoch 36/100\n",
      "4346/4346 [==============================] - 4s 961us/step - loss: 1.8738 - accuracy: 0.5205 - val_loss: 2.2687 - val_accuracy: 0.5070\n",
      "Epoch 37/100\n",
      "4346/4346 [==============================] - 4s 959us/step - loss: 1.8320 - accuracy: 0.5274 - val_loss: 2.2946 - val_accuracy: 0.5070\n",
      "Epoch 38/100\n",
      "4346/4346 [==============================] - 4s 958us/step - loss: 1.7451 - accuracy: 0.5502 - val_loss: 2.2772 - val_accuracy: 0.5220\n",
      "Epoch 39/100\n",
      "4346/4346 [==============================] - 4s 964us/step - loss: 1.7712 - accuracy: 0.5442 - val_loss: 2.2892 - val_accuracy: 0.5091\n",
      "Epoch 40/100\n",
      "4346/4346 [==============================] - 4s 958us/step - loss: 1.7045 - accuracy: 0.5578 - val_loss: 2.2571 - val_accuracy: 0.5124\n",
      "Epoch 41/100\n",
      "4346/4346 [==============================] - 4s 959us/step - loss: 1.6186 - accuracy: 0.5755 - val_loss: 2.2071 - val_accuracy: 0.5274\n",
      "Epoch 42/100\n",
      "4346/4346 [==============================] - 4s 956us/step - loss: 1.5771 - accuracy: 0.5817 - val_loss: 2.2125 - val_accuracy: 0.5188\n",
      "Epoch 43/100\n",
      "4346/4346 [==============================] - 4s 954us/step - loss: 1.5652 - accuracy: 0.5879 - val_loss: 2.2076 - val_accuracy: 0.5177\n",
      "Epoch 44/100\n",
      "4346/4346 [==============================] - 4s 953us/step - loss: 1.5480 - accuracy: 0.5980 - val_loss: 2.2044 - val_accuracy: 0.5177\n",
      "Epoch 45/100\n",
      "4346/4346 [==============================] - 4s 954us/step - loss: 1.4806 - accuracy: 0.6072 - val_loss: 2.1679 - val_accuracy: 0.5263\n",
      "Epoch 46/100\n",
      "4346/4346 [==============================] - 4s 941us/step - loss: 1.4162 - accuracy: 0.6213 - val_loss: 2.1680 - val_accuracy: 0.5274\n",
      "Epoch 47/100\n",
      "4346/4346 [==============================] - 4s 946us/step - loss: 1.3963 - accuracy: 0.6249 - val_loss: 2.1399 - val_accuracy: 0.5360\n",
      "Epoch 48/100\n",
      "4346/4346 [==============================] - 4s 943us/step - loss: 1.3918 - accuracy: 0.6279 - val_loss: 2.1340 - val_accuracy: 0.5295\n",
      "Epoch 49/100\n",
      "4346/4346 [==============================] - 4s 943us/step - loss: 1.3478 - accuracy: 0.6383 - val_loss: 2.1369 - val_accuracy: 0.5360\n",
      "Epoch 50/100\n",
      "4346/4346 [==============================] - 4s 952us/step - loss: 1.3338 - accuracy: 0.6427 - val_loss: 2.1401 - val_accuracy: 0.5295\n",
      "Epoch 51/100\n",
      "4346/4346 [==============================] - 4s 955us/step - loss: 1.2938 - accuracy: 0.6392 - val_loss: 2.1462 - val_accuracy: 0.5263\n",
      "Epoch 52/100\n",
      "4346/4346 [==============================] - 4s 953us/step - loss: 1.3232 - accuracy: 0.6463 - val_loss: 2.1411 - val_accuracy: 0.5381\n",
      "Epoch 53/100\n",
      "4346/4346 [==============================] - 4s 953us/step - loss: 1.2029 - accuracy: 0.6765 - val_loss: 2.0953 - val_accuracy: 0.5489\n",
      "Epoch 54/100\n",
      "4346/4346 [==============================] - 4s 951us/step - loss: 1.1806 - accuracy: 0.6836 - val_loss: 2.0988 - val_accuracy: 0.5414\n",
      "Epoch 55/100\n",
      "4346/4346 [==============================] - 4s 952us/step - loss: 1.1625 - accuracy: 0.6832 - val_loss: 2.1117 - val_accuracy: 0.5371\n",
      "Epoch 56/100\n",
      "4346/4346 [==============================] - 4s 952us/step - loss: 1.1565 - accuracy: 0.6894 - val_loss: 2.1055 - val_accuracy: 0.5306\n",
      "Epoch 57/100\n",
      "4346/4346 [==============================] - 4s 954us/step - loss: 1.1256 - accuracy: 0.6970 - val_loss: 2.1049 - val_accuracy: 0.5456\n",
      "Epoch 58/100\n",
      "4346/4346 [==============================] - 4s 954us/step - loss: 1.0804 - accuracy: 0.7059 - val_loss: 2.0816 - val_accuracy: 0.5403\n",
      "Epoch 59/100\n",
      "4346/4346 [==============================] - 4s 956us/step - loss: 1.0746 - accuracy: 0.7096 - val_loss: 2.1182 - val_accuracy: 0.5360\n",
      "Epoch 60/100\n",
      "4346/4346 [==============================] - 4s 952us/step - loss: 1.0524 - accuracy: 0.7039 - val_loss: 2.0864 - val_accuracy: 0.5328\n",
      "Epoch 61/100\n",
      "4346/4346 [==============================] - 4s 953us/step - loss: 1.0258 - accuracy: 0.7177 - val_loss: 2.0701 - val_accuracy: 0.5499\n",
      "Epoch 62/100\n",
      "4346/4346 [==============================] - 4s 950us/step - loss: 1.0119 - accuracy: 0.7209 - val_loss: 2.0784 - val_accuracy: 0.5446\n",
      "Epoch 63/100\n",
      "4346/4346 [==============================] - 4s 957us/step - loss: 0.9761 - accuracy: 0.7271 - val_loss: 2.0583 - val_accuracy: 0.5553\n",
      "Epoch 64/100\n",
      "4346/4346 [==============================] - 4s 957us/step - loss: 0.9732 - accuracy: 0.7292 - val_loss: 2.0512 - val_accuracy: 0.5446\n",
      "Epoch 65/100\n",
      "4346/4346 [==============================] - 4s 959us/step - loss: 0.9999 - accuracy: 0.7207 - val_loss: 2.0498 - val_accuracy: 0.5542\n",
      "Epoch 66/100\n",
      "4346/4346 [==============================] - 4s 954us/step - loss: 0.9440 - accuracy: 0.7393 - val_loss: 2.0443 - val_accuracy: 0.5661\n",
      "Epoch 67/100\n",
      "4346/4346 [==============================] - 4s 954us/step - loss: 0.9215 - accuracy: 0.7432 - val_loss: 2.0235 - val_accuracy: 0.5521\n",
      "Epoch 68/100\n",
      "4346/4346 [==============================] - 4s 950us/step - loss: 0.8822 - accuracy: 0.7421 - val_loss: 2.0328 - val_accuracy: 0.5542\n",
      "Epoch 69/100\n",
      "4346/4346 [==============================] - 4s 955us/step - loss: 0.8843 - accuracy: 0.7520 - val_loss: 2.0452 - val_accuracy: 0.5510\n",
      "Epoch 70/100\n",
      "4346/4346 [==============================] - 4s 954us/step - loss: 0.8755 - accuracy: 0.7517 - val_loss: 2.0531 - val_accuracy: 0.5489\n",
      "Epoch 71/100\n",
      "4346/4346 [==============================] - 4s 960us/step - loss: 0.8951 - accuracy: 0.7522 - val_loss: 2.0279 - val_accuracy: 0.5564\n",
      "Epoch 72/100\n",
      "4346/4346 [==============================] - 4s 956us/step - loss: 0.8282 - accuracy: 0.7602 - val_loss: 2.0331 - val_accuracy: 0.5596\n",
      "Epoch 73/100\n",
      "4346/4346 [==============================] - 4s 959us/step - loss: 0.8104 - accuracy: 0.7685 - val_loss: 2.0650 - val_accuracy: 0.5521\n",
      "Epoch 74/100\n",
      "4346/4346 [==============================] - 4s 959us/step - loss: 0.8327 - accuracy: 0.7683 - val_loss: 2.0274 - val_accuracy: 0.5456\n",
      "Epoch 75/100\n",
      "4346/4346 [==============================] - 4s 956us/step - loss: 0.8005 - accuracy: 0.7729 - val_loss: 2.0153 - val_accuracy: 0.5489\n",
      "Epoch 76/100\n",
      "4346/4346 [==============================] - 4s 952us/step - loss: 0.8293 - accuracy: 0.7731 - val_loss: 2.0533 - val_accuracy: 0.5424\n",
      "Epoch 77/100\n",
      "4346/4346 [==============================] - 4s 954us/step - loss: 0.7659 - accuracy: 0.7844 - val_loss: 2.0333 - val_accuracy: 0.5467\n",
      "Epoch 78/100\n",
      "4346/4346 [==============================] - 4s 954us/step - loss: 0.7686 - accuracy: 0.7828 - val_loss: 2.0484 - val_accuracy: 0.5510\n",
      "Epoch 79/100\n",
      "4346/4346 [==============================] - 4s 956us/step - loss: 0.7672 - accuracy: 0.7904 - val_loss: 2.0234 - val_accuracy: 0.5575\n",
      "Epoch 80/100\n",
      "4346/4346 [==============================] - 4s 956us/step - loss: 0.7342 - accuracy: 0.7897 - val_loss: 2.0043 - val_accuracy: 0.5596\n",
      "Epoch 81/100\n",
      "4346/4346 [==============================] - 4s 955us/step - loss: 0.7314 - accuracy: 0.7874 - val_loss: 2.0370 - val_accuracy: 0.5564\n",
      "Epoch 82/100\n",
      "4346/4346 [==============================] - 4s 955us/step - loss: 0.7406 - accuracy: 0.7904 - val_loss: 2.0169 - val_accuracy: 0.5521\n",
      "Epoch 83/100\n",
      "4346/4346 [==============================] - 4s 954us/step - loss: 0.7160 - accuracy: 0.7929 - val_loss: 2.0410 - val_accuracy: 0.5532\n",
      "Epoch 84/100\n",
      "4346/4346 [==============================] - 4s 955us/step - loss: 0.6928 - accuracy: 0.8081 - val_loss: 2.0171 - val_accuracy: 0.5542\n",
      "Epoch 85/100\n",
      "4346/4346 [==============================] - 4s 955us/step - loss: 0.7259 - accuracy: 0.7952 - val_loss: 2.0341 - val_accuracy: 0.5542\n",
      "Epoch 86/100\n",
      "4346/4346 [==============================] - 4s 955us/step - loss: 0.6797 - accuracy: 0.8037 - val_loss: 2.0157 - val_accuracy: 0.5596\n",
      "Epoch 87/100\n",
      "4346/4346 [==============================] - 4s 958us/step - loss: 0.6837 - accuracy: 0.8046 - val_loss: 2.0105 - val_accuracy: 0.5564\n",
      "Epoch 88/100\n",
      "4346/4346 [==============================] - 4s 956us/step - loss: 0.7045 - accuracy: 0.8012 - val_loss: 2.0257 - val_accuracy: 0.5456\n",
      "Epoch 89/100\n",
      "4346/4346 [==============================] - 4s 954us/step - loss: 0.6520 - accuracy: 0.8134 - val_loss: 2.0199 - val_accuracy: 0.5478\n",
      "Epoch 90/100\n",
      "4346/4346 [==============================] - 4s 952us/step - loss: 0.6301 - accuracy: 0.8194 - val_loss: 2.0162 - val_accuracy: 0.5532\n"
     ]
    }
   ],
   "source": [
    "history_drop = model_drop.fit(x_train, y_train,\n",
    "                              batch_size=128,\n",
    "                              epochs=100,\n",
    "                              validation_data=(x_val, y_val),\n",
    "                              callbacks=[keras.callbacks.ModelCheckpoint('cnn_drop.h5', save_best_only=True),\n",
    "                                         keras.callbacks.EarlyStopping(patience=10, restore_best_weights=True)])"
   ]
  },
  {
   "cell_type": "code",
   "execution_count": 25,
   "metadata": {
    "colab": {
     "base_uri": "https://localhost:8080/",
     "height": 51
    },
    "colab_type": "code",
    "id": "j0NPuZsQlyW-",
    "outputId": "90c664ca-cb3f-4609-a5ef-2ae6bbeee222"
   },
   "outputs": [
    {
     "name": "stdout",
     "output_type": "stream",
     "text": [
      "Test loss: 2.2071807801467664\n",
      "Test accuracy: 0.5096566677093506\n"
     ]
    }
   ],
   "source": [
    "loss_drop_train, accuracy_drop_train = model_drop.evaluate(x_train, y_train, verbose=0)\n",
    "loss_drop_val, accuracy_drop_val = model_drop.evaluate(x_val, y_val, verbose=0)\n",
    "loss_drop_test, accuracy_drop_test = model_drop.evaluate(x_test, y_test, verbose=0)\n",
    "\n",
    "print('Test loss:', loss_drop_test)\n",
    "print('Test accuracy:', accuracy_drop_test)"
   ]
  },
  {
   "cell_type": "markdown",
   "metadata": {
    "colab_type": "text",
    "id": "RZP0Oybw49r4"
   },
   "source": [
    "### Comparison of the Two Simple Networks\n",
    "We compare the historical runs of both networks with and without dropouts, as well as the training, validation and testing loss and accuracy of the two netwoks."
   ]
  },
  {
   "cell_type": "code",
   "execution_count": 0,
   "metadata": {
    "colab": {},
    "colab_type": "code",
    "id": "mM_qBEazSguu"
   },
   "outputs": [],
   "source": [
    "nodrop = pd.DataFrame(history_nodrop.history)\n",
    "nodrop['category'] = 'no_dropout'\n",
    "nodrop['epoch'] = range(len(nodrop))\n",
    "drop = pd.DataFrame(history_drop.history)\n",
    "drop['category'] = 'dropout'\n",
    "drop['epoch'] = range(len(drop))\n",
    "\n",
    "simple_cnn = nodrop.append(drop)\n",
    "simple_cnn.epoch = simple_cnn.epoch + 1"
   ]
  },
  {
   "cell_type": "code",
   "execution_count": 0,
   "metadata": {
    "colab": {},
    "colab_type": "code",
    "id": "kc1e-gIdz25E"
   },
   "outputs": [],
   "source": [
    "def subset_df(df, cat1, cat2):\n",
    "  data = df[[cat1, cat2, 'category', 'epoch']]\n",
    "  data = pd.melt(data, id_vars=['category', 'epoch'])\n",
    "  return data\n",
    "\n",
    "def plot_line(df, cat1, cat2, cat3, x, y, hue, x0, y0):\n",
    "  data = df[[cat1, cat2, 'category', 'epoch']]\n",
    "  data = pd.melt(data, id_vars=['category', 'epoch'])\n",
    "  ax = sns.lineplot(x=x, y=y,\n",
    "                    data=data[data.category==cat3],\n",
    "                    hue=hue, ax=axs[x0, y0])\n",
    "  return ax"
   ]
  },
  {
   "cell_type": "code",
   "execution_count": 28,
   "metadata": {
    "colab": {
     "base_uri": "https://localhost:8080/",
     "height": 475
    },
    "colab_type": "code",
    "id": "D6q2Ec0srEcH",
    "outputId": "e4a66cd6-8c44-45b5-b807-50e3dee45e98"
   },
   "outputs": [
    {
     "data": {
      "text/plain": [
       "(-0.05, 1.05)"
      ]
     },
     "execution_count": 28,
     "metadata": {
      "tags": []
     },
     "output_type": "execute_result"
    },
    {
     "data": {
      "image/png": "[encoded data removed]",
      "text/plain": [
       "<Figure size 1080x504 with 4 Axes>"
      ]
     },
     "metadata": {
      "needs_background": "light",
      "tags": []
     },
     "output_type": "display_data"
    }
   ],
   "source": [
    "fig, axs = plt.subplots(ncols=2, nrows=2, figsize=(15,7))\n",
    "\n",
    "ax1 = plot_line(simple_cnn, 'loss', 'val_loss', 'no_dropout', 'epoch', 'value', 'variable', 0, 0)\n",
    "ax1.set_title('Without Dropout Layer')\n",
    "ax1.set_ylim(-0.05, max(subset_df(simple_cnn, 'loss', 'val_loss').value))\n",
    "\n",
    "ax2 = plot_line(simple_cnn, 'loss', 'val_loss', 'dropout', 'epoch', 'value', 'variable', 0, 1)\n",
    "ax2.set_title('With Dropout Layer')\n",
    "ax2.set_ylim(-0.05, max(subset_df(simple_cnn, 'loss', 'val_loss').value))\n",
    "\n",
    "ax1 = plot_line(simple_cnn, 'accuracy', 'val_accuracy', 'no_dropout', 'epoch', 'value', 'variable', 1, 0)\n",
    "ax1.set_ylim(-0.05, 1.05)\n",
    "\n",
    "ax1 = plot_line(simple_cnn, 'accuracy', 'val_accuracy', 'dropout', 'epoch', 'value', 'variable', 1, 1)\n",
    "ax1.set_ylim(-0.05, 1.05)"
   ]
  },
  {
   "cell_type": "markdown",
   "metadata": {
    "colab_type": "text",
    "id": "6BMnCNpNG--E"
   },
   "source": [
    "We can see that the network without dropout layers ran in less than 20 epochs, which means that we are not seeing any significant improvement in the validation loss in such a short amount of epochs. The validation loss has a steady decline up to the fourth epoch but started increasing again after which indicates that the network is getting less 'sure' of its prediction. We can also observe that the accuracy of the training data has reached 100% while the accuracy in the validation data is only around 40% which suggests that the network is severely overfitted.\n",
    "\n",
    "The network with dropout layers, on the other hand, ran for almost 100 epochs, as expected since dropouts slows down the convergence of a network, with a steady decline in the validation loss. The accuracy in the training set is about 80% while the validation set has an accuracy of around 50%. This also suggests that the network is overfitting to our training data."
   ]
  },
  {
   "cell_type": "code",
   "execution_count": 29,
   "metadata": {
    "colab": {
     "base_uri": "https://localhost:8080/",
     "height": 386
    },
    "colab_type": "code",
    "id": "0JD6u8YT579g",
    "outputId": "e330331a-851c-4731-e040-c68bc02b16e2"
   },
   "outputs": [
    {
     "data": {
      "text/plain": [
       "<seaborn.axisgrid.FacetGrid at 0x7fdcf42ebe48>"
      ]
     },
     "execution_count": 29,
     "metadata": {
      "tags": []
     },
     "output_type": "execute_result"
    },
    {
     "data": {
      "image/png": "[encoded data removed]",
      "text/plain": [
       "<Figure size 430.875x360 with 1 Axes>"
      ]
     },
     "metadata": {
      "needs_background": "light",
      "tags": []
     },
     "output_type": "display_data"
    }
   ],
   "source": [
    "metrics_nodrop = [accuracy_nodrop_train, accuracy_nodrop_val, accuracy_nodrop_test]\n",
    "metrics_drop = [accuracy_drop_train, accuracy_drop_val, accuracy_drop_test]\n",
    "metrics_df = pd.DataFrame({'nodrop': metrics_nodrop, 'drop': metrics_drop})\n",
    "metrics_df['data'] = ['train', 'val', 'test']\n",
    "metrics_df = pd.melt(metrics_df, id_vars=['data'])\n",
    "\n",
    "sns.catplot(x='data', y='value', hue='variable', data=metrics_df, kind='bar', palette='muted')"
   ]
  },
  {
   "cell_type": "markdown",
   "metadata": {
    "colab_type": "text",
    "id": "OZjd-jXyI8LL"
   },
   "source": [
    "We also compare the best models chosen by the algorithm and their predictions on the training, validation and test data. We can see the overfitted nature of both networks. However, the network with dropout layers gives higher prediction accuracy than the network without dropout layers. This is expected since dropout layers train neurons such that they do not co-adapt with their neighboring neurons and learn as much as possible from all of their input neurons. This makes for a more robust network."
   ]
  },
  {
   "cell_type": "markdown",
   "metadata": {
    "colab_type": "text",
    "id": "WGkC67pYeFT2"
   },
   "source": [
    "## Transfer Learning using ResNet-50\n",
    "We now explore a transfer learning approach to classifying the images. For this task, we will utilize the ResNet-50 pretrained network. We will build two versions of the network using transfer learning method:\n",
    "\n",
    "1. Re-training the last layer of ResNet-50\n",
    "2. Re-training the last two layers of ResNet-50\n",
    "\n",
    "We proceed with downloading the ResNet-50 network from keras below."
   ]
  },
  {
   "cell_type": "code",
   "execution_count": 30,
   "metadata": {
    "colab": {
     "base_uri": "https://localhost:8080/",
     "height": 1000
    },
    "colab_type": "code",
    "id": "Vc2H9jsXK3H6",
    "outputId": "7f673e20-2f82-426f-f1c5-600e504a2831"
   },
   "outputs": [
    {
     "name": "stdout",
     "output_type": "stream",
     "text": [
      "Model: \"resnet50v2\"\n",
      "__________________________________________________________________________________________________\n",
      "Layer (type)                    Output Shape         Param #     Connected to                     \n",
      "==================================================================================================\n",
      "input_1 (InputLayer)            (None, 224, 224, 3)  0                                            \n",
      "__________________________________________________________________________________________________\n",
      "conv1_pad (ZeroPadding2D)       (None, 230, 230, 3)  0           input_1[0][0]                    \n",
      "__________________________________________________________________________________________________\n",
      "conv1_conv (Conv2D)             (None, 112, 112, 64) 9472        conv1_pad[0][0]                  \n",
      "__________________________________________________________________________________________________\n",
      "pool1_pad (ZeroPadding2D)       (None, 114, 114, 64) 0           conv1_conv[0][0]                 \n",
      "__________________________________________________________________________________________________\n",
      "pool1_pool (MaxPooling2D)       (None, 56, 56, 64)   0           pool1_pad[0][0]                  \n",
      "__________________________________________________________________________________________________\n",
      "conv2_block1_preact_bn (BatchNo (None, 56, 56, 64)   256         pool1_pool[0][0]                 \n",
      "__________________________________________________________________________________________________\n",
      "conv2_block1_preact_relu (Activ (None, 56, 56, 64)   0           conv2_block1_preact_bn[0][0]     \n",
      "__________________________________________________________________________________________________\n",
      "conv2_block1_1_conv (Conv2D)    (None, 56, 56, 64)   4096        conv2_block1_preact_relu[0][0]   \n",
      "__________________________________________________________________________________________________\n",
      "conv2_block1_1_bn (BatchNormali (None, 56, 56, 64)   256         conv2_block1_1_conv[0][0]        \n",
      "__________________________________________________________________________________________________\n",
      "conv2_block1_1_relu (Activation (None, 56, 56, 64)   0           conv2_block1_1_bn[0][0]          \n",
      "__________________________________________________________________________________________________\n",
      "conv2_block1_2_pad (ZeroPadding (None, 58, 58, 64)   0           conv2_block1_1_relu[0][0]        \n",
      "__________________________________________________________________________________________________\n",
      "conv2_block1_2_conv (Conv2D)    (None, 56, 56, 64)   36864       conv2_block1_2_pad[0][0]         \n",
      "__________________________________________________________________________________________________\n",
      "conv2_block1_2_bn (BatchNormali (None, 56, 56, 64)   256         conv2_block1_2_conv[0][0]        \n",
      "__________________________________________________________________________________________________\n",
      "conv2_block1_2_relu (Activation (None, 56, 56, 64)   0           conv2_block1_2_bn[0][0]          \n",
      "__________________________________________________________________________________________________\n",
      "conv2_block1_0_conv (Conv2D)    (None, 56, 56, 256)  16640       conv2_block1_preact_relu[0][0]   \n",
      "__________________________________________________________________________________________________\n",
      "conv2_block1_3_conv (Conv2D)    (None, 56, 56, 256)  16640       conv2_block1_2_relu[0][0]        \n",
      "__________________________________________________________________________________________________\n",
      "conv2_block1_out (Add)          (None, 56, 56, 256)  0           conv2_block1_0_conv[0][0]        \n",
      "                                                                 conv2_block1_3_conv[0][0]        \n",
      "__________________________________________________________________________________________________\n",
      "conv2_block2_preact_bn (BatchNo (None, 56, 56, 256)  1024        conv2_block1_out[0][0]           \n",
      "__________________________________________________________________________________________________\n",
      "conv2_block2_preact_relu (Activ (None, 56, 56, 256)  0           conv2_block2_preact_bn[0][0]     \n",
      "__________________________________________________________________________________________________\n",
      "conv2_block2_1_conv (Conv2D)    (None, 56, 56, 64)   16384       conv2_block2_preact_relu[0][0]   \n",
      "__________________________________________________________________________________________________\n",
      "conv2_block2_1_bn (BatchNormali (None, 56, 56, 64)   256         conv2_block2_1_conv[0][0]        \n",
      "__________________________________________________________________________________________________\n",
      "conv2_block2_1_relu (Activation (None, 56, 56, 64)   0           conv2_block2_1_bn[0][0]          \n",
      "__________________________________________________________________________________________________\n",
      "conv2_block2_2_pad (ZeroPadding (None, 58, 58, 64)   0           conv2_block2_1_relu[0][0]        \n",
      "__________________________________________________________________________________________________\n",
      "conv2_block2_2_conv (Conv2D)    (None, 56, 56, 64)   36864       conv2_block2_2_pad[0][0]         \n",
      "__________________________________________________________________________________________________\n",
      "conv2_block2_2_bn (BatchNormali (None, 56, 56, 64)   256         conv2_block2_2_conv[0][0]        \n",
      "__________________________________________________________________________________________________\n",
      "conv2_block2_2_relu (Activation (None, 56, 56, 64)   0           conv2_block2_2_bn[0][0]          \n",
      "__________________________________________________________________________________________________\n",
      "conv2_block2_3_conv (Conv2D)    (None, 56, 56, 256)  16640       conv2_block2_2_relu[0][0]        \n",
      "__________________________________________________________________________________________________\n",
      "conv2_block2_out (Add)          (None, 56, 56, 256)  0           conv2_block1_out[0][0]           \n",
      "                                                                 conv2_block2_3_conv[0][0]        \n",
      "__________________________________________________________________________________________________\n",
      "conv2_block3_preact_bn (BatchNo (None, 56, 56, 256)  1024        conv2_block2_out[0][0]           \n",
      "__________________________________________________________________________________________________\n",
      "conv2_block3_preact_relu (Activ (None, 56, 56, 256)  0           conv2_block3_preact_bn[0][0]     \n",
      "__________________________________________________________________________________________________\n",
      "conv2_block3_1_conv (Conv2D)    (None, 56, 56, 64)   16384       conv2_block3_preact_relu[0][0]   \n",
      "__________________________________________________________________________________________________\n",
      "conv2_block3_1_bn (BatchNormali (None, 56, 56, 64)   256         conv2_block3_1_conv[0][0]        \n",
      "__________________________________________________________________________________________________\n",
      "conv2_block3_1_relu (Activation (None, 56, 56, 64)   0           conv2_block3_1_bn[0][0]          \n",
      "__________________________________________________________________________________________________\n",
      "conv2_block3_2_pad (ZeroPadding (None, 58, 58, 64)   0           conv2_block3_1_relu[0][0]        \n",
      "__________________________________________________________________________________________________\n",
      "conv2_block3_2_conv (Conv2D)    (None, 28, 28, 64)   36864       conv2_block3_2_pad[0][0]         \n",
      "__________________________________________________________________________________________________\n",
      "conv2_block3_2_bn (BatchNormali (None, 28, 28, 64)   256         conv2_block3_2_conv[0][0]        \n",
      "__________________________________________________________________________________________________\n",
      "conv2_block3_2_relu (Activation (None, 28, 28, 64)   0           conv2_block3_2_bn[0][0]          \n",
      "__________________________________________________________________________________________________\n",
      "max_pooling2d_3 (MaxPooling2D)  (None, 28, 28, 256)  0           conv2_block2_out[0][0]           \n",
      "__________________________________________________________________________________________________\n",
      "conv2_block3_3_conv (Conv2D)    (None, 28, 28, 256)  16640       conv2_block3_2_relu[0][0]        \n",
      "__________________________________________________________________________________________________\n",
      "conv2_block3_out (Add)          (None, 28, 28, 256)  0           max_pooling2d_3[0][0]            \n",
      "                                                                 conv2_block3_3_conv[0][0]        \n",
      "__________________________________________________________________________________________________\n",
      "conv3_block1_preact_bn (BatchNo (None, 28, 28, 256)  1024        conv2_block3_out[0][0]           \n",
      "__________________________________________________________________________________________________\n",
      "conv3_block1_preact_relu (Activ (None, 28, 28, 256)  0           conv3_block1_preact_bn[0][0]     \n",
      "__________________________________________________________________________________________________\n",
      "conv3_block1_1_conv (Conv2D)    (None, 28, 28, 128)  32768       conv3_block1_preact_relu[0][0]   \n",
      "__________________________________________________________________________________________________\n",
      "conv3_block1_1_bn (BatchNormali (None, 28, 28, 128)  512         conv3_block1_1_conv[0][0]        \n",
      "__________________________________________________________________________________________________\n",
      "conv3_block1_1_relu (Activation (None, 28, 28, 128)  0           conv3_block1_1_bn[0][0]          \n",
      "__________________________________________________________________________________________________\n",
      "conv3_block1_2_pad (ZeroPadding (None, 30, 30, 128)  0           conv3_block1_1_relu[0][0]        \n",
      "__________________________________________________________________________________________________\n",
      "conv3_block1_2_conv (Conv2D)    (None, 28, 28, 128)  147456      conv3_block1_2_pad[0][0]         \n",
      "__________________________________________________________________________________________________\n",
      "conv3_block1_2_bn (BatchNormali (None, 28, 28, 128)  512         conv3_block1_2_conv[0][0]        \n",
      "__________________________________________________________________________________________________\n",
      "conv3_block1_2_relu (Activation (None, 28, 28, 128)  0           conv3_block1_2_bn[0][0]          \n",
      "__________________________________________________________________________________________________\n",
      "conv3_block1_0_conv (Conv2D)    (None, 28, 28, 512)  131584      conv3_block1_preact_relu[0][0]   \n",
      "__________________________________________________________________________________________________\n",
      "conv3_block1_3_conv (Conv2D)    (None, 28, 28, 512)  66048       conv3_block1_2_relu[0][0]        \n",
      "__________________________________________________________________________________________________\n",
      "conv3_block1_out (Add)          (None, 28, 28, 512)  0           conv3_block1_0_conv[0][0]        \n",
      "                                                                 conv3_block1_3_conv[0][0]        \n",
      "__________________________________________________________________________________________________\n",
      "conv3_block2_preact_bn (BatchNo (None, 28, 28, 512)  2048        conv3_block1_out[0][0]           \n",
      "__________________________________________________________________________________________________\n",
      "conv3_block2_preact_relu (Activ (None, 28, 28, 512)  0           conv3_block2_preact_bn[0][0]     \n",
      "__________________________________________________________________________________________________\n",
      "conv3_block2_1_conv (Conv2D)    (None, 28, 28, 128)  65536       conv3_block2_preact_relu[0][0]   \n",
      "__________________________________________________________________________________________________\n",
      "conv3_block2_1_bn (BatchNormali (None, 28, 28, 128)  512         conv3_block2_1_conv[0][0]        \n",
      "__________________________________________________________________________________________________\n",
      "conv3_block2_1_relu (Activation (None, 28, 28, 128)  0           conv3_block2_1_bn[0][0]          \n",
      "__________________________________________________________________________________________________\n",
      "conv3_block2_2_pad (ZeroPadding (None, 30, 30, 128)  0           conv3_block2_1_relu[0][0]        \n",
      "__________________________________________________________________________________________________\n",
      "conv3_block2_2_conv (Conv2D)    (None, 28, 28, 128)  147456      conv3_block2_2_pad[0][0]         \n",
      "__________________________________________________________________________________________________\n",
      "conv3_block2_2_bn (BatchNormali (None, 28, 28, 128)  512         conv3_block2_2_conv[0][0]        \n",
      "__________________________________________________________________________________________________\n",
      "conv3_block2_2_relu (Activation (None, 28, 28, 128)  0           conv3_block2_2_bn[0][0]          \n",
      "__________________________________________________________________________________________________\n",
      "conv3_block2_3_conv (Conv2D)    (None, 28, 28, 512)  66048       conv3_block2_2_relu[0][0]        \n",
      "__________________________________________________________________________________________________\n",
      "conv3_block2_out (Add)          (None, 28, 28, 512)  0           conv3_block1_out[0][0]           \n",
      "                                                                 conv3_block2_3_conv[0][0]        \n",
      "__________________________________________________________________________________________________\n",
      "conv3_block3_preact_bn (BatchNo (None, 28, 28, 512)  2048        conv3_block2_out[0][0]           \n",
      "__________________________________________________________________________________________________\n",
      "conv3_block3_preact_relu (Activ (None, 28, 28, 512)  0           conv3_block3_preact_bn[0][0]     \n",
      "__________________________________________________________________________________________________\n",
      "conv3_block3_1_conv (Conv2D)    (None, 28, 28, 128)  65536       conv3_block3_preact_relu[0][0]   \n",
      "__________________________________________________________________________________________________\n",
      "conv3_block3_1_bn (BatchNormali (None, 28, 28, 128)  512         conv3_block3_1_conv[0][0]        \n",
      "__________________________________________________________________________________________________\n",
      "conv3_block3_1_relu (Activation (None, 28, 28, 128)  0           conv3_block3_1_bn[0][0]          \n",
      "__________________________________________________________________________________________________\n",
      "conv3_block3_2_pad (ZeroPadding (None, 30, 30, 128)  0           conv3_block3_1_relu[0][0]        \n",
      "__________________________________________________________________________________________________\n",
      "conv3_block3_2_conv (Conv2D)    (None, 28, 28, 128)  147456      conv3_block3_2_pad[0][0]         \n",
      "__________________________________________________________________________________________________\n",
      "conv3_block3_2_bn (BatchNormali (None, 28, 28, 128)  512         conv3_block3_2_conv[0][0]        \n",
      "__________________________________________________________________________________________________\n",
      "conv3_block3_2_relu (Activation (None, 28, 28, 128)  0           conv3_block3_2_bn[0][0]          \n",
      "__________________________________________________________________________________________________\n",
      "conv3_block3_3_conv (Conv2D)    (None, 28, 28, 512)  66048       conv3_block3_2_relu[0][0]        \n",
      "__________________________________________________________________________________________________\n",
      "conv3_block3_out (Add)          (None, 28, 28, 512)  0           conv3_block2_out[0][0]           \n",
      "                                                                 conv3_block3_3_conv[0][0]        \n",
      "__________________________________________________________________________________________________\n",
      "conv3_block4_preact_bn (BatchNo (None, 28, 28, 512)  2048        conv3_block3_out[0][0]           \n",
      "__________________________________________________________________________________________________\n",
      "conv3_block4_preact_relu (Activ (None, 28, 28, 512)  0           conv3_block4_preact_bn[0][0]     \n",
      "__________________________________________________________________________________________________\n",
      "conv3_block4_1_conv (Conv2D)    (None, 28, 28, 128)  65536       conv3_block4_preact_relu[0][0]   \n",
      "__________________________________________________________________________________________________\n",
      "conv3_block4_1_bn (BatchNormali (None, 28, 28, 128)  512         conv3_block4_1_conv[0][0]        \n",
      "__________________________________________________________________________________________________\n",
      "conv3_block4_1_relu (Activation (None, 28, 28, 128)  0           conv3_block4_1_bn[0][0]          \n",
      "__________________________________________________________________________________________________\n",
      "conv3_block4_2_pad (ZeroPadding (None, 30, 30, 128)  0           conv3_block4_1_relu[0][0]        \n",
      "__________________________________________________________________________________________________\n",
      "conv3_block4_2_conv (Conv2D)    (None, 14, 14, 128)  147456      conv3_block4_2_pad[0][0]         \n",
      "__________________________________________________________________________________________________\n",
      "conv3_block4_2_bn (BatchNormali (None, 14, 14, 128)  512         conv3_block4_2_conv[0][0]        \n",
      "__________________________________________________________________________________________________\n",
      "conv3_block4_2_relu (Activation (None, 14, 14, 128)  0           conv3_block4_2_bn[0][0]          \n",
      "__________________________________________________________________________________________________\n",
      "max_pooling2d_4 (MaxPooling2D)  (None, 14, 14, 512)  0           conv3_block3_out[0][0]           \n",
      "__________________________________________________________________________________________________\n",
      "conv3_block4_3_conv (Conv2D)    (None, 14, 14, 512)  66048       conv3_block4_2_relu[0][0]        \n",
      "__________________________________________________________________________________________________\n",
      "conv3_block4_out (Add)          (None, 14, 14, 512)  0           max_pooling2d_4[0][0]            \n",
      "                                                                 conv3_block4_3_conv[0][0]        \n",
      "__________________________________________________________________________________________________\n",
      "conv4_block1_preact_bn (BatchNo (None, 14, 14, 512)  2048        conv3_block4_out[0][0]           \n",
      "__________________________________________________________________________________________________\n",
      "conv4_block1_preact_relu (Activ (None, 14, 14, 512)  0           conv4_block1_preact_bn[0][0]     \n",
      "__________________________________________________________________________________________________\n",
      "conv4_block1_1_conv (Conv2D)    (None, 14, 14, 256)  131072      conv4_block1_preact_relu[0][0]   \n",
      "__________________________________________________________________________________________________\n",
      "conv4_block1_1_bn (BatchNormali (None, 14, 14, 256)  1024        conv4_block1_1_conv[0][0]        \n",
      "__________________________________________________________________________________________________\n",
      "conv4_block1_1_relu (Activation (None, 14, 14, 256)  0           conv4_block1_1_bn[0][0]          \n",
      "__________________________________________________________________________________________________\n",
      "conv4_block1_2_pad (ZeroPadding (None, 16, 16, 256)  0           conv4_block1_1_relu[0][0]        \n",
      "__________________________________________________________________________________________________\n",
      "conv4_block1_2_conv (Conv2D)    (None, 14, 14, 256)  589824      conv4_block1_2_pad[0][0]         \n",
      "__________________________________________________________________________________________________\n",
      "conv4_block1_2_bn (BatchNormali (None, 14, 14, 256)  1024        conv4_block1_2_conv[0][0]        \n",
      "__________________________________________________________________________________________________\n",
      "conv4_block1_2_relu (Activation (None, 14, 14, 256)  0           conv4_block1_2_bn[0][0]          \n",
      "__________________________________________________________________________________________________\n",
      "conv4_block1_0_conv (Conv2D)    (None, 14, 14, 1024) 525312      conv4_block1_preact_relu[0][0]   \n",
      "__________________________________________________________________________________________________\n",
      "conv4_block1_3_conv (Conv2D)    (None, 14, 14, 1024) 263168      conv4_block1_2_relu[0][0]        \n",
      "__________________________________________________________________________________________________\n",
      "conv4_block1_out (Add)          (None, 14, 14, 1024) 0           conv4_block1_0_conv[0][0]        \n",
      "                                                                 conv4_block1_3_conv[0][0]        \n",
      "__________________________________________________________________________________________________\n",
      "conv4_block2_preact_bn (BatchNo (None, 14, 14, 1024) 4096        conv4_block1_out[0][0]           \n",
      "__________________________________________________________________________________________________\n",
      "conv4_block2_preact_relu (Activ (None, 14, 14, 1024) 0           conv4_block2_preact_bn[0][0]     \n",
      "__________________________________________________________________________________________________\n",
      "conv4_block2_1_conv (Conv2D)    (None, 14, 14, 256)  262144      conv4_block2_preact_relu[0][0]   \n",
      "__________________________________________________________________________________________________\n",
      "conv4_block2_1_bn (BatchNormali (None, 14, 14, 256)  1024        conv4_block2_1_conv[0][0]        \n",
      "__________________________________________________________________________________________________\n",
      "conv4_block2_1_relu (Activation (None, 14, 14, 256)  0           conv4_block2_1_bn[0][0]          \n",
      "__________________________________________________________________________________________________\n",
      "conv4_block2_2_pad (ZeroPadding (None, 16, 16, 256)  0           conv4_block2_1_relu[0][0]        \n",
      "__________________________________________________________________________________________________\n",
      "conv4_block2_2_conv (Conv2D)    (None, 14, 14, 256)  589824      conv4_block2_2_pad[0][0]         \n",
      "__________________________________________________________________________________________________\n",
      "conv4_block2_2_bn (BatchNormali (None, 14, 14, 256)  1024        conv4_block2_2_conv[0][0]        \n",
      "__________________________________________________________________________________________________\n",
      "conv4_block2_2_relu (Activation (None, 14, 14, 256)  0           conv4_block2_2_bn[0][0]          \n",
      "__________________________________________________________________________________________________\n",
      "conv4_block2_3_conv (Conv2D)    (None, 14, 14, 1024) 263168      conv4_block2_2_relu[0][0]        \n",
      "__________________________________________________________________________________________________\n",
      "conv4_block2_out (Add)          (None, 14, 14, 1024) 0           conv4_block1_out[0][0]           \n",
      "                                                                 conv4_block2_3_conv[0][0]        \n",
      "__________________________________________________________________________________________________\n",
      "conv4_block3_preact_bn (BatchNo (None, 14, 14, 1024) 4096        conv4_block2_out[0][0]           \n",
      "__________________________________________________________________________________________________\n",
      "conv4_block3_preact_relu (Activ (None, 14, 14, 1024) 0           conv4_block3_preact_bn[0][0]     \n",
      "__________________________________________________________________________________________________\n",
      "conv4_block3_1_conv (Conv2D)    (None, 14, 14, 256)  262144      conv4_block3_preact_relu[0][0]   \n",
      "__________________________________________________________________________________________________\n",
      "conv4_block3_1_bn (BatchNormali (None, 14, 14, 256)  1024        conv4_block3_1_conv[0][0]        \n",
      "__________________________________________________________________________________________________\n",
      "conv4_block3_1_relu (Activation (None, 14, 14, 256)  0           conv4_block3_1_bn[0][0]          \n",
      "__________________________________________________________________________________________________\n",
      "conv4_block3_2_pad (ZeroPadding (None, 16, 16, 256)  0           conv4_block3_1_relu[0][0]        \n",
      "__________________________________________________________________________________________________\n",
      "conv4_block3_2_conv (Conv2D)    (None, 14, 14, 256)  589824      conv4_block3_2_pad[0][0]         \n",
      "__________________________________________________________________________________________________\n",
      "conv4_block3_2_bn (BatchNormali (None, 14, 14, 256)  1024        conv4_block3_2_conv[0][0]        \n",
      "__________________________________________________________________________________________________\n",
      "conv4_block3_2_relu (Activation (None, 14, 14, 256)  0           conv4_block3_2_bn[0][0]          \n",
      "__________________________________________________________________________________________________\n",
      "conv4_block3_3_conv (Conv2D)    (None, 14, 14, 1024) 263168      conv4_block3_2_relu[0][0]        \n",
      "__________________________________________________________________________________________________\n",
      "conv4_block3_out (Add)          (None, 14, 14, 1024) 0           conv4_block2_out[0][0]           \n",
      "                                                                 conv4_block3_3_conv[0][0]        \n",
      "__________________________________________________________________________________________________\n",
      "conv4_block4_preact_bn (BatchNo (None, 14, 14, 1024) 4096        conv4_block3_out[0][0]           \n",
      "__________________________________________________________________________________________________\n",
      "conv4_block4_preact_relu (Activ (None, 14, 14, 1024) 0           conv4_block4_preact_bn[0][0]     \n",
      "__________________________________________________________________________________________________\n",
      "conv4_block4_1_conv (Conv2D)    (None, 14, 14, 256)  262144      conv4_block4_preact_relu[0][0]   \n",
      "__________________________________________________________________________________________________\n",
      "conv4_block4_1_bn (BatchNormali (None, 14, 14, 256)  1024        conv4_block4_1_conv[0][0]        \n",
      "__________________________________________________________________________________________________\n",
      "conv4_block4_1_relu (Activation (None, 14, 14, 256)  0           conv4_block4_1_bn[0][0]          \n",
      "__________________________________________________________________________________________________\n",
      "conv4_block4_2_pad (ZeroPadding (None, 16, 16, 256)  0           conv4_block4_1_relu[0][0]        \n",
      "__________________________________________________________________________________________________\n",
      "conv4_block4_2_conv (Conv2D)    (None, 14, 14, 256)  589824      conv4_block4_2_pad[0][0]         \n",
      "__________________________________________________________________________________________________\n",
      "conv4_block4_2_bn (BatchNormali (None, 14, 14, 256)  1024        conv4_block4_2_conv[0][0]        \n",
      "__________________________________________________________________________________________________\n",
      "conv4_block4_2_relu (Activation (None, 14, 14, 256)  0           conv4_block4_2_bn[0][0]          \n",
      "__________________________________________________________________________________________________\n",
      "conv4_block4_3_conv (Conv2D)    (None, 14, 14, 1024) 263168      conv4_block4_2_relu[0][0]        \n",
      "__________________________________________________________________________________________________\n",
      "conv4_block4_out (Add)          (None, 14, 14, 1024) 0           conv4_block3_out[0][0]           \n",
      "                                                                 conv4_block4_3_conv[0][0]        \n",
      "__________________________________________________________________________________________________\n",
      "conv4_block5_preact_bn (BatchNo (None, 14, 14, 1024) 4096        conv4_block4_out[0][0]           \n",
      "__________________________________________________________________________________________________\n",
      "conv4_block5_preact_relu (Activ (None, 14, 14, 1024) 0           conv4_block5_preact_bn[0][0]     \n",
      "__________________________________________________________________________________________________\n",
      "conv4_block5_1_conv (Conv2D)    (None, 14, 14, 256)  262144      conv4_block5_preact_relu[0][0]   \n",
      "__________________________________________________________________________________________________\n",
      "conv4_block5_1_bn (BatchNormali (None, 14, 14, 256)  1024        conv4_block5_1_conv[0][0]        \n",
      "__________________________________________________________________________________________________\n",
      "conv4_block5_1_relu (Activation (None, 14, 14, 256)  0           conv4_block5_1_bn[0][0]          \n",
      "__________________________________________________________________________________________________\n",
      "conv4_block5_2_pad (ZeroPadding (None, 16, 16, 256)  0           conv4_block5_1_relu[0][0]        \n",
      "__________________________________________________________________________________________________\n",
      "conv4_block5_2_conv (Conv2D)    (None, 14, 14, 256)  589824      conv4_block5_2_pad[0][0]         \n",
      "__________________________________________________________________________________________________\n",
      "conv4_block5_2_bn (BatchNormali (None, 14, 14, 256)  1024        conv4_block5_2_conv[0][0]        \n",
      "__________________________________________________________________________________________________\n",
      "conv4_block5_2_relu (Activation (None, 14, 14, 256)  0           conv4_block5_2_bn[0][0]          \n",
      "__________________________________________________________________________________________________\n",
      "conv4_block5_3_conv (Conv2D)    (None, 14, 14, 1024) 263168      conv4_block5_2_relu[0][0]        \n",
      "__________________________________________________________________________________________________\n",
      "conv4_block5_out (Add)          (None, 14, 14, 1024) 0           conv4_block4_out[0][0]           \n",
      "                                                                 conv4_block5_3_conv[0][0]        \n",
      "__________________________________________________________________________________________________\n",
      "conv4_block6_preact_bn (BatchNo (None, 14, 14, 1024) 4096        conv4_block5_out[0][0]           \n",
      "__________________________________________________________________________________________________\n",
      "conv4_block6_preact_relu (Activ (None, 14, 14, 1024) 0           conv4_block6_preact_bn[0][0]     \n",
      "__________________________________________________________________________________________________\n",
      "conv4_block6_1_conv (Conv2D)    (None, 14, 14, 256)  262144      conv4_block6_preact_relu[0][0]   \n",
      "__________________________________________________________________________________________________\n",
      "conv4_block6_1_bn (BatchNormali (None, 14, 14, 256)  1024        conv4_block6_1_conv[0][0]        \n",
      "__________________________________________________________________________________________________\n",
      "conv4_block6_1_relu (Activation (None, 14, 14, 256)  0           conv4_block6_1_bn[0][0]          \n",
      "__________________________________________________________________________________________________\n",
      "conv4_block6_2_pad (ZeroPadding (None, 16, 16, 256)  0           conv4_block6_1_relu[0][0]        \n",
      "__________________________________________________________________________________________________\n",
      "conv4_block6_2_conv (Conv2D)    (None, 7, 7, 256)    589824      conv4_block6_2_pad[0][0]         \n",
      "__________________________________________________________________________________________________\n",
      "conv4_block6_2_bn (BatchNormali (None, 7, 7, 256)    1024        conv4_block6_2_conv[0][0]        \n",
      "__________________________________________________________________________________________________\n",
      "conv4_block6_2_relu (Activation (None, 7, 7, 256)    0           conv4_block6_2_bn[0][0]          \n",
      "__________________________________________________________________________________________________\n",
      "max_pooling2d_5 (MaxPooling2D)  (None, 7, 7, 1024)   0           conv4_block5_out[0][0]           \n",
      "__________________________________________________________________________________________________\n",
      "conv4_block6_3_conv (Conv2D)    (None, 7, 7, 1024)   263168      conv4_block6_2_relu[0][0]        \n",
      "__________________________________________________________________________________________________\n",
      "conv4_block6_out (Add)          (None, 7, 7, 1024)   0           max_pooling2d_5[0][0]            \n",
      "                                                                 conv4_block6_3_conv[0][0]        \n",
      "__________________________________________________________________________________________________\n",
      "conv5_block1_preact_bn (BatchNo (None, 7, 7, 1024)   4096        conv4_block6_out[0][0]           \n",
      "__________________________________________________________________________________________________\n",
      "conv5_block1_preact_relu (Activ (None, 7, 7, 1024)   0           conv5_block1_preact_bn[0][0]     \n",
      "__________________________________________________________________________________________________\n",
      "conv5_block1_1_conv (Conv2D)    (None, 7, 7, 512)    524288      conv5_block1_preact_relu[0][0]   \n",
      "__________________________________________________________________________________________________\n",
      "conv5_block1_1_bn (BatchNormali (None, 7, 7, 512)    2048        conv5_block1_1_conv[0][0]        \n",
      "__________________________________________________________________________________________________\n",
      "conv5_block1_1_relu (Activation (None, 7, 7, 512)    0           conv5_block1_1_bn[0][0]          \n",
      "__________________________________________________________________________________________________\n",
      "conv5_block1_2_pad (ZeroPadding (None, 9, 9, 512)    0           conv5_block1_1_relu[0][0]        \n",
      "__________________________________________________________________________________________________\n",
      "conv5_block1_2_conv (Conv2D)    (None, 7, 7, 512)    2359296     conv5_block1_2_pad[0][0]         \n",
      "__________________________________________________________________________________________________\n",
      "conv5_block1_2_bn (BatchNormali (None, 7, 7, 512)    2048        conv5_block1_2_conv[0][0]        \n",
      "__________________________________________________________________________________________________\n",
      "conv5_block1_2_relu (Activation (None, 7, 7, 512)    0           conv5_block1_2_bn[0][0]          \n",
      "__________________________________________________________________________________________________\n",
      "conv5_block1_0_conv (Conv2D)    (None, 7, 7, 2048)   2099200     conv5_block1_preact_relu[0][0]   \n",
      "__________________________________________________________________________________________________\n",
      "conv5_block1_3_conv (Conv2D)    (None, 7, 7, 2048)   1050624     conv5_block1_2_relu[0][0]        \n",
      "__________________________________________________________________________________________________\n",
      "conv5_block1_out (Add)          (None, 7, 7, 2048)   0           conv5_block1_0_conv[0][0]        \n",
      "                                                                 conv5_block1_3_conv[0][0]        \n",
      "__________________________________________________________________________________________________\n",
      "conv5_block2_preact_bn (BatchNo (None, 7, 7, 2048)   8192        conv5_block1_out[0][0]           \n",
      "__________________________________________________________________________________________________\n",
      "conv5_block2_preact_relu (Activ (None, 7, 7, 2048)   0           conv5_block2_preact_bn[0][0]     \n",
      "__________________________________________________________________________________________________\n",
      "conv5_block2_1_conv (Conv2D)    (None, 7, 7, 512)    1048576     conv5_block2_preact_relu[0][0]   \n",
      "__________________________________________________________________________________________________\n",
      "conv5_block2_1_bn (BatchNormali (None, 7, 7, 512)    2048        conv5_block2_1_conv[0][0]        \n",
      "__________________________________________________________________________________________________\n",
      "conv5_block2_1_relu (Activation (None, 7, 7, 512)    0           conv5_block2_1_bn[0][0]          \n",
      "__________________________________________________________________________________________________\n",
      "conv5_block2_2_pad (ZeroPadding (None, 9, 9, 512)    0           conv5_block2_1_relu[0][0]        \n",
      "__________________________________________________________________________________________________\n",
      "conv5_block2_2_conv (Conv2D)    (None, 7, 7, 512)    2359296     conv5_block2_2_pad[0][0]         \n",
      "__________________________________________________________________________________________________\n",
      "conv5_block2_2_bn (BatchNormali (None, 7, 7, 512)    2048        conv5_block2_2_conv[0][0]        \n",
      "__________________________________________________________________________________________________\n",
      "conv5_block2_2_relu (Activation (None, 7, 7, 512)    0           conv5_block2_2_bn[0][0]          \n",
      "__________________________________________________________________________________________________\n",
      "conv5_block2_3_conv (Conv2D)    (None, 7, 7, 2048)   1050624     conv5_block2_2_relu[0][0]        \n",
      "__________________________________________________________________________________________________\n",
      "conv5_block2_out (Add)          (None, 7, 7, 2048)   0           conv5_block1_out[0][0]           \n",
      "                                                                 conv5_block2_3_conv[0][0]        \n",
      "__________________________________________________________________________________________________\n",
      "conv5_block3_preact_bn (BatchNo (None, 7, 7, 2048)   8192        conv5_block2_out[0][0]           \n",
      "__________________________________________________________________________________________________\n",
      "conv5_block3_preact_relu (Activ (None, 7, 7, 2048)   0           conv5_block3_preact_bn[0][0]     \n",
      "__________________________________________________________________________________________________\n",
      "conv5_block3_1_conv (Conv2D)    (None, 7, 7, 512)    1048576     conv5_block3_preact_relu[0][0]   \n",
      "__________________________________________________________________________________________________\n",
      "conv5_block3_1_bn (BatchNormali (None, 7, 7, 512)    2048        conv5_block3_1_conv[0][0]        \n",
      "__________________________________________________________________________________________________\n",
      "conv5_block3_1_relu (Activation (None, 7, 7, 512)    0           conv5_block3_1_bn[0][0]          \n",
      "__________________________________________________________________________________________________\n",
      "conv5_block3_2_pad (ZeroPadding (None, 9, 9, 512)    0           conv5_block3_1_relu[0][0]        \n",
      "__________________________________________________________________________________________________\n",
      "conv5_block3_2_conv (Conv2D)    (None, 7, 7, 512)    2359296     conv5_block3_2_pad[0][0]         \n",
      "__________________________________________________________________________________________________\n",
      "conv5_block3_2_bn (BatchNormali (None, 7, 7, 512)    2048        conv5_block3_2_conv[0][0]        \n",
      "__________________________________________________________________________________________________\n",
      "conv5_block3_2_relu (Activation (None, 7, 7, 512)    0           conv5_block3_2_bn[0][0]          \n",
      "__________________________________________________________________________________________________\n",
      "conv5_block3_3_conv (Conv2D)    (None, 7, 7, 2048)   1050624     conv5_block3_2_relu[0][0]        \n",
      "__________________________________________________________________________________________________\n",
      "conv5_block3_out (Add)          (None, 7, 7, 2048)   0           conv5_block2_out[0][0]           \n",
      "                                                                 conv5_block3_3_conv[0][0]        \n",
      "__________________________________________________________________________________________________\n",
      "post_bn (BatchNormalization)    (None, 7, 7, 2048)   8192        conv5_block3_out[0][0]           \n",
      "__________________________________________________________________________________________________\n",
      "post_relu (Activation)          (None, 7, 7, 2048)   0           post_bn[0][0]                    \n",
      "__________________________________________________________________________________________________\n",
      "avg_pool (GlobalAveragePooling2 (None, 2048)         0           post_relu[0][0]                  \n",
      "__________________________________________________________________________________________________\n",
      "probs (Dense)                   (None, 1000)         2049000     avg_pool[0][0]                   \n",
      "==================================================================================================\n",
      "Total params: 25,613,800\n",
      "Trainable params: 25,568,360\n",
      "Non-trainable params: 45,440\n",
      "__________________________________________________________________________________________________\n"
     ]
    }
   ],
   "source": [
    "resnet50 = keras.applications.ResNet50V2()\n",
    "resnet50.summary()"
   ]
  },
  {
   "cell_type": "markdown",
   "metadata": {
    "colab_type": "text",
    "id": "lb6KPMMOeT6q"
   },
   "source": [
    "### Unfreezing the last layer of ResNet-50\n",
    "The ResNet-50 network contains more than 25 million trainable parameters, and multiple convolution and batch normalization layers. Before the output layer is a global average pooling layer and the final layer classifies 1,000 classes. We remove this final classification layer and replace it with a classifier of 97 classes to fit our dataset.\n",
    "\n",
    "We implement transfer learning by creating a copy of ResNet-50 from its input layer until the second to last layer. Then, we create a dense layer, with 97 neurons corresponding to the classes in our dataset, that will serve as the ouput layer of our transfer learning network. We connect this layer to the second to the last layer of the ResNet-50 network (global average pooling layer)."
   ]
  },
  {
   "cell_type": "code",
   "execution_count": 0,
   "metadata": {
    "colab": {},
    "colab_type": "code",
    "id": "4LEdI3rIx1J0"
   },
   "outputs": [],
   "source": [
    "# make a reference to ResNet50V2's input layer\n",
    "inp = resnet50.input\n",
    "\n",
    "# make a new softmax layer with num_classes neurons\n",
    "new_classification_layer = Dense(num_classes, activation='softmax')\n",
    "\n",
    "# connect our new layer to the second to last layer in ResNet50V2, and make a reference to it\n",
    "out = new_classification_layer(resnet50.layers[-2].output)\n",
    "\n",
    "# create a new network between inp and out\n",
    "model_tl_v1 = Model(inp, out)"
   ]
  },
  {
   "cell_type": "code",
   "execution_count": 32,
   "metadata": {
    "colab": {
     "base_uri": "https://localhost:8080/",
     "height": 1000
    },
    "colab_type": "code",
    "id": "5JPrOrrYRrdl",
    "outputId": "21c33971-5a9a-46a1-ef84-8a1de46d4490"
   },
   "outputs": [
    {
     "name": "stdout",
     "output_type": "stream",
     "text": [
      "Model: \"model_1\"\n",
      "__________________________________________________________________________________________________\n",
      "Layer (type)                    Output Shape         Param #     Connected to                     \n",
      "==================================================================================================\n",
      "input_1 (InputLayer)            (None, 224, 224, 3)  0                                            \n",
      "__________________________________________________________________________________________________\n",
      "conv1_pad (ZeroPadding2D)       (None, 230, 230, 3)  0           input_1[0][0]                    \n",
      "__________________________________________________________________________________________________\n",
      "conv1_conv (Conv2D)             (None, 112, 112, 64) 9472        conv1_pad[0][0]                  \n",
      "__________________________________________________________________________________________________\n",
      "pool1_pad (ZeroPadding2D)       (None, 114, 114, 64) 0           conv1_conv[0][0]                 \n",
      "__________________________________________________________________________________________________\n",
      "pool1_pool (MaxPooling2D)       (None, 56, 56, 64)   0           pool1_pad[0][0]                  \n",
      "__________________________________________________________________________________________________\n",
      "conv2_block1_preact_bn (BatchNo (None, 56, 56, 64)   256         pool1_pool[0][0]                 \n",
      "__________________________________________________________________________________________________\n",
      "conv2_block1_preact_relu (Activ (None, 56, 56, 64)   0           conv2_block1_preact_bn[0][0]     \n",
      "__________________________________________________________________________________________________\n",
      "conv2_block1_1_conv (Conv2D)    (None, 56, 56, 64)   4096        conv2_block1_preact_relu[0][0]   \n",
      "__________________________________________________________________________________________________\n",
      "conv2_block1_1_bn (BatchNormali (None, 56, 56, 64)   256         conv2_block1_1_conv[0][0]        \n",
      "__________________________________________________________________________________________________\n",
      "conv2_block1_1_relu (Activation (None, 56, 56, 64)   0           conv2_block1_1_bn[0][0]          \n",
      "__________________________________________________________________________________________________\n",
      "conv2_block1_2_pad (ZeroPadding (None, 58, 58, 64)   0           conv2_block1_1_relu[0][0]        \n",
      "__________________________________________________________________________________________________\n",
      "conv2_block1_2_conv (Conv2D)    (None, 56, 56, 64)   36864       conv2_block1_2_pad[0][0]         \n",
      "__________________________________________________________________________________________________\n",
      "conv2_block1_2_bn (BatchNormali (None, 56, 56, 64)   256         conv2_block1_2_conv[0][0]        \n",
      "__________________________________________________________________________________________________\n",
      "conv2_block1_2_relu (Activation (None, 56, 56, 64)   0           conv2_block1_2_bn[0][0]          \n",
      "__________________________________________________________________________________________________\n",
      "conv2_block1_0_conv (Conv2D)    (None, 56, 56, 256)  16640       conv2_block1_preact_relu[0][0]   \n",
      "__________________________________________________________________________________________________\n",
      "conv2_block1_3_conv (Conv2D)    (None, 56, 56, 256)  16640       conv2_block1_2_relu[0][0]        \n",
      "__________________________________________________________________________________________________\n",
      "conv2_block1_out (Add)          (None, 56, 56, 256)  0           conv2_block1_0_conv[0][0]        \n",
      "                                                                 conv2_block1_3_conv[0][0]        \n",
      "__________________________________________________________________________________________________\n",
      "conv2_block2_preact_bn (BatchNo (None, 56, 56, 256)  1024        conv2_block1_out[0][0]           \n",
      "__________________________________________________________________________________________________\n",
      "conv2_block2_preact_relu (Activ (None, 56, 56, 256)  0           conv2_block2_preact_bn[0][0]     \n",
      "__________________________________________________________________________________________________\n",
      "conv2_block2_1_conv (Conv2D)    (None, 56, 56, 64)   16384       conv2_block2_preact_relu[0][0]   \n",
      "__________________________________________________________________________________________________\n",
      "conv2_block2_1_bn (BatchNormali (None, 56, 56, 64)   256         conv2_block2_1_conv[0][0]        \n",
      "__________________________________________________________________________________________________\n",
      "conv2_block2_1_relu (Activation (None, 56, 56, 64)   0           conv2_block2_1_bn[0][0]          \n",
      "__________________________________________________________________________________________________\n",
      "conv2_block2_2_pad (ZeroPadding (None, 58, 58, 64)   0           conv2_block2_1_relu[0][0]        \n",
      "__________________________________________________________________________________________________\n",
      "conv2_block2_2_conv (Conv2D)    (None, 56, 56, 64)   36864       conv2_block2_2_pad[0][0]         \n",
      "__________________________________________________________________________________________________\n",
      "conv2_block2_2_bn (BatchNormali (None, 56, 56, 64)   256         conv2_block2_2_conv[0][0]        \n",
      "__________________________________________________________________________________________________\n",
      "conv2_block2_2_relu (Activation (None, 56, 56, 64)   0           conv2_block2_2_bn[0][0]          \n",
      "__________________________________________________________________________________________________\n",
      "conv2_block2_3_conv (Conv2D)    (None, 56, 56, 256)  16640       conv2_block2_2_relu[0][0]        \n",
      "__________________________________________________________________________________________________\n",
      "conv2_block2_out (Add)          (None, 56, 56, 256)  0           conv2_block1_out[0][0]           \n",
      "                                                                 conv2_block2_3_conv[0][0]        \n",
      "__________________________________________________________________________________________________\n",
      "conv2_block3_preact_bn (BatchNo (None, 56, 56, 256)  1024        conv2_block2_out[0][0]           \n",
      "__________________________________________________________________________________________________\n",
      "conv2_block3_preact_relu (Activ (None, 56, 56, 256)  0           conv2_block3_preact_bn[0][0]     \n",
      "__________________________________________________________________________________________________\n",
      "conv2_block3_1_conv (Conv2D)    (None, 56, 56, 64)   16384       conv2_block3_preact_relu[0][0]   \n",
      "__________________________________________________________________________________________________\n",
      "conv2_block3_1_bn (BatchNormali (None, 56, 56, 64)   256         conv2_block3_1_conv[0][0]        \n",
      "__________________________________________________________________________________________________\n",
      "conv2_block3_1_relu (Activation (None, 56, 56, 64)   0           conv2_block3_1_bn[0][0]          \n",
      "__________________________________________________________________________________________________\n",
      "conv2_block3_2_pad (ZeroPadding (None, 58, 58, 64)   0           conv2_block3_1_relu[0][0]        \n",
      "__________________________________________________________________________________________________\n",
      "conv2_block3_2_conv (Conv2D)    (None, 28, 28, 64)   36864       conv2_block3_2_pad[0][0]         \n",
      "__________________________________________________________________________________________________\n",
      "conv2_block3_2_bn (BatchNormali (None, 28, 28, 64)   256         conv2_block3_2_conv[0][0]        \n",
      "__________________________________________________________________________________________________\n",
      "conv2_block3_2_relu (Activation (None, 28, 28, 64)   0           conv2_block3_2_bn[0][0]          \n",
      "__________________________________________________________________________________________________\n",
      "max_pooling2d_3 (MaxPooling2D)  (None, 28, 28, 256)  0           conv2_block2_out[0][0]           \n",
      "__________________________________________________________________________________________________\n",
      "conv2_block3_3_conv (Conv2D)    (None, 28, 28, 256)  16640       conv2_block3_2_relu[0][0]        \n",
      "__________________________________________________________________________________________________\n",
      "conv2_block3_out (Add)          (None, 28, 28, 256)  0           max_pooling2d_3[0][0]            \n",
      "                                                                 conv2_block3_3_conv[0][0]        \n",
      "__________________________________________________________________________________________________\n",
      "conv3_block1_preact_bn (BatchNo (None, 28, 28, 256)  1024        conv2_block3_out[0][0]           \n",
      "__________________________________________________________________________________________________\n",
      "conv3_block1_preact_relu (Activ (None, 28, 28, 256)  0           conv3_block1_preact_bn[0][0]     \n",
      "__________________________________________________________________________________________________\n",
      "conv3_block1_1_conv (Conv2D)    (None, 28, 28, 128)  32768       conv3_block1_preact_relu[0][0]   \n",
      "__________________________________________________________________________________________________\n",
      "conv3_block1_1_bn (BatchNormali (None, 28, 28, 128)  512         conv3_block1_1_conv[0][0]        \n",
      "__________________________________________________________________________________________________\n",
      "conv3_block1_1_relu (Activation (None, 28, 28, 128)  0           conv3_block1_1_bn[0][0]          \n",
      "__________________________________________________________________________________________________\n",
      "conv3_block1_2_pad (ZeroPadding (None, 30, 30, 128)  0           conv3_block1_1_relu[0][0]        \n",
      "__________________________________________________________________________________________________\n",
      "conv3_block1_2_conv (Conv2D)    (None, 28, 28, 128)  147456      conv3_block1_2_pad[0][0]         \n",
      "__________________________________________________________________________________________________\n",
      "conv3_block1_2_bn (BatchNormali (None, 28, 28, 128)  512         conv3_block1_2_conv[0][0]        \n",
      "__________________________________________________________________________________________________\n",
      "conv3_block1_2_relu (Activation (None, 28, 28, 128)  0           conv3_block1_2_bn[0][0]          \n",
      "__________________________________________________________________________________________________\n",
      "conv3_block1_0_conv (Conv2D)    (None, 28, 28, 512)  131584      conv3_block1_preact_relu[0][0]   \n",
      "__________________________________________________________________________________________________\n",
      "conv3_block1_3_conv (Conv2D)    (None, 28, 28, 512)  66048       conv3_block1_2_relu[0][0]        \n",
      "__________________________________________________________________________________________________\n",
      "conv3_block1_out (Add)          (None, 28, 28, 512)  0           conv3_block1_0_conv[0][0]        \n",
      "                                                                 conv3_block1_3_conv[0][0]        \n",
      "__________________________________________________________________________________________________\n",
      "conv3_block2_preact_bn (BatchNo (None, 28, 28, 512)  2048        conv3_block1_out[0][0]           \n",
      "__________________________________________________________________________________________________\n",
      "conv3_block2_preact_relu (Activ (None, 28, 28, 512)  0           conv3_block2_preact_bn[0][0]     \n",
      "__________________________________________________________________________________________________\n",
      "conv3_block2_1_conv (Conv2D)    (None, 28, 28, 128)  65536       conv3_block2_preact_relu[0][0]   \n",
      "__________________________________________________________________________________________________\n",
      "conv3_block2_1_bn (BatchNormali (None, 28, 28, 128)  512         conv3_block2_1_conv[0][0]        \n",
      "__________________________________________________________________________________________________\n",
      "conv3_block2_1_relu (Activation (None, 28, 28, 128)  0           conv3_block2_1_bn[0][0]          \n",
      "__________________________________________________________________________________________________\n",
      "conv3_block2_2_pad (ZeroPadding (None, 30, 30, 128)  0           conv3_block2_1_relu[0][0]        \n",
      "__________________________________________________________________________________________________\n",
      "conv3_block2_2_conv (Conv2D)    (None, 28, 28, 128)  147456      conv3_block2_2_pad[0][0]         \n",
      "__________________________________________________________________________________________________\n",
      "conv3_block2_2_bn (BatchNormali (None, 28, 28, 128)  512         conv3_block2_2_conv[0][0]        \n",
      "__________________________________________________________________________________________________\n",
      "conv3_block2_2_relu (Activation (None, 28, 28, 128)  0           conv3_block2_2_bn[0][0]          \n",
      "__________________________________________________________________________________________________\n",
      "conv3_block2_3_conv (Conv2D)    (None, 28, 28, 512)  66048       conv3_block2_2_relu[0][0]        \n",
      "__________________________________________________________________________________________________\n",
      "conv3_block2_out (Add)          (None, 28, 28, 512)  0           conv3_block1_out[0][0]           \n",
      "                                                                 conv3_block2_3_conv[0][0]        \n",
      "__________________________________________________________________________________________________\n",
      "conv3_block3_preact_bn (BatchNo (None, 28, 28, 512)  2048        conv3_block2_out[0][0]           \n",
      "__________________________________________________________________________________________________\n",
      "conv3_block3_preact_relu (Activ (None, 28, 28, 512)  0           conv3_block3_preact_bn[0][0]     \n",
      "__________________________________________________________________________________________________\n",
      "conv3_block3_1_conv (Conv2D)    (None, 28, 28, 128)  65536       conv3_block3_preact_relu[0][0]   \n",
      "__________________________________________________________________________________________________\n",
      "conv3_block3_1_bn (BatchNormali (None, 28, 28, 128)  512         conv3_block3_1_conv[0][0]        \n",
      "__________________________________________________________________________________________________\n",
      "conv3_block3_1_relu (Activation (None, 28, 28, 128)  0           conv3_block3_1_bn[0][0]          \n",
      "__________________________________________________________________________________________________\n",
      "conv3_block3_2_pad (ZeroPadding (None, 30, 30, 128)  0           conv3_block3_1_relu[0][0]        \n",
      "__________________________________________________________________________________________________\n",
      "conv3_block3_2_conv (Conv2D)    (None, 28, 28, 128)  147456      conv3_block3_2_pad[0][0]         \n",
      "__________________________________________________________________________________________________\n",
      "conv3_block3_2_bn (BatchNormali (None, 28, 28, 128)  512         conv3_block3_2_conv[0][0]        \n",
      "__________________________________________________________________________________________________\n",
      "conv3_block3_2_relu (Activation (None, 28, 28, 128)  0           conv3_block3_2_bn[0][0]          \n",
      "__________________________________________________________________________________________________\n",
      "conv3_block3_3_conv (Conv2D)    (None, 28, 28, 512)  66048       conv3_block3_2_relu[0][0]        \n",
      "__________________________________________________________________________________________________\n",
      "conv3_block3_out (Add)          (None, 28, 28, 512)  0           conv3_block2_out[0][0]           \n",
      "                                                                 conv3_block3_3_conv[0][0]        \n",
      "__________________________________________________________________________________________________\n",
      "conv3_block4_preact_bn (BatchNo (None, 28, 28, 512)  2048        conv3_block3_out[0][0]           \n",
      "__________________________________________________________________________________________________\n",
      "conv3_block4_preact_relu (Activ (None, 28, 28, 512)  0           conv3_block4_preact_bn[0][0]     \n",
      "__________________________________________________________________________________________________\n",
      "conv3_block4_1_conv (Conv2D)    (None, 28, 28, 128)  65536       conv3_block4_preact_relu[0][0]   \n",
      "__________________________________________________________________________________________________\n",
      "conv3_block4_1_bn (BatchNormali (None, 28, 28, 128)  512         conv3_block4_1_conv[0][0]        \n",
      "__________________________________________________________________________________________________\n",
      "conv3_block4_1_relu (Activation (None, 28, 28, 128)  0           conv3_block4_1_bn[0][0]          \n",
      "__________________________________________________________________________________________________\n",
      "conv3_block4_2_pad (ZeroPadding (None, 30, 30, 128)  0           conv3_block4_1_relu[0][0]        \n",
      "__________________________________________________________________________________________________\n",
      "conv3_block4_2_conv (Conv2D)    (None, 14, 14, 128)  147456      conv3_block4_2_pad[0][0]         \n",
      "__________________________________________________________________________________________________\n",
      "conv3_block4_2_bn (BatchNormali (None, 14, 14, 128)  512         conv3_block4_2_conv[0][0]        \n",
      "__________________________________________________________________________________________________\n",
      "conv3_block4_2_relu (Activation (None, 14, 14, 128)  0           conv3_block4_2_bn[0][0]          \n",
      "__________________________________________________________________________________________________\n",
      "max_pooling2d_4 (MaxPooling2D)  (None, 14, 14, 512)  0           conv3_block3_out[0][0]           \n",
      "__________________________________________________________________________________________________\n",
      "conv3_block4_3_conv (Conv2D)    (None, 14, 14, 512)  66048       conv3_block4_2_relu[0][0]        \n",
      "__________________________________________________________________________________________________\n",
      "conv3_block4_out (Add)          (None, 14, 14, 512)  0           max_pooling2d_4[0][0]            \n",
      "                                                                 conv3_block4_3_conv[0][0]        \n",
      "__________________________________________________________________________________________________\n",
      "conv4_block1_preact_bn (BatchNo (None, 14, 14, 512)  2048        conv3_block4_out[0][0]           \n",
      "__________________________________________________________________________________________________\n",
      "conv4_block1_preact_relu (Activ (None, 14, 14, 512)  0           conv4_block1_preact_bn[0][0]     \n",
      "__________________________________________________________________________________________________\n",
      "conv4_block1_1_conv (Conv2D)    (None, 14, 14, 256)  131072      conv4_block1_preact_relu[0][0]   \n",
      "__________________________________________________________________________________________________\n",
      "conv4_block1_1_bn (BatchNormali (None, 14, 14, 256)  1024        conv4_block1_1_conv[0][0]        \n",
      "__________________________________________________________________________________________________\n",
      "conv4_block1_1_relu (Activation (None, 14, 14, 256)  0           conv4_block1_1_bn[0][0]          \n",
      "__________________________________________________________________________________________________\n",
      "conv4_block1_2_pad (ZeroPadding (None, 16, 16, 256)  0           conv4_block1_1_relu[0][0]        \n",
      "__________________________________________________________________________________________________\n",
      "conv4_block1_2_conv (Conv2D)    (None, 14, 14, 256)  589824      conv4_block1_2_pad[0][0]         \n",
      "__________________________________________________________________________________________________\n",
      "conv4_block1_2_bn (BatchNormali (None, 14, 14, 256)  1024        conv4_block1_2_conv[0][0]        \n",
      "__________________________________________________________________________________________________\n",
      "conv4_block1_2_relu (Activation (None, 14, 14, 256)  0           conv4_block1_2_bn[0][0]          \n",
      "__________________________________________________________________________________________________\n",
      "conv4_block1_0_conv (Conv2D)    (None, 14, 14, 1024) 525312      conv4_block1_preact_relu[0][0]   \n",
      "__________________________________________________________________________________________________\n",
      "conv4_block1_3_conv (Conv2D)    (None, 14, 14, 1024) 263168      conv4_block1_2_relu[0][0]        \n",
      "__________________________________________________________________________________________________\n",
      "conv4_block1_out (Add)          (None, 14, 14, 1024) 0           conv4_block1_0_conv[0][0]        \n",
      "                                                                 conv4_block1_3_conv[0][0]        \n",
      "__________________________________________________________________________________________________\n",
      "conv4_block2_preact_bn (BatchNo (None, 14, 14, 1024) 4096        conv4_block1_out[0][0]           \n",
      "__________________________________________________________________________________________________\n",
      "conv4_block2_preact_relu (Activ (None, 14, 14, 1024) 0           conv4_block2_preact_bn[0][0]     \n",
      "__________________________________________________________________________________________________\n",
      "conv4_block2_1_conv (Conv2D)    (None, 14, 14, 256)  262144      conv4_block2_preact_relu[0][0]   \n",
      "__________________________________________________________________________________________________\n",
      "conv4_block2_1_bn (BatchNormali (None, 14, 14, 256)  1024        conv4_block2_1_conv[0][0]        \n",
      "__________________________________________________________________________________________________\n",
      "conv4_block2_1_relu (Activation (None, 14, 14, 256)  0           conv4_block2_1_bn[0][0]          \n",
      "__________________________________________________________________________________________________\n",
      "conv4_block2_2_pad (ZeroPadding (None, 16, 16, 256)  0           conv4_block2_1_relu[0][0]        \n",
      "__________________________________________________________________________________________________\n",
      "conv4_block2_2_conv (Conv2D)    (None, 14, 14, 256)  589824      conv4_block2_2_pad[0][0]         \n",
      "__________________________________________________________________________________________________\n",
      "conv4_block2_2_bn (BatchNormali (None, 14, 14, 256)  1024        conv4_block2_2_conv[0][0]        \n",
      "__________________________________________________________________________________________________\n",
      "conv4_block2_2_relu (Activation (None, 14, 14, 256)  0           conv4_block2_2_bn[0][0]          \n",
      "__________________________________________________________________________________________________\n",
      "conv4_block2_3_conv (Conv2D)    (None, 14, 14, 1024) 263168      conv4_block2_2_relu[0][0]        \n",
      "__________________________________________________________________________________________________\n",
      "conv4_block2_out (Add)          (None, 14, 14, 1024) 0           conv4_block1_out[0][0]           \n",
      "                                                                 conv4_block2_3_conv[0][0]        \n",
      "__________________________________________________________________________________________________\n",
      "conv4_block3_preact_bn (BatchNo (None, 14, 14, 1024) 4096        conv4_block2_out[0][0]           \n",
      "__________________________________________________________________________________________________\n",
      "conv4_block3_preact_relu (Activ (None, 14, 14, 1024) 0           conv4_block3_preact_bn[0][0]     \n",
      "__________________________________________________________________________________________________\n",
      "conv4_block3_1_conv (Conv2D)    (None, 14, 14, 256)  262144      conv4_block3_preact_relu[0][0]   \n",
      "__________________________________________________________________________________________________\n",
      "conv4_block3_1_bn (BatchNormali (None, 14, 14, 256)  1024        conv4_block3_1_conv[0][0]        \n",
      "__________________________________________________________________________________________________\n",
      "conv4_block3_1_relu (Activation (None, 14, 14, 256)  0           conv4_block3_1_bn[0][0]          \n",
      "__________________________________________________________________________________________________\n",
      "conv4_block3_2_pad (ZeroPadding (None, 16, 16, 256)  0           conv4_block3_1_relu[0][0]        \n",
      "__________________________________________________________________________________________________\n",
      "conv4_block3_2_conv (Conv2D)    (None, 14, 14, 256)  589824      conv4_block3_2_pad[0][0]         \n",
      "__________________________________________________________________________________________________\n",
      "conv4_block3_2_bn (BatchNormali (None, 14, 14, 256)  1024        conv4_block3_2_conv[0][0]        \n",
      "__________________________________________________________________________________________________\n",
      "conv4_block3_2_relu (Activation (None, 14, 14, 256)  0           conv4_block3_2_bn[0][0]          \n",
      "__________________________________________________________________________________________________\n",
      "conv4_block3_3_conv (Conv2D)    (None, 14, 14, 1024) 263168      conv4_block3_2_relu[0][0]        \n",
      "__________________________________________________________________________________________________\n",
      "conv4_block3_out (Add)          (None, 14, 14, 1024) 0           conv4_block2_out[0][0]           \n",
      "                                                                 conv4_block3_3_conv[0][0]        \n",
      "__________________________________________________________________________________________________\n",
      "conv4_block4_preact_bn (BatchNo (None, 14, 14, 1024) 4096        conv4_block3_out[0][0]           \n",
      "__________________________________________________________________________________________________\n",
      "conv4_block4_preact_relu (Activ (None, 14, 14, 1024) 0           conv4_block4_preact_bn[0][0]     \n",
      "__________________________________________________________________________________________________\n",
      "conv4_block4_1_conv (Conv2D)    (None, 14, 14, 256)  262144      conv4_block4_preact_relu[0][0]   \n",
      "__________________________________________________________________________________________________\n",
      "conv4_block4_1_bn (BatchNormali (None, 14, 14, 256)  1024        conv4_block4_1_conv[0][0]        \n",
      "__________________________________________________________________________________________________\n",
      "conv4_block4_1_relu (Activation (None, 14, 14, 256)  0           conv4_block4_1_bn[0][0]          \n",
      "__________________________________________________________________________________________________\n",
      "conv4_block4_2_pad (ZeroPadding (None, 16, 16, 256)  0           conv4_block4_1_relu[0][0]        \n",
      "__________________________________________________________________________________________________\n",
      "conv4_block4_2_conv (Conv2D)    (None, 14, 14, 256)  589824      conv4_block4_2_pad[0][0]         \n",
      "__________________________________________________________________________________________________\n",
      "conv4_block4_2_bn (BatchNormali (None, 14, 14, 256)  1024        conv4_block4_2_conv[0][0]        \n",
      "__________________________________________________________________________________________________\n",
      "conv4_block4_2_relu (Activation (None, 14, 14, 256)  0           conv4_block4_2_bn[0][0]          \n",
      "__________________________________________________________________________________________________\n",
      "conv4_block4_3_conv (Conv2D)    (None, 14, 14, 1024) 263168      conv4_block4_2_relu[0][0]        \n",
      "__________________________________________________________________________________________________\n",
      "conv4_block4_out (Add)          (None, 14, 14, 1024) 0           conv4_block3_out[0][0]           \n",
      "                                                                 conv4_block4_3_conv[0][0]        \n",
      "__________________________________________________________________________________________________\n",
      "conv4_block5_preact_bn (BatchNo (None, 14, 14, 1024) 4096        conv4_block4_out[0][0]           \n",
      "__________________________________________________________________________________________________\n",
      "conv4_block5_preact_relu (Activ (None, 14, 14, 1024) 0           conv4_block5_preact_bn[0][0]     \n",
      "__________________________________________________________________________________________________\n",
      "conv4_block5_1_conv (Conv2D)    (None, 14, 14, 256)  262144      conv4_block5_preact_relu[0][0]   \n",
      "__________________________________________________________________________________________________\n",
      "conv4_block5_1_bn (BatchNormali (None, 14, 14, 256)  1024        conv4_block5_1_conv[0][0]        \n",
      "__________________________________________________________________________________________________\n",
      "conv4_block5_1_relu (Activation (None, 14, 14, 256)  0           conv4_block5_1_bn[0][0]          \n",
      "__________________________________________________________________________________________________\n",
      "conv4_block5_2_pad (ZeroPadding (None, 16, 16, 256)  0           conv4_block5_1_relu[0][0]        \n",
      "__________________________________________________________________________________________________\n",
      "conv4_block5_2_conv (Conv2D)    (None, 14, 14, 256)  589824      conv4_block5_2_pad[0][0]         \n",
      "__________________________________________________________________________________________________\n",
      "conv4_block5_2_bn (BatchNormali (None, 14, 14, 256)  1024        conv4_block5_2_conv[0][0]        \n",
      "__________________________________________________________________________________________________\n",
      "conv4_block5_2_relu (Activation (None, 14, 14, 256)  0           conv4_block5_2_bn[0][0]          \n",
      "__________________________________________________________________________________________________\n",
      "conv4_block5_3_conv (Conv2D)    (None, 14, 14, 1024) 263168      conv4_block5_2_relu[0][0]        \n",
      "__________________________________________________________________________________________________\n",
      "conv4_block5_out (Add)          (None, 14, 14, 1024) 0           conv4_block4_out[0][0]           \n",
      "                                                                 conv4_block5_3_conv[0][0]        \n",
      "__________________________________________________________________________________________________\n",
      "conv4_block6_preact_bn (BatchNo (None, 14, 14, 1024) 4096        conv4_block5_out[0][0]           \n",
      "__________________________________________________________________________________________________\n",
      "conv4_block6_preact_relu (Activ (None, 14, 14, 1024) 0           conv4_block6_preact_bn[0][0]     \n",
      "__________________________________________________________________________________________________\n",
      "conv4_block6_1_conv (Conv2D)    (None, 14, 14, 256)  262144      conv4_block6_preact_relu[0][0]   \n",
      "__________________________________________________________________________________________________\n",
      "conv4_block6_1_bn (BatchNormali (None, 14, 14, 256)  1024        conv4_block6_1_conv[0][0]        \n",
      "__________________________________________________________________________________________________\n",
      "conv4_block6_1_relu (Activation (None, 14, 14, 256)  0           conv4_block6_1_bn[0][0]          \n",
      "__________________________________________________________________________________________________\n",
      "conv4_block6_2_pad (ZeroPadding (None, 16, 16, 256)  0           conv4_block6_1_relu[0][0]        \n",
      "__________________________________________________________________________________________________\n",
      "conv4_block6_2_conv (Conv2D)    (None, 7, 7, 256)    589824      conv4_block6_2_pad[0][0]         \n",
      "__________________________________________________________________________________________________\n",
      "conv4_block6_2_bn (BatchNormali (None, 7, 7, 256)    1024        conv4_block6_2_conv[0][0]        \n",
      "__________________________________________________________________________________________________\n",
      "conv4_block6_2_relu (Activation (None, 7, 7, 256)    0           conv4_block6_2_bn[0][0]          \n",
      "__________________________________________________________________________________________________\n",
      "max_pooling2d_5 (MaxPooling2D)  (None, 7, 7, 1024)   0           conv4_block5_out[0][0]           \n",
      "__________________________________________________________________________________________________\n",
      "conv4_block6_3_conv (Conv2D)    (None, 7, 7, 1024)   263168      conv4_block6_2_relu[0][0]        \n",
      "__________________________________________________________________________________________________\n",
      "conv4_block6_out (Add)          (None, 7, 7, 1024)   0           max_pooling2d_5[0][0]            \n",
      "                                                                 conv4_block6_3_conv[0][0]        \n",
      "__________________________________________________________________________________________________\n",
      "conv5_block1_preact_bn (BatchNo (None, 7, 7, 1024)   4096        conv4_block6_out[0][0]           \n",
      "__________________________________________________________________________________________________\n",
      "conv5_block1_preact_relu (Activ (None, 7, 7, 1024)   0           conv5_block1_preact_bn[0][0]     \n",
      "__________________________________________________________________________________________________\n",
      "conv5_block1_1_conv (Conv2D)    (None, 7, 7, 512)    524288      conv5_block1_preact_relu[0][0]   \n",
      "__________________________________________________________________________________________________\n",
      "conv5_block1_1_bn (BatchNormali (None, 7, 7, 512)    2048        conv5_block1_1_conv[0][0]        \n",
      "__________________________________________________________________________________________________\n",
      "conv5_block1_1_relu (Activation (None, 7, 7, 512)    0           conv5_block1_1_bn[0][0]          \n",
      "__________________________________________________________________________________________________\n",
      "conv5_block1_2_pad (ZeroPadding (None, 9, 9, 512)    0           conv5_block1_1_relu[0][0]        \n",
      "__________________________________________________________________________________________________\n",
      "conv5_block1_2_conv (Conv2D)    (None, 7, 7, 512)    2359296     conv5_block1_2_pad[0][0]         \n",
      "__________________________________________________________________________________________________\n",
      "conv5_block1_2_bn (BatchNormali (None, 7, 7, 512)    2048        conv5_block1_2_conv[0][0]        \n",
      "__________________________________________________________________________________________________\n",
      "conv5_block1_2_relu (Activation (None, 7, 7, 512)    0           conv5_block1_2_bn[0][0]          \n",
      "__________________________________________________________________________________________________\n",
      "conv5_block1_0_conv (Conv2D)    (None, 7, 7, 2048)   2099200     conv5_block1_preact_relu[0][0]   \n",
      "__________________________________________________________________________________________________\n",
      "conv5_block1_3_conv (Conv2D)    (None, 7, 7, 2048)   1050624     conv5_block1_2_relu[0][0]        \n",
      "__________________________________________________________________________________________________\n",
      "conv5_block1_out (Add)          (None, 7, 7, 2048)   0           conv5_block1_0_conv[0][0]        \n",
      "                                                                 conv5_block1_3_conv[0][0]        \n",
      "__________________________________________________________________________________________________\n",
      "conv5_block2_preact_bn (BatchNo (None, 7, 7, 2048)   8192        conv5_block1_out[0][0]           \n",
      "__________________________________________________________________________________________________\n",
      "conv5_block2_preact_relu (Activ (None, 7, 7, 2048)   0           conv5_block2_preact_bn[0][0]     \n",
      "__________________________________________________________________________________________________\n",
      "conv5_block2_1_conv (Conv2D)    (None, 7, 7, 512)    1048576     conv5_block2_preact_relu[0][0]   \n",
      "__________________________________________________________________________________________________\n",
      "conv5_block2_1_bn (BatchNormali (None, 7, 7, 512)    2048        conv5_block2_1_conv[0][0]        \n",
      "__________________________________________________________________________________________________\n",
      "conv5_block2_1_relu (Activation (None, 7, 7, 512)    0           conv5_block2_1_bn[0][0]          \n",
      "__________________________________________________________________________________________________\n",
      "conv5_block2_2_pad (ZeroPadding (None, 9, 9, 512)    0           conv5_block2_1_relu[0][0]        \n",
      "__________________________________________________________________________________________________\n",
      "conv5_block2_2_conv (Conv2D)    (None, 7, 7, 512)    2359296     conv5_block2_2_pad[0][0]         \n",
      "__________________________________________________________________________________________________\n",
      "conv5_block2_2_bn (BatchNormali (None, 7, 7, 512)    2048        conv5_block2_2_conv[0][0]        \n",
      "__________________________________________________________________________________________________\n",
      "conv5_block2_2_relu (Activation (None, 7, 7, 512)    0           conv5_block2_2_bn[0][0]          \n",
      "__________________________________________________________________________________________________\n",
      "conv5_block2_3_conv (Conv2D)    (None, 7, 7, 2048)   1050624     conv5_block2_2_relu[0][0]        \n",
      "__________________________________________________________________________________________________\n",
      "conv5_block2_out (Add)          (None, 7, 7, 2048)   0           conv5_block1_out[0][0]           \n",
      "                                                                 conv5_block2_3_conv[0][0]        \n",
      "__________________________________________________________________________________________________\n",
      "conv5_block3_preact_bn (BatchNo (None, 7, 7, 2048)   8192        conv5_block2_out[0][0]           \n",
      "__________________________________________________________________________________________________\n",
      "conv5_block3_preact_relu (Activ (None, 7, 7, 2048)   0           conv5_block3_preact_bn[0][0]     \n",
      "__________________________________________________________________________________________________\n",
      "conv5_block3_1_conv (Conv2D)    (None, 7, 7, 512)    1048576     conv5_block3_preact_relu[0][0]   \n",
      "__________________________________________________________________________________________________\n",
      "conv5_block3_1_bn (BatchNormali (None, 7, 7, 512)    2048        conv5_block3_1_conv[0][0]        \n",
      "__________________________________________________________________________________________________\n",
      "conv5_block3_1_relu (Activation (None, 7, 7, 512)    0           conv5_block3_1_bn[0][0]          \n",
      "__________________________________________________________________________________________________\n",
      "conv5_block3_2_pad (ZeroPadding (None, 9, 9, 512)    0           conv5_block3_1_relu[0][0]        \n",
      "__________________________________________________________________________________________________\n",
      "conv5_block3_2_conv (Conv2D)    (None, 7, 7, 512)    2359296     conv5_block3_2_pad[0][0]         \n",
      "__________________________________________________________________________________________________\n",
      "conv5_block3_2_bn (BatchNormali (None, 7, 7, 512)    2048        conv5_block3_2_conv[0][0]        \n",
      "__________________________________________________________________________________________________\n",
      "conv5_block3_2_relu (Activation (None, 7, 7, 512)    0           conv5_block3_2_bn[0][0]          \n",
      "__________________________________________________________________________________________________\n",
      "conv5_block3_3_conv (Conv2D)    (None, 7, 7, 2048)   1050624     conv5_block3_2_relu[0][0]        \n",
      "__________________________________________________________________________________________________\n",
      "conv5_block3_out (Add)          (None, 7, 7, 2048)   0           conv5_block2_out[0][0]           \n",
      "                                                                 conv5_block3_3_conv[0][0]        \n",
      "__________________________________________________________________________________________________\n",
      "post_bn (BatchNormalization)    (None, 7, 7, 2048)   8192        conv5_block3_out[0][0]           \n",
      "__________________________________________________________________________________________________\n",
      "post_relu (Activation)          (None, 7, 7, 2048)   0           post_bn[0][0]                    \n",
      "__________________________________________________________________________________________________\n",
      "avg_pool (GlobalAveragePooling2 (None, 2048)         0           post_relu[0][0]                  \n",
      "__________________________________________________________________________________________________\n",
      "dense_4 (Dense)                 (None, 97)           198753      avg_pool[0][0]                   \n",
      "==================================================================================================\n",
      "Total params: 23,763,553\n",
      "Trainable params: 198,753\n",
      "Non-trainable params: 23,564,800\n",
      "__________________________________________________________________________________________________\n"
     ]
    }
   ],
   "source": [
    "# make all layers untrainable by freezing weights (except for last layer)\n",
    "for l, layer in enumerate(model_tl_v1.layers[:-1]):\n",
    "    layer.trainable = False\n",
    "\n",
    "# ensure the last layer is trainable/not frozen\n",
    "for l, layer in enumerate(model_tl_v1.layers[-1:]):\n",
    "    layer.trainable = True\n",
    "\n",
    "model_tl_v1.compile(loss='categorical_crossentropy',\n",
    "                    optimizer=keras.optimizers.Adam(learning_rate=3e-4),\n",
    "                    metrics=['accuracy'])\n",
    "model_tl_v1.summary()"
   ]
  },
  {
   "cell_type": "markdown",
   "metadata": {
    "colab_type": "text",
    "id": "IQgx2ioyU713"
   },
   "source": [
    "We now have 198,753 parameters to train in the transfer learning network."
   ]
  },
  {
   "cell_type": "code",
   "execution_count": 33,
   "metadata": {
    "colab": {
     "base_uri": "https://localhost:8080/",
     "height": 1000
    },
    "colab_type": "code",
    "id": "63YI4D2Gm51L",
    "outputId": "a25ab6eb-28a4-4008-c8e2-2bdc216f1d3b"
   },
   "outputs": [
    {
     "name": "stdout",
     "output_type": "stream",
     "text": [
      "Train on 4346 samples, validate on 931 samples\n",
      "Epoch 1/100\n",
      "4346/4346 [==============================] - 16s 4ms/step - loss: 4.0661 - accuracy: 0.1392 - val_loss: 2.8724 - val_accuracy: 0.3577\n",
      "Epoch 2/100\n",
      "4346/4346 [==============================] - 12s 3ms/step - loss: 2.4587 - accuracy: 0.5345 - val_loss: 1.5425 - val_accuracy: 0.6896\n",
      "Epoch 3/100\n",
      "4346/4346 [==============================] - 12s 3ms/step - loss: 1.5187 - accuracy: 0.7715 - val_loss: 0.9611 - val_accuracy: 0.7938\n",
      "Epoch 4/100\n",
      "4346/4346 [==============================] - 12s 3ms/step - loss: 1.0108 - accuracy: 0.8629 - val_loss: 0.7145 - val_accuracy: 0.8367\n",
      "Epoch 5/100\n",
      "4346/4346 [==============================] - 12s 3ms/step - loss: 0.7317 - accuracy: 0.9128 - val_loss: 0.5830 - val_accuracy: 0.8593\n",
      "Epoch 6/100\n",
      "4346/4346 [==============================] - 12s 3ms/step - loss: 0.5675 - accuracy: 0.9337 - val_loss: 0.5141 - val_accuracy: 0.8679\n",
      "Epoch 7/100\n",
      "4346/4346 [==============================] - 12s 3ms/step - loss: 0.4566 - accuracy: 0.9471 - val_loss: 0.4684 - val_accuracy: 0.8743\n",
      "Epoch 8/100\n",
      "4346/4346 [==============================] - 12s 3ms/step - loss: 0.3786 - accuracy: 0.9581 - val_loss: 0.4395 - val_accuracy: 0.8861\n",
      "Epoch 9/100\n",
      "4346/4346 [==============================] - 12s 3ms/step - loss: 0.3235 - accuracy: 0.9676 - val_loss: 0.4127 - val_accuracy: 0.8894\n",
      "Epoch 10/100\n",
      "4346/4346 [==============================] - 12s 3ms/step - loss: 0.2751 - accuracy: 0.9761 - val_loss: 0.4000 - val_accuracy: 0.8926\n",
      "Epoch 11/100\n",
      "4346/4346 [==============================] - 12s 3ms/step - loss: 0.2403 - accuracy: 0.9795 - val_loss: 0.3860 - val_accuracy: 0.8969\n",
      "Epoch 12/100\n",
      "4346/4346 [==============================] - 12s 3ms/step - loss: 0.2110 - accuracy: 0.9825 - val_loss: 0.3770 - val_accuracy: 0.8990\n",
      "Epoch 13/100\n",
      "4346/4346 [==============================] - 12s 3ms/step - loss: 0.1876 - accuracy: 0.9887 - val_loss: 0.3685 - val_accuracy: 0.9012\n",
      "Epoch 14/100\n",
      "4346/4346 [==============================] - 12s 3ms/step - loss: 0.1671 - accuracy: 0.9901 - val_loss: 0.3646 - val_accuracy: 0.8990\n",
      "Epoch 15/100\n",
      "4346/4346 [==============================] - 12s 3ms/step - loss: 0.1492 - accuracy: 0.9924 - val_loss: 0.3591 - val_accuracy: 0.9012\n",
      "Epoch 16/100\n",
      "4346/4346 [==============================] - 12s 3ms/step - loss: 0.1366 - accuracy: 0.9942 - val_loss: 0.3552 - val_accuracy: 0.9033\n",
      "Epoch 17/100\n",
      "4346/4346 [==============================] - 12s 3ms/step - loss: 0.1262 - accuracy: 0.9931 - val_loss: 0.3545 - val_accuracy: 0.9033\n",
      "Epoch 18/100\n",
      "4346/4346 [==============================] - 12s 3ms/step - loss: 0.1137 - accuracy: 0.9952 - val_loss: 0.3484 - val_accuracy: 0.9033\n",
      "Epoch 19/100\n",
      "4346/4346 [==============================] - 12s 3ms/step - loss: 0.1021 - accuracy: 0.9959 - val_loss: 0.3494 - val_accuracy: 0.9033\n",
      "Epoch 20/100\n",
      "4346/4346 [==============================] - 12s 3ms/step - loss: 0.0938 - accuracy: 0.9972 - val_loss: 0.3451 - val_accuracy: 0.9066\n",
      "Epoch 21/100\n",
      "4346/4346 [==============================] - 12s 3ms/step - loss: 0.0873 - accuracy: 0.9972 - val_loss: 0.3413 - val_accuracy: 0.9066\n",
      "Epoch 22/100\n",
      "4346/4346 [==============================] - 12s 3ms/step - loss: 0.0822 - accuracy: 0.9982 - val_loss: 0.3429 - val_accuracy: 0.9055\n",
      "Epoch 23/100\n",
      "4346/4346 [==============================] - 12s 3ms/step - loss: 0.0760 - accuracy: 0.9977 - val_loss: 0.3392 - val_accuracy: 0.9033\n",
      "Epoch 24/100\n",
      "4346/4346 [==============================] - 12s 3ms/step - loss: 0.0695 - accuracy: 0.9988 - val_loss: 0.3391 - val_accuracy: 0.9066\n",
      "Epoch 25/100\n",
      "4346/4346 [==============================] - 12s 3ms/step - loss: 0.0666 - accuracy: 0.9982 - val_loss: 0.3384 - val_accuracy: 0.9055\n",
      "Epoch 26/100\n",
      "4346/4346 [==============================] - 12s 3ms/step - loss: 0.0613 - accuracy: 0.9993 - val_loss: 0.3373 - val_accuracy: 0.9066\n",
      "Epoch 27/100\n",
      "4346/4346 [==============================] - 12s 3ms/step - loss: 0.0577 - accuracy: 0.9988 - val_loss: 0.3374 - val_accuracy: 0.9076\n",
      "Epoch 28/100\n",
      "4346/4346 [==============================] - 12s 3ms/step - loss: 0.0547 - accuracy: 0.9993 - val_loss: 0.3372 - val_accuracy: 0.9033\n",
      "Epoch 29/100\n",
      "4346/4346 [==============================] - 12s 3ms/step - loss: 0.0513 - accuracy: 0.9991 - val_loss: 0.3351 - val_accuracy: 0.9055\n",
      "Epoch 30/100\n",
      "4346/4346 [==============================] - 12s 3ms/step - loss: 0.0493 - accuracy: 0.9998 - val_loss: 0.3362 - val_accuracy: 0.9055\n",
      "Epoch 31/100\n",
      "4346/4346 [==============================] - 12s 3ms/step - loss: 0.0465 - accuracy: 0.9995 - val_loss: 0.3358 - val_accuracy: 0.9066\n",
      "Epoch 32/100\n",
      "4346/4346 [==============================] - 12s 3ms/step - loss: 0.0443 - accuracy: 0.9998 - val_loss: 0.3354 - val_accuracy: 0.9044\n",
      "Epoch 33/100\n",
      "4346/4346 [==============================] - 12s 3ms/step - loss: 0.0420 - accuracy: 0.9998 - val_loss: 0.3376 - val_accuracy: 0.9055\n",
      "Epoch 34/100\n",
      "4346/4346 [==============================] - 12s 3ms/step - loss: 0.0397 - accuracy: 0.9998 - val_loss: 0.3374 - val_accuracy: 0.9055\n",
      "Epoch 35/100\n",
      "4346/4346 [==============================] - 12s 3ms/step - loss: 0.0374 - accuracy: 0.9998 - val_loss: 0.3359 - val_accuracy: 0.9012\n",
      "Epoch 36/100\n",
      "4346/4346 [==============================] - 12s 3ms/step - loss: 0.0364 - accuracy: 0.9998 - val_loss: 0.3362 - val_accuracy: 0.9055\n",
      "Epoch 37/100\n",
      "4346/4346 [==============================] - 12s 3ms/step - loss: 0.0345 - accuracy: 0.9998 - val_loss: 0.3358 - val_accuracy: 0.9044\n",
      "Epoch 38/100\n",
      "4346/4346 [==============================] - 12s 3ms/step - loss: 0.0325 - accuracy: 1.0000 - val_loss: 0.3369 - val_accuracy: 0.9055\n",
      "Epoch 39/100\n",
      "4346/4346 [==============================] - 12s 3ms/step - loss: 0.0311 - accuracy: 1.0000 - val_loss: 0.3362 - val_accuracy: 0.9066\n"
     ]
    }
   ],
   "source": [
    "history_tl_v1 = model_tl_v1.fit(x_train, y_train, \n",
    "                                batch_size=128, \n",
    "                                epochs=100, \n",
    "                                validation_data=(x_val, y_val),\n",
    "                                callbacks=[keras.callbacks.EarlyStopping(patience=10, restore_best_weights=True)])"
   ]
  },
  {
   "cell_type": "code",
   "execution_count": 34,
   "metadata": {
    "colab": {
     "base_uri": "https://localhost:8080/",
     "height": 51
    },
    "colab_type": "code",
    "id": "bSeh6nqeupiG",
    "outputId": "e6c7adaf-3d4f-4644-e56c-ef5f6c51336b"
   },
   "outputs": [
    {
     "name": "stdout",
     "output_type": "stream",
     "text": [
      "Test loss: 0.2880383698597486\n",
      "Test accuracy: 0.9184549450874329\n"
     ]
    }
   ],
   "source": [
    "loss_tl_v1_train, accuracy_tl_v1_train = model_tl_v1.evaluate(x_train, y_train, verbose=0)\n",
    "loss_tl_v1_val, accuracy_tl_v1_val = model_tl_v1.evaluate(x_val, y_val, verbose=0)\n",
    "loss_tl_v1_test, accuracy_tl_v1_test = model_tl_v1.evaluate(x_test, y_test, verbose=0)\n",
    "\n",
    "print('Test loss:', loss_tl_v1_test)\n",
    "print('Test accuracy:', accuracy_tl_v1_test)"
   ]
  },
  {
   "cell_type": "markdown",
   "metadata": {
    "colab_type": "text",
    "id": "mpSWoHnle-B2"
   },
   "source": [
    "### Unfreezing the last two layers of ResNet-50\n",
    "The last two layers of the ResNet-50 network are the global average pooling layer and the dense layer with 1,000 neurons. We now attach an intermediate dense layer between these two layers so that we are training two layers in this version of our transfer learning network. We create a dense layer with 1,024 neurons with the output of the second to the last layer (global average pooling layer) of ResNet-50 as its input, and the output of this new layer will then be used as the input of the last dense layer (classification layer) with 97 neurons."
   ]
  },
  {
   "cell_type": "code",
   "execution_count": 0,
   "metadata": {
    "colab": {},
    "colab_type": "code",
    "id": "9XPK527QvU9X"
   },
   "outputs": [],
   "source": [
    "# make a reference to ResNet50V2's input layer\n",
    "inp = resnet50.input\n",
    "\n",
    "# make a new dense layer with 1,024 neurons and softmax layer with num_classes neurons\n",
    "new_dense_layer = Dense(1024, activation='relu')\n",
    "new_classification_layer = Dense(num_classes, activation='softmax')\n",
    "\n",
    "# connect our new dense layer to the second to last layer in ResNet50V2, and make a reference to it\n",
    "out1 = new_dense_layer(resnet50.layers[-2].output)\n",
    "\n",
    "# connect our softmax layer to the output of the layer above, and make a reference to it\n",
    "out2 = new_classification_layer(out1)\n",
    "\n",
    "# create a new network between inp and out2\n",
    "model_tl_v2 = Model(inp, out2)"
   ]
  },
  {
   "cell_type": "code",
   "execution_count": 36,
   "metadata": {
    "colab": {
     "base_uri": "https://localhost:8080/",
     "height": 1000
    },
    "colab_type": "code",
    "id": "LUihgSwa4OMP",
    "outputId": "9761a4e0-0994-486a-af30-cc2300f0df69"
   },
   "outputs": [
    {
     "name": "stdout",
     "output_type": "stream",
     "text": [
      "Model: \"model_2\"\n",
      "__________________________________________________________________________________________________\n",
      "Layer (type)                    Output Shape         Param #     Connected to                     \n",
      "==================================================================================================\n",
      "input_1 (InputLayer)            (None, 224, 224, 3)  0                                            \n",
      "__________________________________________________________________________________________________\n",
      "conv1_pad (ZeroPadding2D)       (None, 230, 230, 3)  0           input_1[0][0]                    \n",
      "__________________________________________________________________________________________________\n",
      "conv1_conv (Conv2D)             (None, 112, 112, 64) 9472        conv1_pad[0][0]                  \n",
      "__________________________________________________________________________________________________\n",
      "pool1_pad (ZeroPadding2D)       (None, 114, 114, 64) 0           conv1_conv[0][0]                 \n",
      "__________________________________________________________________________________________________\n",
      "pool1_pool (MaxPooling2D)       (None, 56, 56, 64)   0           pool1_pad[0][0]                  \n",
      "__________________________________________________________________________________________________\n",
      "conv2_block1_preact_bn (BatchNo (None, 56, 56, 64)   256         pool1_pool[0][0]                 \n",
      "__________________________________________________________________________________________________\n",
      "conv2_block1_preact_relu (Activ (None, 56, 56, 64)   0           conv2_block1_preact_bn[0][0]     \n",
      "__________________________________________________________________________________________________\n",
      "conv2_block1_1_conv (Conv2D)    (None, 56, 56, 64)   4096        conv2_block1_preact_relu[0][0]   \n",
      "__________________________________________________________________________________________________\n",
      "conv2_block1_1_bn (BatchNormali (None, 56, 56, 64)   256         conv2_block1_1_conv[0][0]        \n",
      "__________________________________________________________________________________________________\n",
      "conv2_block1_1_relu (Activation (None, 56, 56, 64)   0           conv2_block1_1_bn[0][0]          \n",
      "__________________________________________________________________________________________________\n",
      "conv2_block1_2_pad (ZeroPadding (None, 58, 58, 64)   0           conv2_block1_1_relu[0][0]        \n",
      "__________________________________________________________________________________________________\n",
      "conv2_block1_2_conv (Conv2D)    (None, 56, 56, 64)   36864       conv2_block1_2_pad[0][0]         \n",
      "__________________________________________________________________________________________________\n",
      "conv2_block1_2_bn (BatchNormali (None, 56, 56, 64)   256         conv2_block1_2_conv[0][0]        \n",
      "__________________________________________________________________________________________________\n",
      "conv2_block1_2_relu (Activation (None, 56, 56, 64)   0           conv2_block1_2_bn[0][0]          \n",
      "__________________________________________________________________________________________________\n",
      "conv2_block1_0_conv (Conv2D)    (None, 56, 56, 256)  16640       conv2_block1_preact_relu[0][0]   \n",
      "__________________________________________________________________________________________________\n",
      "conv2_block1_3_conv (Conv2D)    (None, 56, 56, 256)  16640       conv2_block1_2_relu[0][0]        \n",
      "__________________________________________________________________________________________________\n",
      "conv2_block1_out (Add)          (None, 56, 56, 256)  0           conv2_block1_0_conv[0][0]        \n",
      "                                                                 conv2_block1_3_conv[0][0]        \n",
      "__________________________________________________________________________________________________\n",
      "conv2_block2_preact_bn (BatchNo (None, 56, 56, 256)  1024        conv2_block1_out[0][0]           \n",
      "__________________________________________________________________________________________________\n",
      "conv2_block2_preact_relu (Activ (None, 56, 56, 256)  0           conv2_block2_preact_bn[0][0]     \n",
      "__________________________________________________________________________________________________\n",
      "conv2_block2_1_conv (Conv2D)    (None, 56, 56, 64)   16384       conv2_block2_preact_relu[0][0]   \n",
      "__________________________________________________________________________________________________\n",
      "conv2_block2_1_bn (BatchNormali (None, 56, 56, 64)   256         conv2_block2_1_conv[0][0]        \n",
      "__________________________________________________________________________________________________\n",
      "conv2_block2_1_relu (Activation (None, 56, 56, 64)   0           conv2_block2_1_bn[0][0]          \n",
      "__________________________________________________________________________________________________\n",
      "conv2_block2_2_pad (ZeroPadding (None, 58, 58, 64)   0           conv2_block2_1_relu[0][0]        \n",
      "__________________________________________________________________________________________________\n",
      "conv2_block2_2_conv (Conv2D)    (None, 56, 56, 64)   36864       conv2_block2_2_pad[0][0]         \n",
      "__________________________________________________________________________________________________\n",
      "conv2_block2_2_bn (BatchNormali (None, 56, 56, 64)   256         conv2_block2_2_conv[0][0]        \n",
      "__________________________________________________________________________________________________\n",
      "conv2_block2_2_relu (Activation (None, 56, 56, 64)   0           conv2_block2_2_bn[0][0]          \n",
      "__________________________________________________________________________________________________\n",
      "conv2_block2_3_conv (Conv2D)    (None, 56, 56, 256)  16640       conv2_block2_2_relu[0][0]        \n",
      "__________________________________________________________________________________________________\n",
      "conv2_block2_out (Add)          (None, 56, 56, 256)  0           conv2_block1_out[0][0]           \n",
      "                                                                 conv2_block2_3_conv[0][0]        \n",
      "__________________________________________________________________________________________________\n",
      "conv2_block3_preact_bn (BatchNo (None, 56, 56, 256)  1024        conv2_block2_out[0][0]           \n",
      "__________________________________________________________________________________________________\n",
      "conv2_block3_preact_relu (Activ (None, 56, 56, 256)  0           conv2_block3_preact_bn[0][0]     \n",
      "__________________________________________________________________________________________________\n",
      "conv2_block3_1_conv (Conv2D)    (None, 56, 56, 64)   16384       conv2_block3_preact_relu[0][0]   \n",
      "__________________________________________________________________________________________________\n",
      "conv2_block3_1_bn (BatchNormali (None, 56, 56, 64)   256         conv2_block3_1_conv[0][0]        \n",
      "__________________________________________________________________________________________________\n",
      "conv2_block3_1_relu (Activation (None, 56, 56, 64)   0           conv2_block3_1_bn[0][0]          \n",
      "__________________________________________________________________________________________________\n",
      "conv2_block3_2_pad (ZeroPadding (None, 58, 58, 64)   0           conv2_block3_1_relu[0][0]        \n",
      "__________________________________________________________________________________________________\n",
      "conv2_block3_2_conv (Conv2D)    (None, 28, 28, 64)   36864       conv2_block3_2_pad[0][0]         \n",
      "__________________________________________________________________________________________________\n",
      "conv2_block3_2_bn (BatchNormali (None, 28, 28, 64)   256         conv2_block3_2_conv[0][0]        \n",
      "__________________________________________________________________________________________________\n",
      "conv2_block3_2_relu (Activation (None, 28, 28, 64)   0           conv2_block3_2_bn[0][0]          \n",
      "__________________________________________________________________________________________________\n",
      "max_pooling2d_3 (MaxPooling2D)  (None, 28, 28, 256)  0           conv2_block2_out[0][0]           \n",
      "__________________________________________________________________________________________________\n",
      "conv2_block3_3_conv (Conv2D)    (None, 28, 28, 256)  16640       conv2_block3_2_relu[0][0]        \n",
      "__________________________________________________________________________________________________\n",
      "conv2_block3_out (Add)          (None, 28, 28, 256)  0           max_pooling2d_3[0][0]            \n",
      "                                                                 conv2_block3_3_conv[0][0]        \n",
      "__________________________________________________________________________________________________\n",
      "conv3_block1_preact_bn (BatchNo (None, 28, 28, 256)  1024        conv2_block3_out[0][0]           \n",
      "__________________________________________________________________________________________________\n",
      "conv3_block1_preact_relu (Activ (None, 28, 28, 256)  0           conv3_block1_preact_bn[0][0]     \n",
      "__________________________________________________________________________________________________\n",
      "conv3_block1_1_conv (Conv2D)    (None, 28, 28, 128)  32768       conv3_block1_preact_relu[0][0]   \n",
      "__________________________________________________________________________________________________\n",
      "conv3_block1_1_bn (BatchNormali (None, 28, 28, 128)  512         conv3_block1_1_conv[0][0]        \n",
      "__________________________________________________________________________________________________\n",
      "conv3_block1_1_relu (Activation (None, 28, 28, 128)  0           conv3_block1_1_bn[0][0]          \n",
      "__________________________________________________________________________________________________\n",
      "conv3_block1_2_pad (ZeroPadding (None, 30, 30, 128)  0           conv3_block1_1_relu[0][0]        \n",
      "__________________________________________________________________________________________________\n",
      "conv3_block1_2_conv (Conv2D)    (None, 28, 28, 128)  147456      conv3_block1_2_pad[0][0]         \n",
      "__________________________________________________________________________________________________\n",
      "conv3_block1_2_bn (BatchNormali (None, 28, 28, 128)  512         conv3_block1_2_conv[0][0]        \n",
      "__________________________________________________________________________________________________\n",
      "conv3_block1_2_relu (Activation (None, 28, 28, 128)  0           conv3_block1_2_bn[0][0]          \n",
      "__________________________________________________________________________________________________\n",
      "conv3_block1_0_conv (Conv2D)    (None, 28, 28, 512)  131584      conv3_block1_preact_relu[0][0]   \n",
      "__________________________________________________________________________________________________\n",
      "conv3_block1_3_conv (Conv2D)    (None, 28, 28, 512)  66048       conv3_block1_2_relu[0][0]        \n",
      "__________________________________________________________________________________________________\n",
      "conv3_block1_out (Add)          (None, 28, 28, 512)  0           conv3_block1_0_conv[0][0]        \n",
      "                                                                 conv3_block1_3_conv[0][0]        \n",
      "__________________________________________________________________________________________________\n",
      "conv3_block2_preact_bn (BatchNo (None, 28, 28, 512)  2048        conv3_block1_out[0][0]           \n",
      "__________________________________________________________________________________________________\n",
      "conv3_block2_preact_relu (Activ (None, 28, 28, 512)  0           conv3_block2_preact_bn[0][0]     \n",
      "__________________________________________________________________________________________________\n",
      "conv3_block2_1_conv (Conv2D)    (None, 28, 28, 128)  65536       conv3_block2_preact_relu[0][0]   \n",
      "__________________________________________________________________________________________________\n",
      "conv3_block2_1_bn (BatchNormali (None, 28, 28, 128)  512         conv3_block2_1_conv[0][0]        \n",
      "__________________________________________________________________________________________________\n",
      "conv3_block2_1_relu (Activation (None, 28, 28, 128)  0           conv3_block2_1_bn[0][0]          \n",
      "__________________________________________________________________________________________________\n",
      "conv3_block2_2_pad (ZeroPadding (None, 30, 30, 128)  0           conv3_block2_1_relu[0][0]        \n",
      "__________________________________________________________________________________________________\n",
      "conv3_block2_2_conv (Conv2D)    (None, 28, 28, 128)  147456      conv3_block2_2_pad[0][0]         \n",
      "__________________________________________________________________________________________________\n",
      "conv3_block2_2_bn (BatchNormali (None, 28, 28, 128)  512         conv3_block2_2_conv[0][0]        \n",
      "__________________________________________________________________________________________________\n",
      "conv3_block2_2_relu (Activation (None, 28, 28, 128)  0           conv3_block2_2_bn[0][0]          \n",
      "__________________________________________________________________________________________________\n",
      "conv3_block2_3_conv (Conv2D)    (None, 28, 28, 512)  66048       conv3_block2_2_relu[0][0]        \n",
      "__________________________________________________________________________________________________\n",
      "conv3_block2_out (Add)          (None, 28, 28, 512)  0           conv3_block1_out[0][0]           \n",
      "                                                                 conv3_block2_3_conv[0][0]        \n",
      "__________________________________________________________________________________________________\n",
      "conv3_block3_preact_bn (BatchNo (None, 28, 28, 512)  2048        conv3_block2_out[0][0]           \n",
      "__________________________________________________________________________________________________\n",
      "conv3_block3_preact_relu (Activ (None, 28, 28, 512)  0           conv3_block3_preact_bn[0][0]     \n",
      "__________________________________________________________________________________________________\n",
      "conv3_block3_1_conv (Conv2D)    (None, 28, 28, 128)  65536       conv3_block3_preact_relu[0][0]   \n",
      "__________________________________________________________________________________________________\n",
      "conv3_block3_1_bn (BatchNormali (None, 28, 28, 128)  512         conv3_block3_1_conv[0][0]        \n",
      "__________________________________________________________________________________________________\n",
      "conv3_block3_1_relu (Activation (None, 28, 28, 128)  0           conv3_block3_1_bn[0][0]          \n",
      "__________________________________________________________________________________________________\n",
      "conv3_block3_2_pad (ZeroPadding (None, 30, 30, 128)  0           conv3_block3_1_relu[0][0]        \n",
      "__________________________________________________________________________________________________\n",
      "conv3_block3_2_conv (Conv2D)    (None, 28, 28, 128)  147456      conv3_block3_2_pad[0][0]         \n",
      "__________________________________________________________________________________________________\n",
      "conv3_block3_2_bn (BatchNormali (None, 28, 28, 128)  512         conv3_block3_2_conv[0][0]        \n",
      "__________________________________________________________________________________________________\n",
      "conv3_block3_2_relu (Activation (None, 28, 28, 128)  0           conv3_block3_2_bn[0][0]          \n",
      "__________________________________________________________________________________________________\n",
      "conv3_block3_3_conv (Conv2D)    (None, 28, 28, 512)  66048       conv3_block3_2_relu[0][0]        \n",
      "__________________________________________________________________________________________________\n",
      "conv3_block3_out (Add)          (None, 28, 28, 512)  0           conv3_block2_out[0][0]           \n",
      "                                                                 conv3_block3_3_conv[0][0]        \n",
      "__________________________________________________________________________________________________\n",
      "conv3_block4_preact_bn (BatchNo (None, 28, 28, 512)  2048        conv3_block3_out[0][0]           \n",
      "__________________________________________________________________________________________________\n",
      "conv3_block4_preact_relu (Activ (None, 28, 28, 512)  0           conv3_block4_preact_bn[0][0]     \n",
      "__________________________________________________________________________________________________\n",
      "conv3_block4_1_conv (Conv2D)    (None, 28, 28, 128)  65536       conv3_block4_preact_relu[0][0]   \n",
      "__________________________________________________________________________________________________\n",
      "conv3_block4_1_bn (BatchNormali (None, 28, 28, 128)  512         conv3_block4_1_conv[0][0]        \n",
      "__________________________________________________________________________________________________\n",
      "conv3_block4_1_relu (Activation (None, 28, 28, 128)  0           conv3_block4_1_bn[0][0]          \n",
      "__________________________________________________________________________________________________\n",
      "conv3_block4_2_pad (ZeroPadding (None, 30, 30, 128)  0           conv3_block4_1_relu[0][0]        \n",
      "__________________________________________________________________________________________________\n",
      "conv3_block4_2_conv (Conv2D)    (None, 14, 14, 128)  147456      conv3_block4_2_pad[0][0]         \n",
      "__________________________________________________________________________________________________\n",
      "conv3_block4_2_bn (BatchNormali (None, 14, 14, 128)  512         conv3_block4_2_conv[0][0]        \n",
      "__________________________________________________________________________________________________\n",
      "conv3_block4_2_relu (Activation (None, 14, 14, 128)  0           conv3_block4_2_bn[0][0]          \n",
      "__________________________________________________________________________________________________\n",
      "max_pooling2d_4 (MaxPooling2D)  (None, 14, 14, 512)  0           conv3_block3_out[0][0]           \n",
      "__________________________________________________________________________________________________\n",
      "conv3_block4_3_conv (Conv2D)    (None, 14, 14, 512)  66048       conv3_block4_2_relu[0][0]        \n",
      "__________________________________________________________________________________________________\n",
      "conv3_block4_out (Add)          (None, 14, 14, 512)  0           max_pooling2d_4[0][0]            \n",
      "                                                                 conv3_block4_3_conv[0][0]        \n",
      "__________________________________________________________________________________________________\n",
      "conv4_block1_preact_bn (BatchNo (None, 14, 14, 512)  2048        conv3_block4_out[0][0]           \n",
      "__________________________________________________________________________________________________\n",
      "conv4_block1_preact_relu (Activ (None, 14, 14, 512)  0           conv4_block1_preact_bn[0][0]     \n",
      "__________________________________________________________________________________________________\n",
      "conv4_block1_1_conv (Conv2D)    (None, 14, 14, 256)  131072      conv4_block1_preact_relu[0][0]   \n",
      "__________________________________________________________________________________________________\n",
      "conv4_block1_1_bn (BatchNormali (None, 14, 14, 256)  1024        conv4_block1_1_conv[0][0]        \n",
      "__________________________________________________________________________________________________\n",
      "conv4_block1_1_relu (Activation (None, 14, 14, 256)  0           conv4_block1_1_bn[0][0]          \n",
      "__________________________________________________________________________________________________\n",
      "conv4_block1_2_pad (ZeroPadding (None, 16, 16, 256)  0           conv4_block1_1_relu[0][0]        \n",
      "__________________________________________________________________________________________________\n",
      "conv4_block1_2_conv (Conv2D)    (None, 14, 14, 256)  589824      conv4_block1_2_pad[0][0]         \n",
      "__________________________________________________________________________________________________\n",
      "conv4_block1_2_bn (BatchNormali (None, 14, 14, 256)  1024        conv4_block1_2_conv[0][0]        \n",
      "__________________________________________________________________________________________________\n",
      "conv4_block1_2_relu (Activation (None, 14, 14, 256)  0           conv4_block1_2_bn[0][0]          \n",
      "__________________________________________________________________________________________________\n",
      "conv4_block1_0_conv (Conv2D)    (None, 14, 14, 1024) 525312      conv4_block1_preact_relu[0][0]   \n",
      "__________________________________________________________________________________________________\n",
      "conv4_block1_3_conv (Conv2D)    (None, 14, 14, 1024) 263168      conv4_block1_2_relu[0][0]        \n",
      "__________________________________________________________________________________________________\n",
      "conv4_block1_out (Add)          (None, 14, 14, 1024) 0           conv4_block1_0_conv[0][0]        \n",
      "                                                                 conv4_block1_3_conv[0][0]        \n",
      "__________________________________________________________________________________________________\n",
      "conv4_block2_preact_bn (BatchNo (None, 14, 14, 1024) 4096        conv4_block1_out[0][0]           \n",
      "__________________________________________________________________________________________________\n",
      "conv4_block2_preact_relu (Activ (None, 14, 14, 1024) 0           conv4_block2_preact_bn[0][0]     \n",
      "__________________________________________________________________________________________________\n",
      "conv4_block2_1_conv (Conv2D)    (None, 14, 14, 256)  262144      conv4_block2_preact_relu[0][0]   \n",
      "__________________________________________________________________________________________________\n",
      "conv4_block2_1_bn (BatchNormali (None, 14, 14, 256)  1024        conv4_block2_1_conv[0][0]        \n",
      "__________________________________________________________________________________________________\n",
      "conv4_block2_1_relu (Activation (None, 14, 14, 256)  0           conv4_block2_1_bn[0][0]          \n",
      "__________________________________________________________________________________________________\n",
      "conv4_block2_2_pad (ZeroPadding (None, 16, 16, 256)  0           conv4_block2_1_relu[0][0]        \n",
      "__________________________________________________________________________________________________\n",
      "conv4_block2_2_conv (Conv2D)    (None, 14, 14, 256)  589824      conv4_block2_2_pad[0][0]         \n",
      "__________________________________________________________________________________________________\n",
      "conv4_block2_2_bn (BatchNormali (None, 14, 14, 256)  1024        conv4_block2_2_conv[0][0]        \n",
      "__________________________________________________________________________________________________\n",
      "conv4_block2_2_relu (Activation (None, 14, 14, 256)  0           conv4_block2_2_bn[0][0]          \n",
      "__________________________________________________________________________________________________\n",
      "conv4_block2_3_conv (Conv2D)    (None, 14, 14, 1024) 263168      conv4_block2_2_relu[0][0]        \n",
      "__________________________________________________________________________________________________\n",
      "conv4_block2_out (Add)          (None, 14, 14, 1024) 0           conv4_block1_out[0][0]           \n",
      "                                                                 conv4_block2_3_conv[0][0]        \n",
      "__________________________________________________________________________________________________\n",
      "conv4_block3_preact_bn (BatchNo (None, 14, 14, 1024) 4096        conv4_block2_out[0][0]           \n",
      "__________________________________________________________________________________________________\n",
      "conv4_block3_preact_relu (Activ (None, 14, 14, 1024) 0           conv4_block3_preact_bn[0][0]     \n",
      "__________________________________________________________________________________________________\n",
      "conv4_block3_1_conv (Conv2D)    (None, 14, 14, 256)  262144      conv4_block3_preact_relu[0][0]   \n",
      "__________________________________________________________________________________________________\n",
      "conv4_block3_1_bn (BatchNormali (None, 14, 14, 256)  1024        conv4_block3_1_conv[0][0]        \n",
      "__________________________________________________________________________________________________\n",
      "conv4_block3_1_relu (Activation (None, 14, 14, 256)  0           conv4_block3_1_bn[0][0]          \n",
      "__________________________________________________________________________________________________\n",
      "conv4_block3_2_pad (ZeroPadding (None, 16, 16, 256)  0           conv4_block3_1_relu[0][0]        \n",
      "__________________________________________________________________________________________________\n",
      "conv4_block3_2_conv (Conv2D)    (None, 14, 14, 256)  589824      conv4_block3_2_pad[0][0]         \n",
      "__________________________________________________________________________________________________\n",
      "conv4_block3_2_bn (BatchNormali (None, 14, 14, 256)  1024        conv4_block3_2_conv[0][0]        \n",
      "__________________________________________________________________________________________________\n",
      "conv4_block3_2_relu (Activation (None, 14, 14, 256)  0           conv4_block3_2_bn[0][0]          \n",
      "__________________________________________________________________________________________________\n",
      "conv4_block3_3_conv (Conv2D)    (None, 14, 14, 1024) 263168      conv4_block3_2_relu[0][0]        \n",
      "__________________________________________________________________________________________________\n",
      "conv4_block3_out (Add)          (None, 14, 14, 1024) 0           conv4_block2_out[0][0]           \n",
      "                                                                 conv4_block3_3_conv[0][0]        \n",
      "__________________________________________________________________________________________________\n",
      "conv4_block4_preact_bn (BatchNo (None, 14, 14, 1024) 4096        conv4_block3_out[0][0]           \n",
      "__________________________________________________________________________________________________\n",
      "conv4_block4_preact_relu (Activ (None, 14, 14, 1024) 0           conv4_block4_preact_bn[0][0]     \n",
      "__________________________________________________________________________________________________\n",
      "conv4_block4_1_conv (Conv2D)    (None, 14, 14, 256)  262144      conv4_block4_preact_relu[0][0]   \n",
      "__________________________________________________________________________________________________\n",
      "conv4_block4_1_bn (BatchNormali (None, 14, 14, 256)  1024        conv4_block4_1_conv[0][0]        \n",
      "__________________________________________________________________________________________________\n",
      "conv4_block4_1_relu (Activation (None, 14, 14, 256)  0           conv4_block4_1_bn[0][0]          \n",
      "__________________________________________________________________________________________________\n",
      "conv4_block4_2_pad (ZeroPadding (None, 16, 16, 256)  0           conv4_block4_1_relu[0][0]        \n",
      "__________________________________________________________________________________________________\n",
      "conv4_block4_2_conv (Conv2D)    (None, 14, 14, 256)  589824      conv4_block4_2_pad[0][0]         \n",
      "__________________________________________________________________________________________________\n",
      "conv4_block4_2_bn (BatchNormali (None, 14, 14, 256)  1024        conv4_block4_2_conv[0][0]        \n",
      "__________________________________________________________________________________________________\n",
      "conv4_block4_2_relu (Activation (None, 14, 14, 256)  0           conv4_block4_2_bn[0][0]          \n",
      "__________________________________________________________________________________________________\n",
      "conv4_block4_3_conv (Conv2D)    (None, 14, 14, 1024) 263168      conv4_block4_2_relu[0][0]        \n",
      "__________________________________________________________________________________________________\n",
      "conv4_block4_out (Add)          (None, 14, 14, 1024) 0           conv4_block3_out[0][0]           \n",
      "                                                                 conv4_block4_3_conv[0][0]        \n",
      "__________________________________________________________________________________________________\n",
      "conv4_block5_preact_bn (BatchNo (None, 14, 14, 1024) 4096        conv4_block4_out[0][0]           \n",
      "__________________________________________________________________________________________________\n",
      "conv4_block5_preact_relu (Activ (None, 14, 14, 1024) 0           conv4_block5_preact_bn[0][0]     \n",
      "__________________________________________________________________________________________________\n",
      "conv4_block5_1_conv (Conv2D)    (None, 14, 14, 256)  262144      conv4_block5_preact_relu[0][0]   \n",
      "__________________________________________________________________________________________________\n",
      "conv4_block5_1_bn (BatchNormali (None, 14, 14, 256)  1024        conv4_block5_1_conv[0][0]        \n",
      "__________________________________________________________________________________________________\n",
      "conv4_block5_1_relu (Activation (None, 14, 14, 256)  0           conv4_block5_1_bn[0][0]          \n",
      "__________________________________________________________________________________________________\n",
      "conv4_block5_2_pad (ZeroPadding (None, 16, 16, 256)  0           conv4_block5_1_relu[0][0]        \n",
      "__________________________________________________________________________________________________\n",
      "conv4_block5_2_conv (Conv2D)    (None, 14, 14, 256)  589824      conv4_block5_2_pad[0][0]         \n",
      "__________________________________________________________________________________________________\n",
      "conv4_block5_2_bn (BatchNormali (None, 14, 14, 256)  1024        conv4_block5_2_conv[0][0]        \n",
      "__________________________________________________________________________________________________\n",
      "conv4_block5_2_relu (Activation (None, 14, 14, 256)  0           conv4_block5_2_bn[0][0]          \n",
      "__________________________________________________________________________________________________\n",
      "conv4_block5_3_conv (Conv2D)    (None, 14, 14, 1024) 263168      conv4_block5_2_relu[0][0]        \n",
      "__________________________________________________________________________________________________\n",
      "conv4_block5_out (Add)          (None, 14, 14, 1024) 0           conv4_block4_out[0][0]           \n",
      "                                                                 conv4_block5_3_conv[0][0]        \n",
      "__________________________________________________________________________________________________\n",
      "conv4_block6_preact_bn (BatchNo (None, 14, 14, 1024) 4096        conv4_block5_out[0][0]           \n",
      "__________________________________________________________________________________________________\n",
      "conv4_block6_preact_relu (Activ (None, 14, 14, 1024) 0           conv4_block6_preact_bn[0][0]     \n",
      "__________________________________________________________________________________________________\n",
      "conv4_block6_1_conv (Conv2D)    (None, 14, 14, 256)  262144      conv4_block6_preact_relu[0][0]   \n",
      "__________________________________________________________________________________________________\n",
      "conv4_block6_1_bn (BatchNormali (None, 14, 14, 256)  1024        conv4_block6_1_conv[0][0]        \n",
      "__________________________________________________________________________________________________\n",
      "conv4_block6_1_relu (Activation (None, 14, 14, 256)  0           conv4_block6_1_bn[0][0]          \n",
      "__________________________________________________________________________________________________\n",
      "conv4_block6_2_pad (ZeroPadding (None, 16, 16, 256)  0           conv4_block6_1_relu[0][0]        \n",
      "__________________________________________________________________________________________________\n",
      "conv4_block6_2_conv (Conv2D)    (None, 7, 7, 256)    589824      conv4_block6_2_pad[0][0]         \n",
      "__________________________________________________________________________________________________\n",
      "conv4_block6_2_bn (BatchNormali (None, 7, 7, 256)    1024        conv4_block6_2_conv[0][0]        \n",
      "__________________________________________________________________________________________________\n",
      "conv4_block6_2_relu (Activation (None, 7, 7, 256)    0           conv4_block6_2_bn[0][0]          \n",
      "__________________________________________________________________________________________________\n",
      "max_pooling2d_5 (MaxPooling2D)  (None, 7, 7, 1024)   0           conv4_block5_out[0][0]           \n",
      "__________________________________________________________________________________________________\n",
      "conv4_block6_3_conv (Conv2D)    (None, 7, 7, 1024)   263168      conv4_block6_2_relu[0][0]        \n",
      "__________________________________________________________________________________________________\n",
      "conv4_block6_out (Add)          (None, 7, 7, 1024)   0           max_pooling2d_5[0][0]            \n",
      "                                                                 conv4_block6_3_conv[0][0]        \n",
      "__________________________________________________________________________________________________\n",
      "conv5_block1_preact_bn (BatchNo (None, 7, 7, 1024)   4096        conv4_block6_out[0][0]           \n",
      "__________________________________________________________________________________________________\n",
      "conv5_block1_preact_relu (Activ (None, 7, 7, 1024)   0           conv5_block1_preact_bn[0][0]     \n",
      "__________________________________________________________________________________________________\n",
      "conv5_block1_1_conv (Conv2D)    (None, 7, 7, 512)    524288      conv5_block1_preact_relu[0][0]   \n",
      "__________________________________________________________________________________________________\n",
      "conv5_block1_1_bn (BatchNormali (None, 7, 7, 512)    2048        conv5_block1_1_conv[0][0]        \n",
      "__________________________________________________________________________________________________\n",
      "conv5_block1_1_relu (Activation (None, 7, 7, 512)    0           conv5_block1_1_bn[0][0]          \n",
      "__________________________________________________________________________________________________\n",
      "conv5_block1_2_pad (ZeroPadding (None, 9, 9, 512)    0           conv5_block1_1_relu[0][0]        \n",
      "__________________________________________________________________________________________________\n",
      "conv5_block1_2_conv (Conv2D)    (None, 7, 7, 512)    2359296     conv5_block1_2_pad[0][0]         \n",
      "__________________________________________________________________________________________________\n",
      "conv5_block1_2_bn (BatchNormali (None, 7, 7, 512)    2048        conv5_block1_2_conv[0][0]        \n",
      "__________________________________________________________________________________________________\n",
      "conv5_block1_2_relu (Activation (None, 7, 7, 512)    0           conv5_block1_2_bn[0][0]          \n",
      "__________________________________________________________________________________________________\n",
      "conv5_block1_0_conv (Conv2D)    (None, 7, 7, 2048)   2099200     conv5_block1_preact_relu[0][0]   \n",
      "__________________________________________________________________________________________________\n",
      "conv5_block1_3_conv (Conv2D)    (None, 7, 7, 2048)   1050624     conv5_block1_2_relu[0][0]        \n",
      "__________________________________________________________________________________________________\n",
      "conv5_block1_out (Add)          (None, 7, 7, 2048)   0           conv5_block1_0_conv[0][0]        \n",
      "                                                                 conv5_block1_3_conv[0][0]        \n",
      "__________________________________________________________________________________________________\n",
      "conv5_block2_preact_bn (BatchNo (None, 7, 7, 2048)   8192        conv5_block1_out[0][0]           \n",
      "__________________________________________________________________________________________________\n",
      "conv5_block2_preact_relu (Activ (None, 7, 7, 2048)   0           conv5_block2_preact_bn[0][0]     \n",
      "__________________________________________________________________________________________________\n",
      "conv5_block2_1_conv (Conv2D)    (None, 7, 7, 512)    1048576     conv5_block2_preact_relu[0][0]   \n",
      "__________________________________________________________________________________________________\n",
      "conv5_block2_1_bn (BatchNormali (None, 7, 7, 512)    2048        conv5_block2_1_conv[0][0]        \n",
      "__________________________________________________________________________________________________\n",
      "conv5_block2_1_relu (Activation (None, 7, 7, 512)    0           conv5_block2_1_bn[0][0]          \n",
      "__________________________________________________________________________________________________\n",
      "conv5_block2_2_pad (ZeroPadding (None, 9, 9, 512)    0           conv5_block2_1_relu[0][0]        \n",
      "__________________________________________________________________________________________________\n",
      "conv5_block2_2_conv (Conv2D)    (None, 7, 7, 512)    2359296     conv5_block2_2_pad[0][0]         \n",
      "__________________________________________________________________________________________________\n",
      "conv5_block2_2_bn (BatchNormali (None, 7, 7, 512)    2048        conv5_block2_2_conv[0][0]        \n",
      "__________________________________________________________________________________________________\n",
      "conv5_block2_2_relu (Activation (None, 7, 7, 512)    0           conv5_block2_2_bn[0][0]          \n",
      "__________________________________________________________________________________________________\n",
      "conv5_block2_3_conv (Conv2D)    (None, 7, 7, 2048)   1050624     conv5_block2_2_relu[0][0]        \n",
      "__________________________________________________________________________________________________\n",
      "conv5_block2_out (Add)          (None, 7, 7, 2048)   0           conv5_block1_out[0][0]           \n",
      "                                                                 conv5_block2_3_conv[0][0]        \n",
      "__________________________________________________________________________________________________\n",
      "conv5_block3_preact_bn (BatchNo (None, 7, 7, 2048)   8192        conv5_block2_out[0][0]           \n",
      "__________________________________________________________________________________________________\n",
      "conv5_block3_preact_relu (Activ (None, 7, 7, 2048)   0           conv5_block3_preact_bn[0][0]     \n",
      "__________________________________________________________________________________________________\n",
      "conv5_block3_1_conv (Conv2D)    (None, 7, 7, 512)    1048576     conv5_block3_preact_relu[0][0]   \n",
      "__________________________________________________________________________________________________\n",
      "conv5_block3_1_bn (BatchNormali (None, 7, 7, 512)    2048        conv5_block3_1_conv[0][0]        \n",
      "__________________________________________________________________________________________________\n",
      "conv5_block3_1_relu (Activation (None, 7, 7, 512)    0           conv5_block3_1_bn[0][0]          \n",
      "__________________________________________________________________________________________________\n",
      "conv5_block3_2_pad (ZeroPadding (None, 9, 9, 512)    0           conv5_block3_1_relu[0][0]        \n",
      "__________________________________________________________________________________________________\n",
      "conv5_block3_2_conv (Conv2D)    (None, 7, 7, 512)    2359296     conv5_block3_2_pad[0][0]         \n",
      "__________________________________________________________________________________________________\n",
      "conv5_block3_2_bn (BatchNormali (None, 7, 7, 512)    2048        conv5_block3_2_conv[0][0]        \n",
      "__________________________________________________________________________________________________\n",
      "conv5_block3_2_relu (Activation (None, 7, 7, 512)    0           conv5_block3_2_bn[0][0]          \n",
      "__________________________________________________________________________________________________\n",
      "conv5_block3_3_conv (Conv2D)    (None, 7, 7, 2048)   1050624     conv5_block3_2_relu[0][0]        \n",
      "__________________________________________________________________________________________________\n",
      "conv5_block3_out (Add)          (None, 7, 7, 2048)   0           conv5_block2_out[0][0]           \n",
      "                                                                 conv5_block3_3_conv[0][0]        \n",
      "__________________________________________________________________________________________________\n",
      "post_bn (BatchNormalization)    (None, 7, 7, 2048)   8192        conv5_block3_out[0][0]           \n",
      "__________________________________________________________________________________________________\n",
      "post_relu (Activation)          (None, 7, 7, 2048)   0           post_bn[0][0]                    \n",
      "__________________________________________________________________________________________________\n",
      "avg_pool (GlobalAveragePooling2 (None, 2048)         0           post_relu[0][0]                  \n",
      "__________________________________________________________________________________________________\n",
      "dense_5 (Dense)                 (None, 1024)         2098176     avg_pool[0][0]                   \n",
      "__________________________________________________________________________________________________\n",
      "dense_6 (Dense)                 (None, 97)           99425       dense_5[0][0]                    \n",
      "==================================================================================================\n",
      "Total params: 25,762,401\n",
      "Trainable params: 2,197,601\n",
      "Non-trainable params: 23,564,800\n",
      "__________________________________________________________________________________________________\n"
     ]
    }
   ],
   "source": [
    "# make all layers untrainable by freezing weights (except for last 2 layers)\n",
    "for l, layer in enumerate(model_tl_v2.layers[:-2]):\n",
    "    layer.trainable = False\n",
    "\n",
    "# ensure the last two layers are trainable/not frozen\n",
    "for l, layer in enumerate(model_tl_v2.layers[-2:]):\n",
    "    layer.trainable = True\n",
    "\n",
    "model_tl_v2.compile(loss='categorical_crossentropy',\n",
    "                    optimizer=keras.optimizers.Adam(learning_rate=3e-4),\n",
    "                    metrics=['accuracy'])\n",
    "model_tl_v2.summary()"
   ]
  },
  {
   "cell_type": "markdown",
   "metadata": {
    "colab_type": "text",
    "id": "9Yulz23taRe-"
   },
   "source": [
    "We have over 2 million trainable parameters in our network corresponding to the parameters associated to the last 2 layers that we have attached to ResNet-50."
   ]
  },
  {
   "cell_type": "code",
   "execution_count": 37,
   "metadata": {
    "colab": {
     "base_uri": "https://localhost:8080/",
     "height": 680
    },
    "colab_type": "code",
    "id": "IKKlXVTHRyyZ",
    "outputId": "abceac31-980f-42ca-a1dd-efad0bc28e70"
   },
   "outputs": [
    {
     "name": "stdout",
     "output_type": "stream",
     "text": [
      "Train on 4346 samples, validate on 931 samples\n",
      "Epoch 1/100\n",
      "4346/4346 [==============================] - 14s 3ms/step - loss: 2.3682 - accuracy: 0.5421 - val_loss: 0.6904 - val_accuracy: 0.8271\n",
      "Epoch 2/100\n",
      "4346/4346 [==============================] - 12s 3ms/step - loss: 0.4608 - accuracy: 0.9006 - val_loss: 0.4343 - val_accuracy: 0.8765\n",
      "Epoch 3/100\n",
      "4346/4346 [==============================] - 12s 3ms/step - loss: 0.2107 - accuracy: 0.9565 - val_loss: 0.3755 - val_accuracy: 0.8980\n",
      "Epoch 4/100\n",
      "4346/4346 [==============================] - 12s 3ms/step - loss: 0.1151 - accuracy: 0.9841 - val_loss: 0.3572 - val_accuracy: 0.9033\n",
      "Epoch 5/100\n",
      "4346/4346 [==============================] - 12s 3ms/step - loss: 0.0725 - accuracy: 0.9922 - val_loss: 0.3660 - val_accuracy: 0.9044\n",
      "Epoch 6/100\n",
      "4346/4346 [==============================] - 12s 3ms/step - loss: 0.0498 - accuracy: 0.9972 - val_loss: 0.3652 - val_accuracy: 0.9044\n",
      "Epoch 7/100\n",
      "4346/4346 [==============================] - 12s 3ms/step - loss: 0.0372 - accuracy: 0.9991 - val_loss: 0.3644 - val_accuracy: 0.9066\n",
      "Epoch 8/100\n",
      "4346/4346 [==============================] - 12s 3ms/step - loss: 0.0281 - accuracy: 0.9995 - val_loss: 0.3617 - val_accuracy: 0.9044\n",
      "Epoch 9/100\n",
      "4346/4346 [==============================] - 12s 3ms/step - loss: 0.0214 - accuracy: 0.9995 - val_loss: 0.3564 - val_accuracy: 0.9130\n",
      "Epoch 10/100\n",
      "4346/4346 [==============================] - 12s 3ms/step - loss: 0.0180 - accuracy: 1.0000 - val_loss: 0.3589 - val_accuracy: 0.9076\n",
      "Epoch 11/100\n",
      "4346/4346 [==============================] - 12s 3ms/step - loss: 0.0159 - accuracy: 0.9995 - val_loss: 0.3577 - val_accuracy: 0.9130\n",
      "Epoch 12/100\n",
      "4346/4346 [==============================] - 12s 3ms/step - loss: 0.0128 - accuracy: 1.0000 - val_loss: 0.3695 - val_accuracy: 0.9119\n",
      "Epoch 13/100\n",
      "4346/4346 [==============================] - 12s 3ms/step - loss: 0.0109 - accuracy: 1.0000 - val_loss: 0.3631 - val_accuracy: 0.9141\n",
      "Epoch 14/100\n",
      "4346/4346 [==============================] - 12s 3ms/step - loss: 0.0101 - accuracy: 1.0000 - val_loss: 0.3708 - val_accuracy: 0.9087\n",
      "Epoch 15/100\n",
      "4346/4346 [==============================] - 12s 3ms/step - loss: 0.0092 - accuracy: 1.0000 - val_loss: 0.3681 - val_accuracy: 0.9151\n",
      "Epoch 16/100\n",
      "4346/4346 [==============================] - 12s 3ms/step - loss: 0.0079 - accuracy: 1.0000 - val_loss: 0.3815 - val_accuracy: 0.9066\n",
      "Epoch 17/100\n",
      "4346/4346 [==============================] - 12s 3ms/step - loss: 0.0072 - accuracy: 1.0000 - val_loss: 0.3822 - val_accuracy: 0.9119\n",
      "Epoch 18/100\n",
      "4346/4346 [==============================] - 12s 3ms/step - loss: 0.0062 - accuracy: 1.0000 - val_loss: 0.3754 - val_accuracy: 0.9130\n",
      "Epoch 19/100\n",
      "4346/4346 [==============================] - 12s 3ms/step - loss: 0.0058 - accuracy: 1.0000 - val_loss: 0.3853 - val_accuracy: 0.9130\n"
     ]
    }
   ],
   "source": [
    "history_tl_v2 = model_tl_v2.fit(x_train, y_train, \n",
    "                                batch_size=128, \n",
    "                                epochs=100, \n",
    "                                validation_data=(x_val, y_val),\n",
    "                                callbacks=[keras.callbacks.EarlyStopping(patience=10, restore_best_weights=True)])"
   ]
  },
  {
   "cell_type": "code",
   "execution_count": 38,
   "metadata": {
    "colab": {
     "base_uri": "https://localhost:8080/",
     "height": 51
    },
    "colab_type": "code",
    "id": "FEe26Oe9vy8Z",
    "outputId": "3720a242-a582-4e7b-cd37-58d2d70fee11"
   },
   "outputs": [
    {
     "name": "stdout",
     "output_type": "stream",
     "text": [
      "Test loss: 0.31737600133830257\n",
      "Test accuracy: 0.9163089990615845\n"
     ]
    }
   ],
   "source": [
    "loss_tl_v2_train, accuracy_tl_v2_train = model_tl_v2.evaluate(x_train, y_train, verbose=0)\n",
    "loss_tl_v2_val, accuracy_tl_v2_val = model_tl_v2.evaluate(x_val, y_val, verbose=0)\n",
    "loss_tl_v2_test, accuracy_tl_v2_test = model_tl_v2.evaluate(x_test, y_test, verbose=0)\n",
    "\n",
    "print('Test loss:', loss_tl_v2_test)\n",
    "print('Test accuracy:', accuracy_tl_v2_test)"
   ]
  },
  {
   "cell_type": "markdown",
   "metadata": {
    "colab_type": "text",
    "id": "d4DRyQSNDuU8"
   },
   "source": [
    "### Comparison of the Two Transfer Learning Networks"
   ]
  },
  {
   "cell_type": "code",
   "execution_count": 0,
   "metadata": {
    "colab": {},
    "colab_type": "code",
    "id": "mPiSbQGfpYCv"
   },
   "outputs": [],
   "source": [
    "one_train = pd.DataFrame(history_tl_v1.history)\n",
    "one_train['category'] = 'train_one_layer'\n",
    "one_train['epoch'] = range(len(one_train))\n",
    "two_train = pd.DataFrame(history_tl_v2.history)\n",
    "two_train['category'] = 'train_two_layers'\n",
    "two_train['epoch'] = range(len(two_train))\n",
    "\n",
    "tl_cnn = one_train.append(two_train)\n",
    "tl_cnn.epoch = tl_cnn.epoch + 1"
   ]
  },
  {
   "cell_type": "code",
   "execution_count": 40,
   "metadata": {
    "colab": {
     "base_uri": "https://localhost:8080/",
     "height": 475
    },
    "colab_type": "code",
    "id": "QDgaNN9JA3RU",
    "outputId": "a4163878-8dd0-4a8e-e223-74945bb4bc37"
   },
   "outputs": [
    {
     "data": {
      "text/plain": [
       "(-0.05, 1.05)"
      ]
     },
     "execution_count": 40,
     "metadata": {
      "tags": []
     },
     "output_type": "execute_result"
    },
    {
     "data": {
      "image/png": "[encoded data removed]",
      "text/plain": [
       "<Figure size 1080x504 with 4 Axes>"
      ]
     },
     "metadata": {
      "needs_background": "light",
      "tags": []
     },
     "output_type": "display_data"
    }
   ],
   "source": [
    "fig, axs = plt.subplots(ncols=2, nrows=2, figsize=(15,7))\n",
    "\n",
    "ax1 = plot_line(tl_cnn, 'loss', 'val_loss', 'train_one_layer', 'epoch', 'value', 'variable', 0, 0)\n",
    "ax1.set_title('Training One Layer Only')\n",
    "ax1.set_ylim(-0.05, max(subset_df(tl_cnn, 'loss', 'val_loss').value))\n",
    "\n",
    "ax2 = plot_line(tl_cnn, 'loss', 'val_loss', 'train_two_layers', 'epoch', 'value', 'variable', 0, 1)\n",
    "ax2.set_title('Training Two Layers')\n",
    "ax2.set_ylim(-0.05, max(subset_df(tl_cnn, 'loss', 'val_loss').value))\n",
    "\n",
    "ax1 = plot_line(tl_cnn, 'accuracy', 'val_accuracy', 'train_one_layer', 'epoch', 'value', 'variable', 1, 0)\n",
    "ax1.set_ylim(-0.05, 1.05)\n",
    "\n",
    "ax1 = plot_line(tl_cnn, 'accuracy', 'val_accuracy', 'train_two_layers', 'epoch', 'value', 'variable', 1, 1)\n",
    "ax1.set_ylim(-0.05, 1.05)"
   ]
  },
  {
   "cell_type": "markdown",
   "metadata": {
    "colab_type": "text",
    "id": "XIY6mgAdMffa"
   },
   "source": [
    "The first version of our transfer learning network ran for almost 40 epochs achieving 100% accuracy in the training data and more than 90% accuracy in the validation set. On the other hand, the second version of our transfer learning network ran in less than 20 epochs while reaching the same accuracy level in training and validation data as the first network. It is also worth noting that the loss and accuracy metrics started off better in the second version of our transfer learning network. This suggests that the convergence of a model may be improved as we increase the number of hidden layers in our network."
   ]
  },
  {
   "cell_type": "code",
   "execution_count": 41,
   "metadata": {
    "colab": {
     "base_uri": "https://localhost:8080/",
     "height": 386
    },
    "colab_type": "code",
    "id": "mFM8bAt4_HoF",
    "outputId": "b078c9df-4324-4866-a1ec-e7f404d4b59f"
   },
   "outputs": [
    {
     "data": {
      "text/plain": [
       "<seaborn.axisgrid.FacetGrid at 0x7fdadde02b00>"
      ]
     },
     "execution_count": 41,
     "metadata": {
      "tags": []
     },
     "output_type": "execute_result"
    },
    {
     "data": {
      "image/png": "[encoded data removed]",
      "text/plain": [
       "<Figure size 444.5x360 with 1 Axes>"
      ]
     },
     "metadata": {
      "needs_background": "light",
      "tags": []
     },
     "output_type": "display_data"
    }
   ],
   "source": [
    "metrics_tl_v1 = [accuracy_tl_v1_train, accuracy_tl_v1_val, accuracy_tl_v1_test]\n",
    "metrics_tl_v2 = [accuracy_tl_v2_train, accuracy_tl_v2_val, accuracy_tl_v2_test]\n",
    "metrics_tl_df = pd.DataFrame({'tl_1layer': metrics_tl_v1, 'tl_2layers': metrics_tl_v2})\n",
    "metrics_tl_df['data'] = ['train', 'val', 'test']\n",
    "metrics_tl_df = pd.melt(metrics_tl_df, id_vars=['data'])\n",
    "\n",
    "sns.catplot(x='data', y='value', hue='variable', data=metrics_tl_df, kind='bar', palette='muted')"
   ]
  },
  {
   "cell_type": "markdown",
   "metadata": {
    "colab_type": "text",
    "id": "XpLIEF8_OAKK"
   },
   "source": [
    "As mentioned above, both transfer learning networks performed similarly in predicting the object classes. Their only difference is that the second version of our transfer learning network achieved this in less number of epochs."
   ]
  },
  {
   "cell_type": "markdown",
   "metadata": {
    "colab_type": "text",
    "id": "bjRtNSHvD6bb"
   },
   "source": [
    "## Comparison of Simple Networks against Transfer Learning Networks"
   ]
  },
  {
   "cell_type": "code",
   "execution_count": 42,
   "metadata": {
    "colab": {
     "base_uri": "https://localhost:8080/",
     "height": 417
    },
    "colab_type": "code",
    "id": "objdjUNhCs-L",
    "outputId": "294980aa-f5a6-4f72-8b3c-b422abe7887b"
   },
   "outputs": [
    {
     "data": {
      "text/plain": [
       "(-0.05, 1.05)"
      ]
     },
     "execution_count": 42,
     "metadata": {
      "tags": []
     },
     "output_type": "execute_result"
    },
    {
     "data": {
      "image/png": "[encoded data removed]",
      "text/plain": [
       "<Figure size 1800x504 with 8 Axes>"
      ]
     },
     "metadata": {
      "needs_background": "light",
      "tags": []
     },
     "output_type": "display_data"
    }
   ],
   "source": [
    "fig, axs = plt.subplots(ncols=4, nrows=2, figsize=(25,7))\n",
    "\n",
    "all_cnn = simple_cnn.append(tl_cnn)\n",
    "\n",
    "ax1 = plot_line(simple_cnn, 'loss', 'val_loss', 'no_dropout', 'epoch', 'value', 'variable', 0, 0)\n",
    "ax1.set_title('Without Dropout Layers')\n",
    "ax1.set_ylim(-0.05, max(subset_df(all_cnn, 'loss', 'val_loss').value))\n",
    "\n",
    "ax2 = plot_line(simple_cnn, 'loss', 'val_loss', 'dropout', 'epoch', 'value', 'variable', 0, 1)\n",
    "ax2.set_title('With Dropout Layers')\n",
    "ax2.set_ylim(-0.05, max(subset_df(all_cnn, 'loss', 'val_loss').value))\n",
    "\n",
    "ax1 = plot_line(simple_cnn, 'accuracy', 'val_accuracy', 'no_dropout', 'epoch', 'value', 'variable', 1, 0)\n",
    "ax1.set_ylim(-0.05, 1.05)\n",
    "\n",
    "ax1 = plot_line(simple_cnn, 'accuracy', 'val_accuracy', 'dropout', 'epoch', 'value', 'variable', 1, 1)\n",
    "ax1.set_ylim(-0.05, 1.05)\n",
    "\n",
    "ax5 = plot_line(tl_cnn, 'loss', 'val_loss', 'train_one_layer', 'epoch', 'value', 'variable', 0, 2)\n",
    "ax5.set_title('Training One Layer Only')\n",
    "ax5.set_ylim(-0.05, max(subset_df(all_cnn, 'loss', 'val_loss').value))\n",
    "\n",
    "ax6 = plot_line(tl_cnn, 'loss', 'val_loss', 'train_two_layers', 'epoch', 'value', 'variable', 0, 3)\n",
    "ax6.set_title('Training Two Layers')\n",
    "ax6.set_ylim(-0.05, max(subset_df(all_cnn, 'loss', 'val_loss').value))\n",
    "\n",
    "ax7 = plot_line(tl_cnn, 'accuracy', 'val_accuracy', 'train_one_layer', 'epoch', 'value', 'variable', 1, 2)\n",
    "ax7.set_ylim(-0.05, 1.05)\n",
    "\n",
    "ax8 = plot_line(tl_cnn, 'accuracy', 'val_accuracy', 'train_two_layers', 'epoch', 'value', 'variable', 1, 3)\n",
    "ax8.set_ylim(-0.05, 1.05)"
   ]
  },
  {
   "cell_type": "code",
   "execution_count": 43,
   "metadata": {
    "colab": {
     "base_uri": "https://localhost:8080/",
     "height": 386
    },
    "colab_type": "code",
    "id": "RadOXI9nAZO6",
    "outputId": "1324f4ef-4817-4870-ba3d-322e09d8d9e3"
   },
   "outputs": [
    {
     "data": {
      "text/plain": [
       "<seaborn.axisgrid.FacetGrid at 0x7fdadd7055f8>"
      ]
     },
     "execution_count": 43,
     "metadata": {
      "tags": []
     },
     "output_type": "execute_result"
    },
    {
     "data": {
      "image/png": "[encoded data removed]",
      "text/plain": [
       "<Figure size 444.5x360 with 1 Axes>"
      ]
     },
     "metadata": {
      "needs_background": "light",
      "tags": []
     },
     "output_type": "display_data"
    }
   ],
   "source": [
    "metrics_df = metrics_df.append(metrics_tl_df)\n",
    "\n",
    "sns.catplot(x='data', y='value', hue='variable', data=metrics_df, kind='bar', palette='muted')"
   ]
  },
  {
   "cell_type": "markdown",
   "metadata": {
    "colab_type": "text",
    "id": "cWu5E24mOzHi"
   },
   "source": [
    "Generally, the transfer learning networks perform way better than the simple networks created in the first section of the notebook. This is expected since ResNet-50 has achieved 93% Top-5 Accuracy in the ImageNet dataset with 1,000 classes."
   ]
  },
  {
   "cell_type": "markdown",
   "metadata": {
    "colab_type": "text",
    "id": "YNcHbhOafVp5"
   },
   "source": [
    "## Data Augmentation and Retraining ResNet-50\n",
    "We now explore data augmentation methods to generate new datasets to train our transfer learning networks further. Since we are working on small images, we want to implement small shifts and changes to our original images. We also try to limit the image augmentations to the following so as to prevent Colab from crashing during the image generation process:\n",
    "* rotation range of 10 degrees\n",
    "* horizontal and vertical shifts of 10%\n",
    "* zoom in at 90% and zoom out at 110%\n",
    "* horizontal flip"
   ]
  },
  {
   "cell_type": "code",
   "execution_count": 0,
   "metadata": {
    "colab": {},
    "colab_type": "code",
    "id": "uKycXmCWSoiS"
   },
   "outputs": [],
   "source": [
    "datagen = ImageDataGenerator(\n",
    "    rotation_range=10,\n",
    "    width_shift_range=0.1,\n",
    "    height_shift_range=0.1,\n",
    "    zoom_range=(0.9, 1.1),\n",
    "    horizontal_flip=True,\n",
    "    fill_mode='nearest'\n",
    ")"
   ]
  },
  {
   "cell_type": "code",
   "execution_count": 0,
   "metadata": {
    "colab": {},
    "colab_type": "code",
    "id": "m_mMAZyZVoom"
   },
   "outputs": [],
   "source": [
    "x_train_new = x_train\n",
    "datagen.fit(x_train_new)"
   ]
  },
  {
   "cell_type": "markdown",
   "metadata": {
    "colab_type": "text",
    "id": "feqr2PqwCV8d"
   },
   "source": [
    "Retrain the first version of our transfer learning network above to the new set of images that we generated. Ensure that only the last layer is trainable."
   ]
  },
  {
   "cell_type": "code",
   "execution_count": 46,
   "metadata": {
    "colab": {
     "base_uri": "https://localhost:8080/",
     "height": 1000
    },
    "colab_type": "code",
    "id": "8q_G2VDFcKEe",
    "outputId": "deee29cf-9513-407e-d82c-2e652ac2fbd9"
   },
   "outputs": [
    {
     "name": "stdout",
     "output_type": "stream",
     "text": [
      "Model: \"model_1\"\n",
      "__________________________________________________________________________________________________\n",
      "Layer (type)                    Output Shape         Param #     Connected to                     \n",
      "==================================================================================================\n",
      "input_1 (InputLayer)            (None, 224, 224, 3)  0                                            \n",
      "__________________________________________________________________________________________________\n",
      "conv1_pad (ZeroPadding2D)       (None, 230, 230, 3)  0           input_1[0][0]                    \n",
      "__________________________________________________________________________________________________\n",
      "conv1_conv (Conv2D)             (None, 112, 112, 64) 9472        conv1_pad[0][0]                  \n",
      "__________________________________________________________________________________________________\n",
      "pool1_pad (ZeroPadding2D)       (None, 114, 114, 64) 0           conv1_conv[0][0]                 \n",
      "__________________________________________________________________________________________________\n",
      "pool1_pool (MaxPooling2D)       (None, 56, 56, 64)   0           pool1_pad[0][0]                  \n",
      "__________________________________________________________________________________________________\n",
      "conv2_block1_preact_bn (BatchNo (None, 56, 56, 64)   256         pool1_pool[0][0]                 \n",
      "__________________________________________________________________________________________________\n",
      "conv2_block1_preact_relu (Activ (None, 56, 56, 64)   0           conv2_block1_preact_bn[0][0]     \n",
      "__________________________________________________________________________________________________\n",
      "conv2_block1_1_conv (Conv2D)    (None, 56, 56, 64)   4096        conv2_block1_preact_relu[0][0]   \n",
      "__________________________________________________________________________________________________\n",
      "conv2_block1_1_bn (BatchNormali (None, 56, 56, 64)   256         conv2_block1_1_conv[0][0]        \n",
      "__________________________________________________________________________________________________\n",
      "conv2_block1_1_relu (Activation (None, 56, 56, 64)   0           conv2_block1_1_bn[0][0]          \n",
      "__________________________________________________________________________________________________\n",
      "conv2_block1_2_pad (ZeroPadding (None, 58, 58, 64)   0           conv2_block1_1_relu[0][0]        \n",
      "__________________________________________________________________________________________________\n",
      "conv2_block1_2_conv (Conv2D)    (None, 56, 56, 64)   36864       conv2_block1_2_pad[0][0]         \n",
      "__________________________________________________________________________________________________\n",
      "conv2_block1_2_bn (BatchNormali (None, 56, 56, 64)   256         conv2_block1_2_conv[0][0]        \n",
      "__________________________________________________________________________________________________\n",
      "conv2_block1_2_relu (Activation (None, 56, 56, 64)   0           conv2_block1_2_bn[0][0]          \n",
      "__________________________________________________________________________________________________\n",
      "conv2_block1_0_conv (Conv2D)    (None, 56, 56, 256)  16640       conv2_block1_preact_relu[0][0]   \n",
      "__________________________________________________________________________________________________\n",
      "conv2_block1_3_conv (Conv2D)    (None, 56, 56, 256)  16640       conv2_block1_2_relu[0][0]        \n",
      "__________________________________________________________________________________________________\n",
      "conv2_block1_out (Add)          (None, 56, 56, 256)  0           conv2_block1_0_conv[0][0]        \n",
      "                                                                 conv2_block1_3_conv[0][0]        \n",
      "__________________________________________________________________________________________________\n",
      "conv2_block2_preact_bn (BatchNo (None, 56, 56, 256)  1024        conv2_block1_out[0][0]           \n",
      "__________________________________________________________________________________________________\n",
      "conv2_block2_preact_relu (Activ (None, 56, 56, 256)  0           conv2_block2_preact_bn[0][0]     \n",
      "__________________________________________________________________________________________________\n",
      "conv2_block2_1_conv (Conv2D)    (None, 56, 56, 64)   16384       conv2_block2_preact_relu[0][0]   \n",
      "__________________________________________________________________________________________________\n",
      "conv2_block2_1_bn (BatchNormali (None, 56, 56, 64)   256         conv2_block2_1_conv[0][0]        \n",
      "__________________________________________________________________________________________________\n",
      "conv2_block2_1_relu (Activation (None, 56, 56, 64)   0           conv2_block2_1_bn[0][0]          \n",
      "__________________________________________________________________________________________________\n",
      "conv2_block2_2_pad (ZeroPadding (None, 58, 58, 64)   0           conv2_block2_1_relu[0][0]        \n",
      "__________________________________________________________________________________________________\n",
      "conv2_block2_2_conv (Conv2D)    (None, 56, 56, 64)   36864       conv2_block2_2_pad[0][0]         \n",
      "__________________________________________________________________________________________________\n",
      "conv2_block2_2_bn (BatchNormali (None, 56, 56, 64)   256         conv2_block2_2_conv[0][0]        \n",
      "__________________________________________________________________________________________________\n",
      "conv2_block2_2_relu (Activation (None, 56, 56, 64)   0           conv2_block2_2_bn[0][0]          \n",
      "__________________________________________________________________________________________________\n",
      "conv2_block2_3_conv (Conv2D)    (None, 56, 56, 256)  16640       conv2_block2_2_relu[0][0]        \n",
      "__________________________________________________________________________________________________\n",
      "conv2_block2_out (Add)          (None, 56, 56, 256)  0           conv2_block1_out[0][0]           \n",
      "                                                                 conv2_block2_3_conv[0][0]        \n",
      "__________________________________________________________________________________________________\n",
      "conv2_block3_preact_bn (BatchNo (None, 56, 56, 256)  1024        conv2_block2_out[0][0]           \n",
      "__________________________________________________________________________________________________\n",
      "conv2_block3_preact_relu (Activ (None, 56, 56, 256)  0           conv2_block3_preact_bn[0][0]     \n",
      "__________________________________________________________________________________________________\n",
      "conv2_block3_1_conv (Conv2D)    (None, 56, 56, 64)   16384       conv2_block3_preact_relu[0][0]   \n",
      "__________________________________________________________________________________________________\n",
      "conv2_block3_1_bn (BatchNormali (None, 56, 56, 64)   256         conv2_block3_1_conv[0][0]        \n",
      "__________________________________________________________________________________________________\n",
      "conv2_block3_1_relu (Activation (None, 56, 56, 64)   0           conv2_block3_1_bn[0][0]          \n",
      "__________________________________________________________________________________________________\n",
      "conv2_block3_2_pad (ZeroPadding (None, 58, 58, 64)   0           conv2_block3_1_relu[0][0]        \n",
      "__________________________________________________________________________________________________\n",
      "conv2_block3_2_conv (Conv2D)    (None, 28, 28, 64)   36864       conv2_block3_2_pad[0][0]         \n",
      "__________________________________________________________________________________________________\n",
      "conv2_block3_2_bn (BatchNormali (None, 28, 28, 64)   256         conv2_block3_2_conv[0][0]        \n",
      "__________________________________________________________________________________________________\n",
      "conv2_block3_2_relu (Activation (None, 28, 28, 64)   0           conv2_block3_2_bn[0][0]          \n",
      "__________________________________________________________________________________________________\n",
      "max_pooling2d_3 (MaxPooling2D)  (None, 28, 28, 256)  0           conv2_block2_out[0][0]           \n",
      "__________________________________________________________________________________________________\n",
      "conv2_block3_3_conv (Conv2D)    (None, 28, 28, 256)  16640       conv2_block3_2_relu[0][0]        \n",
      "__________________________________________________________________________________________________\n",
      "conv2_block3_out (Add)          (None, 28, 28, 256)  0           max_pooling2d_3[0][0]            \n",
      "                                                                 conv2_block3_3_conv[0][0]        \n",
      "__________________________________________________________________________________________________\n",
      "conv3_block1_preact_bn (BatchNo (None, 28, 28, 256)  1024        conv2_block3_out[0][0]           \n",
      "__________________________________________________________________________________________________\n",
      "conv3_block1_preact_relu (Activ (None, 28, 28, 256)  0           conv3_block1_preact_bn[0][0]     \n",
      "__________________________________________________________________________________________________\n",
      "conv3_block1_1_conv (Conv2D)    (None, 28, 28, 128)  32768       conv3_block1_preact_relu[0][0]   \n",
      "__________________________________________________________________________________________________\n",
      "conv3_block1_1_bn (BatchNormali (None, 28, 28, 128)  512         conv3_block1_1_conv[0][0]        \n",
      "__________________________________________________________________________________________________\n",
      "conv3_block1_1_relu (Activation (None, 28, 28, 128)  0           conv3_block1_1_bn[0][0]          \n",
      "__________________________________________________________________________________________________\n",
      "conv3_block1_2_pad (ZeroPadding (None, 30, 30, 128)  0           conv3_block1_1_relu[0][0]        \n",
      "__________________________________________________________________________________________________\n",
      "conv3_block1_2_conv (Conv2D)    (None, 28, 28, 128)  147456      conv3_block1_2_pad[0][0]         \n",
      "__________________________________________________________________________________________________\n",
      "conv3_block1_2_bn (BatchNormali (None, 28, 28, 128)  512         conv3_block1_2_conv[0][0]        \n",
      "__________________________________________________________________________________________________\n",
      "conv3_block1_2_relu (Activation (None, 28, 28, 128)  0           conv3_block1_2_bn[0][0]          \n",
      "__________________________________________________________________________________________________\n",
      "conv3_block1_0_conv (Conv2D)    (None, 28, 28, 512)  131584      conv3_block1_preact_relu[0][0]   \n",
      "__________________________________________________________________________________________________\n",
      "conv3_block1_3_conv (Conv2D)    (None, 28, 28, 512)  66048       conv3_block1_2_relu[0][0]        \n",
      "__________________________________________________________________________________________________\n",
      "conv3_block1_out (Add)          (None, 28, 28, 512)  0           conv3_block1_0_conv[0][0]        \n",
      "                                                                 conv3_block1_3_conv[0][0]        \n",
      "__________________________________________________________________________________________________\n",
      "conv3_block2_preact_bn (BatchNo (None, 28, 28, 512)  2048        conv3_block1_out[0][0]           \n",
      "__________________________________________________________________________________________________\n",
      "conv3_block2_preact_relu (Activ (None, 28, 28, 512)  0           conv3_block2_preact_bn[0][0]     \n",
      "__________________________________________________________________________________________________\n",
      "conv3_block2_1_conv (Conv2D)    (None, 28, 28, 128)  65536       conv3_block2_preact_relu[0][0]   \n",
      "__________________________________________________________________________________________________\n",
      "conv3_block2_1_bn (BatchNormali (None, 28, 28, 128)  512         conv3_block2_1_conv[0][0]        \n",
      "__________________________________________________________________________________________________\n",
      "conv3_block2_1_relu (Activation (None, 28, 28, 128)  0           conv3_block2_1_bn[0][0]          \n",
      "__________________________________________________________________________________________________\n",
      "conv3_block2_2_pad (ZeroPadding (None, 30, 30, 128)  0           conv3_block2_1_relu[0][0]        \n",
      "__________________________________________________________________________________________________\n",
      "conv3_block2_2_conv (Conv2D)    (None, 28, 28, 128)  147456      conv3_block2_2_pad[0][0]         \n",
      "__________________________________________________________________________________________________\n",
      "conv3_block2_2_bn (BatchNormali (None, 28, 28, 128)  512         conv3_block2_2_conv[0][0]        \n",
      "__________________________________________________________________________________________________\n",
      "conv3_block2_2_relu (Activation (None, 28, 28, 128)  0           conv3_block2_2_bn[0][0]          \n",
      "__________________________________________________________________________________________________\n",
      "conv3_block2_3_conv (Conv2D)    (None, 28, 28, 512)  66048       conv3_block2_2_relu[0][0]        \n",
      "__________________________________________________________________________________________________\n",
      "conv3_block2_out (Add)          (None, 28, 28, 512)  0           conv3_block1_out[0][0]           \n",
      "                                                                 conv3_block2_3_conv[0][0]        \n",
      "__________________________________________________________________________________________________\n",
      "conv3_block3_preact_bn (BatchNo (None, 28, 28, 512)  2048        conv3_block2_out[0][0]           \n",
      "__________________________________________________________________________________________________\n",
      "conv3_block3_preact_relu (Activ (None, 28, 28, 512)  0           conv3_block3_preact_bn[0][0]     \n",
      "__________________________________________________________________________________________________\n",
      "conv3_block3_1_conv (Conv2D)    (None, 28, 28, 128)  65536       conv3_block3_preact_relu[0][0]   \n",
      "__________________________________________________________________________________________________\n",
      "conv3_block3_1_bn (BatchNormali (None, 28, 28, 128)  512         conv3_block3_1_conv[0][0]        \n",
      "__________________________________________________________________________________________________\n",
      "conv3_block3_1_relu (Activation (None, 28, 28, 128)  0           conv3_block3_1_bn[0][0]          \n",
      "__________________________________________________________________________________________________\n",
      "conv3_block3_2_pad (ZeroPadding (None, 30, 30, 128)  0           conv3_block3_1_relu[0][0]        \n",
      "__________________________________________________________________________________________________\n",
      "conv3_block3_2_conv (Conv2D)    (None, 28, 28, 128)  147456      conv3_block3_2_pad[0][0]         \n",
      "__________________________________________________________________________________________________\n",
      "conv3_block3_2_bn (BatchNormali (None, 28, 28, 128)  512         conv3_block3_2_conv[0][0]        \n",
      "__________________________________________________________________________________________________\n",
      "conv3_block3_2_relu (Activation (None, 28, 28, 128)  0           conv3_block3_2_bn[0][0]          \n",
      "__________________________________________________________________________________________________\n",
      "conv3_block3_3_conv (Conv2D)    (None, 28, 28, 512)  66048       conv3_block3_2_relu[0][0]        \n",
      "__________________________________________________________________________________________________\n",
      "conv3_block3_out (Add)          (None, 28, 28, 512)  0           conv3_block2_out[0][0]           \n",
      "                                                                 conv3_block3_3_conv[0][0]        \n",
      "__________________________________________________________________________________________________\n",
      "conv3_block4_preact_bn (BatchNo (None, 28, 28, 512)  2048        conv3_block3_out[0][0]           \n",
      "__________________________________________________________________________________________________\n",
      "conv3_block4_preact_relu (Activ (None, 28, 28, 512)  0           conv3_block4_preact_bn[0][0]     \n",
      "__________________________________________________________________________________________________\n",
      "conv3_block4_1_conv (Conv2D)    (None, 28, 28, 128)  65536       conv3_block4_preact_relu[0][0]   \n",
      "__________________________________________________________________________________________________\n",
      "conv3_block4_1_bn (BatchNormali (None, 28, 28, 128)  512         conv3_block4_1_conv[0][0]        \n",
      "__________________________________________________________________________________________________\n",
      "conv3_block4_1_relu (Activation (None, 28, 28, 128)  0           conv3_block4_1_bn[0][0]          \n",
      "__________________________________________________________________________________________________\n",
      "conv3_block4_2_pad (ZeroPadding (None, 30, 30, 128)  0           conv3_block4_1_relu[0][0]        \n",
      "__________________________________________________________________________________________________\n",
      "conv3_block4_2_conv (Conv2D)    (None, 14, 14, 128)  147456      conv3_block4_2_pad[0][0]         \n",
      "__________________________________________________________________________________________________\n",
      "conv3_block4_2_bn (BatchNormali (None, 14, 14, 128)  512         conv3_block4_2_conv[0][0]        \n",
      "__________________________________________________________________________________________________\n",
      "conv3_block4_2_relu (Activation (None, 14, 14, 128)  0           conv3_block4_2_bn[0][0]          \n",
      "__________________________________________________________________________________________________\n",
      "max_pooling2d_4 (MaxPooling2D)  (None, 14, 14, 512)  0           conv3_block3_out[0][0]           \n",
      "__________________________________________________________________________________________________\n",
      "conv3_block4_3_conv (Conv2D)    (None, 14, 14, 512)  66048       conv3_block4_2_relu[0][0]        \n",
      "__________________________________________________________________________________________________\n",
      "conv3_block4_out (Add)          (None, 14, 14, 512)  0           max_pooling2d_4[0][0]            \n",
      "                                                                 conv3_block4_3_conv[0][0]        \n",
      "__________________________________________________________________________________________________\n",
      "conv4_block1_preact_bn (BatchNo (None, 14, 14, 512)  2048        conv3_block4_out[0][0]           \n",
      "__________________________________________________________________________________________________\n",
      "conv4_block1_preact_relu (Activ (None, 14, 14, 512)  0           conv4_block1_preact_bn[0][0]     \n",
      "__________________________________________________________________________________________________\n",
      "conv4_block1_1_conv (Conv2D)    (None, 14, 14, 256)  131072      conv4_block1_preact_relu[0][0]   \n",
      "__________________________________________________________________________________________________\n",
      "conv4_block1_1_bn (BatchNormali (None, 14, 14, 256)  1024        conv4_block1_1_conv[0][0]        \n",
      "__________________________________________________________________________________________________\n",
      "conv4_block1_1_relu (Activation (None, 14, 14, 256)  0           conv4_block1_1_bn[0][0]          \n",
      "__________________________________________________________________________________________________\n",
      "conv4_block1_2_pad (ZeroPadding (None, 16, 16, 256)  0           conv4_block1_1_relu[0][0]        \n",
      "__________________________________________________________________________________________________\n",
      "conv4_block1_2_conv (Conv2D)    (None, 14, 14, 256)  589824      conv4_block1_2_pad[0][0]         \n",
      "__________________________________________________________________________________________________\n",
      "conv4_block1_2_bn (BatchNormali (None, 14, 14, 256)  1024        conv4_block1_2_conv[0][0]        \n",
      "__________________________________________________________________________________________________\n",
      "conv4_block1_2_relu (Activation (None, 14, 14, 256)  0           conv4_block1_2_bn[0][0]          \n",
      "__________________________________________________________________________________________________\n",
      "conv4_block1_0_conv (Conv2D)    (None, 14, 14, 1024) 525312      conv4_block1_preact_relu[0][0]   \n",
      "__________________________________________________________________________________________________\n",
      "conv4_block1_3_conv (Conv2D)    (None, 14, 14, 1024) 263168      conv4_block1_2_relu[0][0]        \n",
      "__________________________________________________________________________________________________\n",
      "conv4_block1_out (Add)          (None, 14, 14, 1024) 0           conv4_block1_0_conv[0][0]        \n",
      "                                                                 conv4_block1_3_conv[0][0]        \n",
      "__________________________________________________________________________________________________\n",
      "conv4_block2_preact_bn (BatchNo (None, 14, 14, 1024) 4096        conv4_block1_out[0][0]           \n",
      "__________________________________________________________________________________________________\n",
      "conv4_block2_preact_relu (Activ (None, 14, 14, 1024) 0           conv4_block2_preact_bn[0][0]     \n",
      "__________________________________________________________________________________________________\n",
      "conv4_block2_1_conv (Conv2D)    (None, 14, 14, 256)  262144      conv4_block2_preact_relu[0][0]   \n",
      "__________________________________________________________________________________________________\n",
      "conv4_block2_1_bn (BatchNormali (None, 14, 14, 256)  1024        conv4_block2_1_conv[0][0]        \n",
      "__________________________________________________________________________________________________\n",
      "conv4_block2_1_relu (Activation (None, 14, 14, 256)  0           conv4_block2_1_bn[0][0]          \n",
      "__________________________________________________________________________________________________\n",
      "conv4_block2_2_pad (ZeroPadding (None, 16, 16, 256)  0           conv4_block2_1_relu[0][0]        \n",
      "__________________________________________________________________________________________________\n",
      "conv4_block2_2_conv (Conv2D)    (None, 14, 14, 256)  589824      conv4_block2_2_pad[0][0]         \n",
      "__________________________________________________________________________________________________\n",
      "conv4_block2_2_bn (BatchNormali (None, 14, 14, 256)  1024        conv4_block2_2_conv[0][0]        \n",
      "__________________________________________________________________________________________________\n",
      "conv4_block2_2_relu (Activation (None, 14, 14, 256)  0           conv4_block2_2_bn[0][0]          \n",
      "__________________________________________________________________________________________________\n",
      "conv4_block2_3_conv (Conv2D)    (None, 14, 14, 1024) 263168      conv4_block2_2_relu[0][0]        \n",
      "__________________________________________________________________________________________________\n",
      "conv4_block2_out (Add)          (None, 14, 14, 1024) 0           conv4_block1_out[0][0]           \n",
      "                                                                 conv4_block2_3_conv[0][0]        \n",
      "__________________________________________________________________________________________________\n",
      "conv4_block3_preact_bn (BatchNo (None, 14, 14, 1024) 4096        conv4_block2_out[0][0]           \n",
      "__________________________________________________________________________________________________\n",
      "conv4_block3_preact_relu (Activ (None, 14, 14, 1024) 0           conv4_block3_preact_bn[0][0]     \n",
      "__________________________________________________________________________________________________\n",
      "conv4_block3_1_conv (Conv2D)    (None, 14, 14, 256)  262144      conv4_block3_preact_relu[0][0]   \n",
      "__________________________________________________________________________________________________\n",
      "conv4_block3_1_bn (BatchNormali (None, 14, 14, 256)  1024        conv4_block3_1_conv[0][0]        \n",
      "__________________________________________________________________________________________________\n",
      "conv4_block3_1_relu (Activation (None, 14, 14, 256)  0           conv4_block3_1_bn[0][0]          \n",
      "__________________________________________________________________________________________________\n",
      "conv4_block3_2_pad (ZeroPadding (None, 16, 16, 256)  0           conv4_block3_1_relu[0][0]        \n",
      "__________________________________________________________________________________________________\n",
      "conv4_block3_2_conv (Conv2D)    (None, 14, 14, 256)  589824      conv4_block3_2_pad[0][0]         \n",
      "__________________________________________________________________________________________________\n",
      "conv4_block3_2_bn (BatchNormali (None, 14, 14, 256)  1024        conv4_block3_2_conv[0][0]        \n",
      "__________________________________________________________________________________________________\n",
      "conv4_block3_2_relu (Activation (None, 14, 14, 256)  0           conv4_block3_2_bn[0][0]          \n",
      "__________________________________________________________________________________________________\n",
      "conv4_block3_3_conv (Conv2D)    (None, 14, 14, 1024) 263168      conv4_block3_2_relu[0][0]        \n",
      "__________________________________________________________________________________________________\n",
      "conv4_block3_out (Add)          (None, 14, 14, 1024) 0           conv4_block2_out[0][0]           \n",
      "                                                                 conv4_block3_3_conv[0][0]        \n",
      "__________________________________________________________________________________________________\n",
      "conv4_block4_preact_bn (BatchNo (None, 14, 14, 1024) 4096        conv4_block3_out[0][0]           \n",
      "__________________________________________________________________________________________________\n",
      "conv4_block4_preact_relu (Activ (None, 14, 14, 1024) 0           conv4_block4_preact_bn[0][0]     \n",
      "__________________________________________________________________________________________________\n",
      "conv4_block4_1_conv (Conv2D)    (None, 14, 14, 256)  262144      conv4_block4_preact_relu[0][0]   \n",
      "__________________________________________________________________________________________________\n",
      "conv4_block4_1_bn (BatchNormali (None, 14, 14, 256)  1024        conv4_block4_1_conv[0][0]        \n",
      "__________________________________________________________________________________________________\n",
      "conv4_block4_1_relu (Activation (None, 14, 14, 256)  0           conv4_block4_1_bn[0][0]          \n",
      "__________________________________________________________________________________________________\n",
      "conv4_block4_2_pad (ZeroPadding (None, 16, 16, 256)  0           conv4_block4_1_relu[0][0]        \n",
      "__________________________________________________________________________________________________\n",
      "conv4_block4_2_conv (Conv2D)    (None, 14, 14, 256)  589824      conv4_block4_2_pad[0][0]         \n",
      "__________________________________________________________________________________________________\n",
      "conv4_block4_2_bn (BatchNormali (None, 14, 14, 256)  1024        conv4_block4_2_conv[0][0]        \n",
      "__________________________________________________________________________________________________\n",
      "conv4_block4_2_relu (Activation (None, 14, 14, 256)  0           conv4_block4_2_bn[0][0]          \n",
      "__________________________________________________________________________________________________\n",
      "conv4_block4_3_conv (Conv2D)    (None, 14, 14, 1024) 263168      conv4_block4_2_relu[0][0]        \n",
      "__________________________________________________________________________________________________\n",
      "conv4_block4_out (Add)          (None, 14, 14, 1024) 0           conv4_block3_out[0][0]           \n",
      "                                                                 conv4_block4_3_conv[0][0]        \n",
      "__________________________________________________________________________________________________\n",
      "conv4_block5_preact_bn (BatchNo (None, 14, 14, 1024) 4096        conv4_block4_out[0][0]           \n",
      "__________________________________________________________________________________________________\n",
      "conv4_block5_preact_relu (Activ (None, 14, 14, 1024) 0           conv4_block5_preact_bn[0][0]     \n",
      "__________________________________________________________________________________________________\n",
      "conv4_block5_1_conv (Conv2D)    (None, 14, 14, 256)  262144      conv4_block5_preact_relu[0][0]   \n",
      "__________________________________________________________________________________________________\n",
      "conv4_block5_1_bn (BatchNormali (None, 14, 14, 256)  1024        conv4_block5_1_conv[0][0]        \n",
      "__________________________________________________________________________________________________\n",
      "conv4_block5_1_relu (Activation (None, 14, 14, 256)  0           conv4_block5_1_bn[0][0]          \n",
      "__________________________________________________________________________________________________\n",
      "conv4_block5_2_pad (ZeroPadding (None, 16, 16, 256)  0           conv4_block5_1_relu[0][0]        \n",
      "__________________________________________________________________________________________________\n",
      "conv4_block5_2_conv (Conv2D)    (None, 14, 14, 256)  589824      conv4_block5_2_pad[0][0]         \n",
      "__________________________________________________________________________________________________\n",
      "conv4_block5_2_bn (BatchNormali (None, 14, 14, 256)  1024        conv4_block5_2_conv[0][0]        \n",
      "__________________________________________________________________________________________________\n",
      "conv4_block5_2_relu (Activation (None, 14, 14, 256)  0           conv4_block5_2_bn[0][0]          \n",
      "__________________________________________________________________________________________________\n",
      "conv4_block5_3_conv (Conv2D)    (None, 14, 14, 1024) 263168      conv4_block5_2_relu[0][0]        \n",
      "__________________________________________________________________________________________________\n",
      "conv4_block5_out (Add)          (None, 14, 14, 1024) 0           conv4_block4_out[0][0]           \n",
      "                                                                 conv4_block5_3_conv[0][0]        \n",
      "__________________________________________________________________________________________________\n",
      "conv4_block6_preact_bn (BatchNo (None, 14, 14, 1024) 4096        conv4_block5_out[0][0]           \n",
      "__________________________________________________________________________________________________\n",
      "conv4_block6_preact_relu (Activ (None, 14, 14, 1024) 0           conv4_block6_preact_bn[0][0]     \n",
      "__________________________________________________________________________________________________\n",
      "conv4_block6_1_conv (Conv2D)    (None, 14, 14, 256)  262144      conv4_block6_preact_relu[0][0]   \n",
      "__________________________________________________________________________________________________\n",
      "conv4_block6_1_bn (BatchNormali (None, 14, 14, 256)  1024        conv4_block6_1_conv[0][0]        \n",
      "__________________________________________________________________________________________________\n",
      "conv4_block6_1_relu (Activation (None, 14, 14, 256)  0           conv4_block6_1_bn[0][0]          \n",
      "__________________________________________________________________________________________________\n",
      "conv4_block6_2_pad (ZeroPadding (None, 16, 16, 256)  0           conv4_block6_1_relu[0][0]        \n",
      "__________________________________________________________________________________________________\n",
      "conv4_block6_2_conv (Conv2D)    (None, 7, 7, 256)    589824      conv4_block6_2_pad[0][0]         \n",
      "__________________________________________________________________________________________________\n",
      "conv4_block6_2_bn (BatchNormali (None, 7, 7, 256)    1024        conv4_block6_2_conv[0][0]        \n",
      "__________________________________________________________________________________________________\n",
      "conv4_block6_2_relu (Activation (None, 7, 7, 256)    0           conv4_block6_2_bn[0][0]          \n",
      "__________________________________________________________________________________________________\n",
      "max_pooling2d_5 (MaxPooling2D)  (None, 7, 7, 1024)   0           conv4_block5_out[0][0]           \n",
      "__________________________________________________________________________________________________\n",
      "conv4_block6_3_conv (Conv2D)    (None, 7, 7, 1024)   263168      conv4_block6_2_relu[0][0]        \n",
      "__________________________________________________________________________________________________\n",
      "conv4_block6_out (Add)          (None, 7, 7, 1024)   0           max_pooling2d_5[0][0]            \n",
      "                                                                 conv4_block6_3_conv[0][0]        \n",
      "__________________________________________________________________________________________________\n",
      "conv5_block1_preact_bn (BatchNo (None, 7, 7, 1024)   4096        conv4_block6_out[0][0]           \n",
      "__________________________________________________________________________________________________\n",
      "conv5_block1_preact_relu (Activ (None, 7, 7, 1024)   0           conv5_block1_preact_bn[0][0]     \n",
      "__________________________________________________________________________________________________\n",
      "conv5_block1_1_conv (Conv2D)    (None, 7, 7, 512)    524288      conv5_block1_preact_relu[0][0]   \n",
      "__________________________________________________________________________________________________\n",
      "conv5_block1_1_bn (BatchNormali (None, 7, 7, 512)    2048        conv5_block1_1_conv[0][0]        \n",
      "__________________________________________________________________________________________________\n",
      "conv5_block1_1_relu (Activation (None, 7, 7, 512)    0           conv5_block1_1_bn[0][0]          \n",
      "__________________________________________________________________________________________________\n",
      "conv5_block1_2_pad (ZeroPadding (None, 9, 9, 512)    0           conv5_block1_1_relu[0][0]        \n",
      "__________________________________________________________________________________________________\n",
      "conv5_block1_2_conv (Conv2D)    (None, 7, 7, 512)    2359296     conv5_block1_2_pad[0][0]         \n",
      "__________________________________________________________________________________________________\n",
      "conv5_block1_2_bn (BatchNormali (None, 7, 7, 512)    2048        conv5_block1_2_conv[0][0]        \n",
      "__________________________________________________________________________________________________\n",
      "conv5_block1_2_relu (Activation (None, 7, 7, 512)    0           conv5_block1_2_bn[0][0]          \n",
      "__________________________________________________________________________________________________\n",
      "conv5_block1_0_conv (Conv2D)    (None, 7, 7, 2048)   2099200     conv5_block1_preact_relu[0][0]   \n",
      "__________________________________________________________________________________________________\n",
      "conv5_block1_3_conv (Conv2D)    (None, 7, 7, 2048)   1050624     conv5_block1_2_relu[0][0]        \n",
      "__________________________________________________________________________________________________\n",
      "conv5_block1_out (Add)          (None, 7, 7, 2048)   0           conv5_block1_0_conv[0][0]        \n",
      "                                                                 conv5_block1_3_conv[0][0]        \n",
      "__________________________________________________________________________________________________\n",
      "conv5_block2_preact_bn (BatchNo (None, 7, 7, 2048)   8192        conv5_block1_out[0][0]           \n",
      "__________________________________________________________________________________________________\n",
      "conv5_block2_preact_relu (Activ (None, 7, 7, 2048)   0           conv5_block2_preact_bn[0][0]     \n",
      "__________________________________________________________________________________________________\n",
      "conv5_block2_1_conv (Conv2D)    (None, 7, 7, 512)    1048576     conv5_block2_preact_relu[0][0]   \n",
      "__________________________________________________________________________________________________\n",
      "conv5_block2_1_bn (BatchNormali (None, 7, 7, 512)    2048        conv5_block2_1_conv[0][0]        \n",
      "__________________________________________________________________________________________________\n",
      "conv5_block2_1_relu (Activation (None, 7, 7, 512)    0           conv5_block2_1_bn[0][0]          \n",
      "__________________________________________________________________________________________________\n",
      "conv5_block2_2_pad (ZeroPadding (None, 9, 9, 512)    0           conv5_block2_1_relu[0][0]        \n",
      "__________________________________________________________________________________________________\n",
      "conv5_block2_2_conv (Conv2D)    (None, 7, 7, 512)    2359296     conv5_block2_2_pad[0][0]         \n",
      "__________________________________________________________________________________________________\n",
      "conv5_block2_2_bn (BatchNormali (None, 7, 7, 512)    2048        conv5_block2_2_conv[0][0]        \n",
      "__________________________________________________________________________________________________\n",
      "conv5_block2_2_relu (Activation (None, 7, 7, 512)    0           conv5_block2_2_bn[0][0]          \n",
      "__________________________________________________________________________________________________\n",
      "conv5_block2_3_conv (Conv2D)    (None, 7, 7, 2048)   1050624     conv5_block2_2_relu[0][0]        \n",
      "__________________________________________________________________________________________________\n",
      "conv5_block2_out (Add)          (None, 7, 7, 2048)   0           conv5_block1_out[0][0]           \n",
      "                                                                 conv5_block2_3_conv[0][0]        \n",
      "__________________________________________________________________________________________________\n",
      "conv5_block3_preact_bn (BatchNo (None, 7, 7, 2048)   8192        conv5_block2_out[0][0]           \n",
      "__________________________________________________________________________________________________\n",
      "conv5_block3_preact_relu (Activ (None, 7, 7, 2048)   0           conv5_block3_preact_bn[0][0]     \n",
      "__________________________________________________________________________________________________\n",
      "conv5_block3_1_conv (Conv2D)    (None, 7, 7, 512)    1048576     conv5_block3_preact_relu[0][0]   \n",
      "__________________________________________________________________________________________________\n",
      "conv5_block3_1_bn (BatchNormali (None, 7, 7, 512)    2048        conv5_block3_1_conv[0][0]        \n",
      "__________________________________________________________________________________________________\n",
      "conv5_block3_1_relu (Activation (None, 7, 7, 512)    0           conv5_block3_1_bn[0][0]          \n",
      "__________________________________________________________________________________________________\n",
      "conv5_block3_2_pad (ZeroPadding (None, 9, 9, 512)    0           conv5_block3_1_relu[0][0]        \n",
      "__________________________________________________________________________________________________\n",
      "conv5_block3_2_conv (Conv2D)    (None, 7, 7, 512)    2359296     conv5_block3_2_pad[0][0]         \n",
      "__________________________________________________________________________________________________\n",
      "conv5_block3_2_bn (BatchNormali (None, 7, 7, 512)    2048        conv5_block3_2_conv[0][0]        \n",
      "__________________________________________________________________________________________________\n",
      "conv5_block3_2_relu (Activation (None, 7, 7, 512)    0           conv5_block3_2_bn[0][0]          \n",
      "__________________________________________________________________________________________________\n",
      "conv5_block3_3_conv (Conv2D)    (None, 7, 7, 2048)   1050624     conv5_block3_2_relu[0][0]        \n",
      "__________________________________________________________________________________________________\n",
      "conv5_block3_out (Add)          (None, 7, 7, 2048)   0           conv5_block2_out[0][0]           \n",
      "                                                                 conv5_block3_3_conv[0][0]        \n",
      "__________________________________________________________________________________________________\n",
      "post_bn (BatchNormalization)    (None, 7, 7, 2048)   8192        conv5_block3_out[0][0]           \n",
      "__________________________________________________________________________________________________\n",
      "post_relu (Activation)          (None, 7, 7, 2048)   0           post_bn[0][0]                    \n",
      "__________________________________________________________________________________________________\n",
      "avg_pool (GlobalAveragePooling2 (None, 2048)         0           post_relu[0][0]                  \n",
      "__________________________________________________________________________________________________\n",
      "dense_4 (Dense)                 (None, 97)           198753      avg_pool[0][0]                   \n",
      "==================================================================================================\n",
      "Total params: 23,763,553\n",
      "Trainable params: 198,753\n",
      "Non-trainable params: 23,564,800\n",
      "__________________________________________________________________________________________________\n"
     ]
    }
   ],
   "source": [
    "# make all layers untrainable by freezing weights (except for last layer)\n",
    "for l, layer in enumerate(model_tl_v1.layers[:-1]):\n",
    "    layer.trainable = False\n",
    "\n",
    "# ensure the last layer is trainable/not frozen\n",
    "for l, layer in enumerate(model_tl_v2.layers[-1:]):\n",
    "    layer.trainable = True\n",
    "\n",
    "model_tl_v1.compile(loss='categorical_crossentropy',\n",
    "                    optimizer=keras.optimizers.Adam(learning_rate=3e-4),\n",
    "                    metrics=['accuracy'])\n",
    "model_tl_v1.summary()"
   ]
  },
  {
   "cell_type": "code",
   "execution_count": 47,
   "metadata": {
    "colab": {
     "base_uri": "https://localhost:8080/",
     "height": 561
    },
    "colab_type": "code",
    "id": "ds5-AdvkV9Vs",
    "outputId": "73d2753f-0961-46fe-eaf4-948ba32dd933"
   },
   "outputs": [
    {
     "name": "stdout",
     "output_type": "stream",
     "text": [
      "Epoch 1/100\n",
      "34/33 [==============================] - 48s 1s/step - loss: 0.1671 - accuracy: 0.9735 - val_loss: 0.3422 - val_accuracy: 0.9098\n",
      "Epoch 2/100\n",
      "34/33 [==============================] - 44s 1s/step - loss: 0.1442 - accuracy: 0.9751 - val_loss: 0.3397 - val_accuracy: 0.9108\n",
      "Epoch 3/100\n",
      "34/33 [==============================] - 44s 1s/step - loss: 0.1289 - accuracy: 0.9779 - val_loss: 0.3311 - val_accuracy: 0.9119\n",
      "Epoch 4/100\n",
      "34/33 [==============================] - 44s 1s/step - loss: 0.1153 - accuracy: 0.9832 - val_loss: 0.3346 - val_accuracy: 0.9119\n",
      "Epoch 5/100\n",
      "34/33 [==============================] - 45s 1s/step - loss: 0.1046 - accuracy: 0.9848 - val_loss: 0.3340 - val_accuracy: 0.9098\n",
      "Epoch 6/100\n",
      "34/33 [==============================] - 46s 1s/step - loss: 0.0961 - accuracy: 0.9871 - val_loss: 0.3277 - val_accuracy: 0.9119\n",
      "Epoch 7/100\n",
      "34/33 [==============================] - 45s 1s/step - loss: 0.0891 - accuracy: 0.9869 - val_loss: 0.3366 - val_accuracy: 0.9108\n",
      "Epoch 8/100\n",
      "34/33 [==============================] - 45s 1s/step - loss: 0.0838 - accuracy: 0.9878 - val_loss: 0.3340 - val_accuracy: 0.9130\n",
      "Epoch 9/100\n",
      "34/33 [==============================] - 44s 1s/step - loss: 0.0765 - accuracy: 0.9908 - val_loss: 0.3339 - val_accuracy: 0.9108\n",
      "Epoch 10/100\n",
      "34/33 [==============================] - 45s 1s/step - loss: 0.0765 - accuracy: 0.9903 - val_loss: 0.3344 - val_accuracy: 0.9108\n",
      "Epoch 11/100\n",
      "34/33 [==============================] - 44s 1s/step - loss: 0.0709 - accuracy: 0.9908 - val_loss: 0.3344 - val_accuracy: 0.9119\n",
      "Epoch 12/100\n",
      "34/33 [==============================] - 44s 1s/step - loss: 0.0648 - accuracy: 0.9926 - val_loss: 0.3327 - val_accuracy: 0.9119\n",
      "Epoch 13/100\n",
      "34/33 [==============================] - 43s 1s/step - loss: 0.0613 - accuracy: 0.9922 - val_loss: 0.3394 - val_accuracy: 0.9108\n",
      "Epoch 14/100\n",
      "34/33 [==============================] - 44s 1s/step - loss: 0.0607 - accuracy: 0.9933 - val_loss: 0.3369 - val_accuracy: 0.9130\n",
      "Epoch 15/100\n",
      "34/33 [==============================] - 44s 1s/step - loss: 0.0575 - accuracy: 0.9924 - val_loss: 0.3374 - val_accuracy: 0.9108\n",
      "Epoch 16/100\n",
      "34/33 [==============================] - 44s 1s/step - loss: 0.0540 - accuracy: 0.9936 - val_loss: 0.3385 - val_accuracy: 0.9119\n"
     ]
    }
   ],
   "source": [
    "batch_size = 128\n",
    "history_aug_v1 = model_tl_v1.fit(datagen.flow(x_train_new, y_train, batch_size),\n",
    "                                    steps_per_epoch=len(x_train_new) / batch_size, epochs=100,\n",
    "                                    validation_data=(x_val, y_val),\n",
    "                                    callbacks=[keras.callbacks.EarlyStopping(patience=10, restore_best_weights=True)])"
   ]
  },
  {
   "cell_type": "code",
   "execution_count": 48,
   "metadata": {
    "colab": {
     "base_uri": "https://localhost:8080/",
     "height": 51
    },
    "colab_type": "code",
    "id": "cnmTQRlWsVew",
    "outputId": "56932dfd-e504-411a-9122-4f5833856d23"
   },
   "outputs": [
    {
     "name": "stdout",
     "output_type": "stream",
     "text": [
      "Test loss: 0.2659784704926444\n",
      "Test accuracy: 0.9195278882980347\n"
     ]
    }
   ],
   "source": [
    "loss_aug_v1_train, accuracy_aug_v1_train = model_tl_v1.evaluate(x_train, y_train, verbose=0)\n",
    "loss_aug_v1_val, accuracy_aug_v1_val = model_tl_v1.evaluate(x_val, y_val, verbose=0)\n",
    "loss_aug_v1_test, accuracy_aug_v1_test = model_tl_v1.evaluate(x_test, y_test, verbose=0)\n",
    "\n",
    "print('Test loss:', loss_aug_v1_test)\n",
    "print('Test accuracy:', accuracy_aug_v1_test)"
   ]
  },
  {
   "cell_type": "markdown",
   "metadata": {
    "colab_type": "text",
    "id": "KqZKBX7CCl1w"
   },
   "source": [
    "Now, we retrain the second version of our transfer learning network. Again, ensure that only the last two layers are trainable."
   ]
  },
  {
   "cell_type": "code",
   "execution_count": 49,
   "metadata": {
    "colab": {
     "base_uri": "https://localhost:8080/",
     "height": 1000
    },
    "colab_type": "code",
    "id": "qduTrWwKcj7b",
    "outputId": "07422fc4-6b23-4e70-9b67-52bdafd0958e"
   },
   "outputs": [
    {
     "name": "stdout",
     "output_type": "stream",
     "text": [
      "Model: \"model_2\"\n",
      "__________________________________________________________________________________________________\n",
      "Layer (type)                    Output Shape         Param #     Connected to                     \n",
      "==================================================================================================\n",
      "input_1 (InputLayer)            (None, 224, 224, 3)  0                                            \n",
      "__________________________________________________________________________________________________\n",
      "conv1_pad (ZeroPadding2D)       (None, 230, 230, 3)  0           input_1[0][0]                    \n",
      "__________________________________________________________________________________________________\n",
      "conv1_conv (Conv2D)             (None, 112, 112, 64) 9472        conv1_pad[0][0]                  \n",
      "__________________________________________________________________________________________________\n",
      "pool1_pad (ZeroPadding2D)       (None, 114, 114, 64) 0           conv1_conv[0][0]                 \n",
      "__________________________________________________________________________________________________\n",
      "pool1_pool (MaxPooling2D)       (None, 56, 56, 64)   0           pool1_pad[0][0]                  \n",
      "__________________________________________________________________________________________________\n",
      "conv2_block1_preact_bn (BatchNo (None, 56, 56, 64)   256         pool1_pool[0][0]                 \n",
      "__________________________________________________________________________________________________\n",
      "conv2_block1_preact_relu (Activ (None, 56, 56, 64)   0           conv2_block1_preact_bn[0][0]     \n",
      "__________________________________________________________________________________________________\n",
      "conv2_block1_1_conv (Conv2D)    (None, 56, 56, 64)   4096        conv2_block1_preact_relu[0][0]   \n",
      "__________________________________________________________________________________________________\n",
      "conv2_block1_1_bn (BatchNormali (None, 56, 56, 64)   256         conv2_block1_1_conv[0][0]        \n",
      "__________________________________________________________________________________________________\n",
      "conv2_block1_1_relu (Activation (None, 56, 56, 64)   0           conv2_block1_1_bn[0][0]          \n",
      "__________________________________________________________________________________________________\n",
      "conv2_block1_2_pad (ZeroPadding (None, 58, 58, 64)   0           conv2_block1_1_relu[0][0]        \n",
      "__________________________________________________________________________________________________\n",
      "conv2_block1_2_conv (Conv2D)    (None, 56, 56, 64)   36864       conv2_block1_2_pad[0][0]         \n",
      "__________________________________________________________________________________________________\n",
      "conv2_block1_2_bn (BatchNormali (None, 56, 56, 64)   256         conv2_block1_2_conv[0][0]        \n",
      "__________________________________________________________________________________________________\n",
      "conv2_block1_2_relu (Activation (None, 56, 56, 64)   0           conv2_block1_2_bn[0][0]          \n",
      "__________________________________________________________________________________________________\n",
      "conv2_block1_0_conv (Conv2D)    (None, 56, 56, 256)  16640       conv2_block1_preact_relu[0][0]   \n",
      "__________________________________________________________________________________________________\n",
      "conv2_block1_3_conv (Conv2D)    (None, 56, 56, 256)  16640       conv2_block1_2_relu[0][0]        \n",
      "__________________________________________________________________________________________________\n",
      "conv2_block1_out (Add)          (None, 56, 56, 256)  0           conv2_block1_0_conv[0][0]        \n",
      "                                                                 conv2_block1_3_conv[0][0]        \n",
      "__________________________________________________________________________________________________\n",
      "conv2_block2_preact_bn (BatchNo (None, 56, 56, 256)  1024        conv2_block1_out[0][0]           \n",
      "__________________________________________________________________________________________________\n",
      "conv2_block2_preact_relu (Activ (None, 56, 56, 256)  0           conv2_block2_preact_bn[0][0]     \n",
      "__________________________________________________________________________________________________\n",
      "conv2_block2_1_conv (Conv2D)    (None, 56, 56, 64)   16384       conv2_block2_preact_relu[0][0]   \n",
      "__________________________________________________________________________________________________\n",
      "conv2_block2_1_bn (BatchNormali (None, 56, 56, 64)   256         conv2_block2_1_conv[0][0]        \n",
      "__________________________________________________________________________________________________\n",
      "conv2_block2_1_relu (Activation (None, 56, 56, 64)   0           conv2_block2_1_bn[0][0]          \n",
      "__________________________________________________________________________________________________\n",
      "conv2_block2_2_pad (ZeroPadding (None, 58, 58, 64)   0           conv2_block2_1_relu[0][0]        \n",
      "__________________________________________________________________________________________________\n",
      "conv2_block2_2_conv (Conv2D)    (None, 56, 56, 64)   36864       conv2_block2_2_pad[0][0]         \n",
      "__________________________________________________________________________________________________\n",
      "conv2_block2_2_bn (BatchNormali (None, 56, 56, 64)   256         conv2_block2_2_conv[0][0]        \n",
      "__________________________________________________________________________________________________\n",
      "conv2_block2_2_relu (Activation (None, 56, 56, 64)   0           conv2_block2_2_bn[0][0]          \n",
      "__________________________________________________________________________________________________\n",
      "conv2_block2_3_conv (Conv2D)    (None, 56, 56, 256)  16640       conv2_block2_2_relu[0][0]        \n",
      "__________________________________________________________________________________________________\n",
      "conv2_block2_out (Add)          (None, 56, 56, 256)  0           conv2_block1_out[0][0]           \n",
      "                                                                 conv2_block2_3_conv[0][0]        \n",
      "__________________________________________________________________________________________________\n",
      "conv2_block3_preact_bn (BatchNo (None, 56, 56, 256)  1024        conv2_block2_out[0][0]           \n",
      "__________________________________________________________________________________________________\n",
      "conv2_block3_preact_relu (Activ (None, 56, 56, 256)  0           conv2_block3_preact_bn[0][0]     \n",
      "__________________________________________________________________________________________________\n",
      "conv2_block3_1_conv (Conv2D)    (None, 56, 56, 64)   16384       conv2_block3_preact_relu[0][0]   \n",
      "__________________________________________________________________________________________________\n",
      "conv2_block3_1_bn (BatchNormali (None, 56, 56, 64)   256         conv2_block3_1_conv[0][0]        \n",
      "__________________________________________________________________________________________________\n",
      "conv2_block3_1_relu (Activation (None, 56, 56, 64)   0           conv2_block3_1_bn[0][0]          \n",
      "__________________________________________________________________________________________________\n",
      "conv2_block3_2_pad (ZeroPadding (None, 58, 58, 64)   0           conv2_block3_1_relu[0][0]        \n",
      "__________________________________________________________________________________________________\n",
      "conv2_block3_2_conv (Conv2D)    (None, 28, 28, 64)   36864       conv2_block3_2_pad[0][0]         \n",
      "__________________________________________________________________________________________________\n",
      "conv2_block3_2_bn (BatchNormali (None, 28, 28, 64)   256         conv2_block3_2_conv[0][0]        \n",
      "__________________________________________________________________________________________________\n",
      "conv2_block3_2_relu (Activation (None, 28, 28, 64)   0           conv2_block3_2_bn[0][0]          \n",
      "__________________________________________________________________________________________________\n",
      "max_pooling2d_3 (MaxPooling2D)  (None, 28, 28, 256)  0           conv2_block2_out[0][0]           \n",
      "__________________________________________________________________________________________________\n",
      "conv2_block3_3_conv (Conv2D)    (None, 28, 28, 256)  16640       conv2_block3_2_relu[0][0]        \n",
      "__________________________________________________________________________________________________\n",
      "conv2_block3_out (Add)          (None, 28, 28, 256)  0           max_pooling2d_3[0][0]            \n",
      "                                                                 conv2_block3_3_conv[0][0]        \n",
      "__________________________________________________________________________________________________\n",
      "conv3_block1_preact_bn (BatchNo (None, 28, 28, 256)  1024        conv2_block3_out[0][0]           \n",
      "__________________________________________________________________________________________________\n",
      "conv3_block1_preact_relu (Activ (None, 28, 28, 256)  0           conv3_block1_preact_bn[0][0]     \n",
      "__________________________________________________________________________________________________\n",
      "conv3_block1_1_conv (Conv2D)    (None, 28, 28, 128)  32768       conv3_block1_preact_relu[0][0]   \n",
      "__________________________________________________________________________________________________\n",
      "conv3_block1_1_bn (BatchNormali (None, 28, 28, 128)  512         conv3_block1_1_conv[0][0]        \n",
      "__________________________________________________________________________________________________\n",
      "conv3_block1_1_relu (Activation (None, 28, 28, 128)  0           conv3_block1_1_bn[0][0]          \n",
      "__________________________________________________________________________________________________\n",
      "conv3_block1_2_pad (ZeroPadding (None, 30, 30, 128)  0           conv3_block1_1_relu[0][0]        \n",
      "__________________________________________________________________________________________________\n",
      "conv3_block1_2_conv (Conv2D)    (None, 28, 28, 128)  147456      conv3_block1_2_pad[0][0]         \n",
      "__________________________________________________________________________________________________\n",
      "conv3_block1_2_bn (BatchNormali (None, 28, 28, 128)  512         conv3_block1_2_conv[0][0]        \n",
      "__________________________________________________________________________________________________\n",
      "conv3_block1_2_relu (Activation (None, 28, 28, 128)  0           conv3_block1_2_bn[0][0]          \n",
      "__________________________________________________________________________________________________\n",
      "conv3_block1_0_conv (Conv2D)    (None, 28, 28, 512)  131584      conv3_block1_preact_relu[0][0]   \n",
      "__________________________________________________________________________________________________\n",
      "conv3_block1_3_conv (Conv2D)    (None, 28, 28, 512)  66048       conv3_block1_2_relu[0][0]        \n",
      "__________________________________________________________________________________________________\n",
      "conv3_block1_out (Add)          (None, 28, 28, 512)  0           conv3_block1_0_conv[0][0]        \n",
      "                                                                 conv3_block1_3_conv[0][0]        \n",
      "__________________________________________________________________________________________________\n",
      "conv3_block2_preact_bn (BatchNo (None, 28, 28, 512)  2048        conv3_block1_out[0][0]           \n",
      "__________________________________________________________________________________________________\n",
      "conv3_block2_preact_relu (Activ (None, 28, 28, 512)  0           conv3_block2_preact_bn[0][0]     \n",
      "__________________________________________________________________________________________________\n",
      "conv3_block2_1_conv (Conv2D)    (None, 28, 28, 128)  65536       conv3_block2_preact_relu[0][0]   \n",
      "__________________________________________________________________________________________________\n",
      "conv3_block2_1_bn (BatchNormali (None, 28, 28, 128)  512         conv3_block2_1_conv[0][0]        \n",
      "__________________________________________________________________________________________________\n",
      "conv3_block2_1_relu (Activation (None, 28, 28, 128)  0           conv3_block2_1_bn[0][0]          \n",
      "__________________________________________________________________________________________________\n",
      "conv3_block2_2_pad (ZeroPadding (None, 30, 30, 128)  0           conv3_block2_1_relu[0][0]        \n",
      "__________________________________________________________________________________________________\n",
      "conv3_block2_2_conv (Conv2D)    (None, 28, 28, 128)  147456      conv3_block2_2_pad[0][0]         \n",
      "__________________________________________________________________________________________________\n",
      "conv3_block2_2_bn (BatchNormali (None, 28, 28, 128)  512         conv3_block2_2_conv[0][0]        \n",
      "__________________________________________________________________________________________________\n",
      "conv3_block2_2_relu (Activation (None, 28, 28, 128)  0           conv3_block2_2_bn[0][0]          \n",
      "__________________________________________________________________________________________________\n",
      "conv3_block2_3_conv (Conv2D)    (None, 28, 28, 512)  66048       conv3_block2_2_relu[0][0]        \n",
      "__________________________________________________________________________________________________\n",
      "conv3_block2_out (Add)          (None, 28, 28, 512)  0           conv3_block1_out[0][0]           \n",
      "                                                                 conv3_block2_3_conv[0][0]        \n",
      "__________________________________________________________________________________________________\n",
      "conv3_block3_preact_bn (BatchNo (None, 28, 28, 512)  2048        conv3_block2_out[0][0]           \n",
      "__________________________________________________________________________________________________\n",
      "conv3_block3_preact_relu (Activ (None, 28, 28, 512)  0           conv3_block3_preact_bn[0][0]     \n",
      "__________________________________________________________________________________________________\n",
      "conv3_block3_1_conv (Conv2D)    (None, 28, 28, 128)  65536       conv3_block3_preact_relu[0][0]   \n",
      "__________________________________________________________________________________________________\n",
      "conv3_block3_1_bn (BatchNormali (None, 28, 28, 128)  512         conv3_block3_1_conv[0][0]        \n",
      "__________________________________________________________________________________________________\n",
      "conv3_block3_1_relu (Activation (None, 28, 28, 128)  0           conv3_block3_1_bn[0][0]          \n",
      "__________________________________________________________________________________________________\n",
      "conv3_block3_2_pad (ZeroPadding (None, 30, 30, 128)  0           conv3_block3_1_relu[0][0]        \n",
      "__________________________________________________________________________________________________\n",
      "conv3_block3_2_conv (Conv2D)    (None, 28, 28, 128)  147456      conv3_block3_2_pad[0][0]         \n",
      "__________________________________________________________________________________________________\n",
      "conv3_block3_2_bn (BatchNormali (None, 28, 28, 128)  512         conv3_block3_2_conv[0][0]        \n",
      "__________________________________________________________________________________________________\n",
      "conv3_block3_2_relu (Activation (None, 28, 28, 128)  0           conv3_block3_2_bn[0][0]          \n",
      "__________________________________________________________________________________________________\n",
      "conv3_block3_3_conv (Conv2D)    (None, 28, 28, 512)  66048       conv3_block3_2_relu[0][0]        \n",
      "__________________________________________________________________________________________________\n",
      "conv3_block3_out (Add)          (None, 28, 28, 512)  0           conv3_block2_out[0][0]           \n",
      "                                                                 conv3_block3_3_conv[0][0]        \n",
      "__________________________________________________________________________________________________\n",
      "conv3_block4_preact_bn (BatchNo (None, 28, 28, 512)  2048        conv3_block3_out[0][0]           \n",
      "__________________________________________________________________________________________________\n",
      "conv3_block4_preact_relu (Activ (None, 28, 28, 512)  0           conv3_block4_preact_bn[0][0]     \n",
      "__________________________________________________________________________________________________\n",
      "conv3_block4_1_conv (Conv2D)    (None, 28, 28, 128)  65536       conv3_block4_preact_relu[0][0]   \n",
      "__________________________________________________________________________________________________\n",
      "conv3_block4_1_bn (BatchNormali (None, 28, 28, 128)  512         conv3_block4_1_conv[0][0]        \n",
      "__________________________________________________________________________________________________\n",
      "conv3_block4_1_relu (Activation (None, 28, 28, 128)  0           conv3_block4_1_bn[0][0]          \n",
      "__________________________________________________________________________________________________\n",
      "conv3_block4_2_pad (ZeroPadding (None, 30, 30, 128)  0           conv3_block4_1_relu[0][0]        \n",
      "__________________________________________________________________________________________________\n",
      "conv3_block4_2_conv (Conv2D)    (None, 14, 14, 128)  147456      conv3_block4_2_pad[0][0]         \n",
      "__________________________________________________________________________________________________\n",
      "conv3_block4_2_bn (BatchNormali (None, 14, 14, 128)  512         conv3_block4_2_conv[0][0]        \n",
      "__________________________________________________________________________________________________\n",
      "conv3_block4_2_relu (Activation (None, 14, 14, 128)  0           conv3_block4_2_bn[0][0]          \n",
      "__________________________________________________________________________________________________\n",
      "max_pooling2d_4 (MaxPooling2D)  (None, 14, 14, 512)  0           conv3_block3_out[0][0]           \n",
      "__________________________________________________________________________________________________\n",
      "conv3_block4_3_conv (Conv2D)    (None, 14, 14, 512)  66048       conv3_block4_2_relu[0][0]        \n",
      "__________________________________________________________________________________________________\n",
      "conv3_block4_out (Add)          (None, 14, 14, 512)  0           max_pooling2d_4[0][0]            \n",
      "                                                                 conv3_block4_3_conv[0][0]        \n",
      "__________________________________________________________________________________________________\n",
      "conv4_block1_preact_bn (BatchNo (None, 14, 14, 512)  2048        conv3_block4_out[0][0]           \n",
      "__________________________________________________________________________________________________\n",
      "conv4_block1_preact_relu (Activ (None, 14, 14, 512)  0           conv4_block1_preact_bn[0][0]     \n",
      "__________________________________________________________________________________________________\n",
      "conv4_block1_1_conv (Conv2D)    (None, 14, 14, 256)  131072      conv4_block1_preact_relu[0][0]   \n",
      "__________________________________________________________________________________________________\n",
      "conv4_block1_1_bn (BatchNormali (None, 14, 14, 256)  1024        conv4_block1_1_conv[0][0]        \n",
      "__________________________________________________________________________________________________\n",
      "conv4_block1_1_relu (Activation (None, 14, 14, 256)  0           conv4_block1_1_bn[0][0]          \n",
      "__________________________________________________________________________________________________\n",
      "conv4_block1_2_pad (ZeroPadding (None, 16, 16, 256)  0           conv4_block1_1_relu[0][0]        \n",
      "__________________________________________________________________________________________________\n",
      "conv4_block1_2_conv (Conv2D)    (None, 14, 14, 256)  589824      conv4_block1_2_pad[0][0]         \n",
      "__________________________________________________________________________________________________\n",
      "conv4_block1_2_bn (BatchNormali (None, 14, 14, 256)  1024        conv4_block1_2_conv[0][0]        \n",
      "__________________________________________________________________________________________________\n",
      "conv4_block1_2_relu (Activation (None, 14, 14, 256)  0           conv4_block1_2_bn[0][0]          \n",
      "__________________________________________________________________________________________________\n",
      "conv4_block1_0_conv (Conv2D)    (None, 14, 14, 1024) 525312      conv4_block1_preact_relu[0][0]   \n",
      "__________________________________________________________________________________________________\n",
      "conv4_block1_3_conv (Conv2D)    (None, 14, 14, 1024) 263168      conv4_block1_2_relu[0][0]        \n",
      "__________________________________________________________________________________________________\n",
      "conv4_block1_out (Add)          (None, 14, 14, 1024) 0           conv4_block1_0_conv[0][0]        \n",
      "                                                                 conv4_block1_3_conv[0][0]        \n",
      "__________________________________________________________________________________________________\n",
      "conv4_block2_preact_bn (BatchNo (None, 14, 14, 1024) 4096        conv4_block1_out[0][0]           \n",
      "__________________________________________________________________________________________________\n",
      "conv4_block2_preact_relu (Activ (None, 14, 14, 1024) 0           conv4_block2_preact_bn[0][0]     \n",
      "__________________________________________________________________________________________________\n",
      "conv4_block2_1_conv (Conv2D)    (None, 14, 14, 256)  262144      conv4_block2_preact_relu[0][0]   \n",
      "__________________________________________________________________________________________________\n",
      "conv4_block2_1_bn (BatchNormali (None, 14, 14, 256)  1024        conv4_block2_1_conv[0][0]        \n",
      "__________________________________________________________________________________________________\n",
      "conv4_block2_1_relu (Activation (None, 14, 14, 256)  0           conv4_block2_1_bn[0][0]          \n",
      "__________________________________________________________________________________________________\n",
      "conv4_block2_2_pad (ZeroPadding (None, 16, 16, 256)  0           conv4_block2_1_relu[0][0]        \n",
      "__________________________________________________________________________________________________\n",
      "conv4_block2_2_conv (Conv2D)    (None, 14, 14, 256)  589824      conv4_block2_2_pad[0][0]         \n",
      "__________________________________________________________________________________________________\n",
      "conv4_block2_2_bn (BatchNormali (None, 14, 14, 256)  1024        conv4_block2_2_conv[0][0]        \n",
      "__________________________________________________________________________________________________\n",
      "conv4_block2_2_relu (Activation (None, 14, 14, 256)  0           conv4_block2_2_bn[0][0]          \n",
      "__________________________________________________________________________________________________\n",
      "conv4_block2_3_conv (Conv2D)    (None, 14, 14, 1024) 263168      conv4_block2_2_relu[0][0]        \n",
      "__________________________________________________________________________________________________\n",
      "conv4_block2_out (Add)          (None, 14, 14, 1024) 0           conv4_block1_out[0][0]           \n",
      "                                                                 conv4_block2_3_conv[0][0]        \n",
      "__________________________________________________________________________________________________\n",
      "conv4_block3_preact_bn (BatchNo (None, 14, 14, 1024) 4096        conv4_block2_out[0][0]           \n",
      "__________________________________________________________________________________________________\n",
      "conv4_block3_preact_relu (Activ (None, 14, 14, 1024) 0           conv4_block3_preact_bn[0][0]     \n",
      "__________________________________________________________________________________________________\n",
      "conv4_block3_1_conv (Conv2D)    (None, 14, 14, 256)  262144      conv4_block3_preact_relu[0][0]   \n",
      "__________________________________________________________________________________________________\n",
      "conv4_block3_1_bn (BatchNormali (None, 14, 14, 256)  1024        conv4_block3_1_conv[0][0]        \n",
      "__________________________________________________________________________________________________\n",
      "conv4_block3_1_relu (Activation (None, 14, 14, 256)  0           conv4_block3_1_bn[0][0]          \n",
      "__________________________________________________________________________________________________\n",
      "conv4_block3_2_pad (ZeroPadding (None, 16, 16, 256)  0           conv4_block3_1_relu[0][0]        \n",
      "__________________________________________________________________________________________________\n",
      "conv4_block3_2_conv (Conv2D)    (None, 14, 14, 256)  589824      conv4_block3_2_pad[0][0]         \n",
      "__________________________________________________________________________________________________\n",
      "conv4_block3_2_bn (BatchNormali (None, 14, 14, 256)  1024        conv4_block3_2_conv[0][0]        \n",
      "__________________________________________________________________________________________________\n",
      "conv4_block3_2_relu (Activation (None, 14, 14, 256)  0           conv4_block3_2_bn[0][0]          \n",
      "__________________________________________________________________________________________________\n",
      "conv4_block3_3_conv (Conv2D)    (None, 14, 14, 1024) 263168      conv4_block3_2_relu[0][0]        \n",
      "__________________________________________________________________________________________________\n",
      "conv4_block3_out (Add)          (None, 14, 14, 1024) 0           conv4_block2_out[0][0]           \n",
      "                                                                 conv4_block3_3_conv[0][0]        \n",
      "__________________________________________________________________________________________________\n",
      "conv4_block4_preact_bn (BatchNo (None, 14, 14, 1024) 4096        conv4_block3_out[0][0]           \n",
      "__________________________________________________________________________________________________\n",
      "conv4_block4_preact_relu (Activ (None, 14, 14, 1024) 0           conv4_block4_preact_bn[0][0]     \n",
      "__________________________________________________________________________________________________\n",
      "conv4_block4_1_conv (Conv2D)    (None, 14, 14, 256)  262144      conv4_block4_preact_relu[0][0]   \n",
      "__________________________________________________________________________________________________\n",
      "conv4_block4_1_bn (BatchNormali (None, 14, 14, 256)  1024        conv4_block4_1_conv[0][0]        \n",
      "__________________________________________________________________________________________________\n",
      "conv4_block4_1_relu (Activation (None, 14, 14, 256)  0           conv4_block4_1_bn[0][0]          \n",
      "__________________________________________________________________________________________________\n",
      "conv4_block4_2_pad (ZeroPadding (None, 16, 16, 256)  0           conv4_block4_1_relu[0][0]        \n",
      "__________________________________________________________________________________________________\n",
      "conv4_block4_2_conv (Conv2D)    (None, 14, 14, 256)  589824      conv4_block4_2_pad[0][0]         \n",
      "__________________________________________________________________________________________________\n",
      "conv4_block4_2_bn (BatchNormali (None, 14, 14, 256)  1024        conv4_block4_2_conv[0][0]        \n",
      "__________________________________________________________________________________________________\n",
      "conv4_block4_2_relu (Activation (None, 14, 14, 256)  0           conv4_block4_2_bn[0][0]          \n",
      "__________________________________________________________________________________________________\n",
      "conv4_block4_3_conv (Conv2D)    (None, 14, 14, 1024) 263168      conv4_block4_2_relu[0][0]        \n",
      "__________________________________________________________________________________________________\n",
      "conv4_block4_out (Add)          (None, 14, 14, 1024) 0           conv4_block3_out[0][0]           \n",
      "                                                                 conv4_block4_3_conv[0][0]        \n",
      "__________________________________________________________________________________________________\n",
      "conv4_block5_preact_bn (BatchNo (None, 14, 14, 1024) 4096        conv4_block4_out[0][0]           \n",
      "__________________________________________________________________________________________________\n",
      "conv4_block5_preact_relu (Activ (None, 14, 14, 1024) 0           conv4_block5_preact_bn[0][0]     \n",
      "__________________________________________________________________________________________________\n",
      "conv4_block5_1_conv (Conv2D)    (None, 14, 14, 256)  262144      conv4_block5_preact_relu[0][0]   \n",
      "__________________________________________________________________________________________________\n",
      "conv4_block5_1_bn (BatchNormali (None, 14, 14, 256)  1024        conv4_block5_1_conv[0][0]        \n",
      "__________________________________________________________________________________________________\n",
      "conv4_block5_1_relu (Activation (None, 14, 14, 256)  0           conv4_block5_1_bn[0][0]          \n",
      "__________________________________________________________________________________________________\n",
      "conv4_block5_2_pad (ZeroPadding (None, 16, 16, 256)  0           conv4_block5_1_relu[0][0]        \n",
      "__________________________________________________________________________________________________\n",
      "conv4_block5_2_conv (Conv2D)    (None, 14, 14, 256)  589824      conv4_block5_2_pad[0][0]         \n",
      "__________________________________________________________________________________________________\n",
      "conv4_block5_2_bn (BatchNormali (None, 14, 14, 256)  1024        conv4_block5_2_conv[0][0]        \n",
      "__________________________________________________________________________________________________\n",
      "conv4_block5_2_relu (Activation (None, 14, 14, 256)  0           conv4_block5_2_bn[0][0]          \n",
      "__________________________________________________________________________________________________\n",
      "conv4_block5_3_conv (Conv2D)    (None, 14, 14, 1024) 263168      conv4_block5_2_relu[0][0]        \n",
      "__________________________________________________________________________________________________\n",
      "conv4_block5_out (Add)          (None, 14, 14, 1024) 0           conv4_block4_out[0][0]           \n",
      "                                                                 conv4_block5_3_conv[0][0]        \n",
      "__________________________________________________________________________________________________\n",
      "conv4_block6_preact_bn (BatchNo (None, 14, 14, 1024) 4096        conv4_block5_out[0][0]           \n",
      "__________________________________________________________________________________________________\n",
      "conv4_block6_preact_relu (Activ (None, 14, 14, 1024) 0           conv4_block6_preact_bn[0][0]     \n",
      "__________________________________________________________________________________________________\n",
      "conv4_block6_1_conv (Conv2D)    (None, 14, 14, 256)  262144      conv4_block6_preact_relu[0][0]   \n",
      "__________________________________________________________________________________________________\n",
      "conv4_block6_1_bn (BatchNormali (None, 14, 14, 256)  1024        conv4_block6_1_conv[0][0]        \n",
      "__________________________________________________________________________________________________\n",
      "conv4_block6_1_relu (Activation (None, 14, 14, 256)  0           conv4_block6_1_bn[0][0]          \n",
      "__________________________________________________________________________________________________\n",
      "conv4_block6_2_pad (ZeroPadding (None, 16, 16, 256)  0           conv4_block6_1_relu[0][0]        \n",
      "__________________________________________________________________________________________________\n",
      "conv4_block6_2_conv (Conv2D)    (None, 7, 7, 256)    589824      conv4_block6_2_pad[0][0]         \n",
      "__________________________________________________________________________________________________\n",
      "conv4_block6_2_bn (BatchNormali (None, 7, 7, 256)    1024        conv4_block6_2_conv[0][0]        \n",
      "__________________________________________________________________________________________________\n",
      "conv4_block6_2_relu (Activation (None, 7, 7, 256)    0           conv4_block6_2_bn[0][0]          \n",
      "__________________________________________________________________________________________________\n",
      "max_pooling2d_5 (MaxPooling2D)  (None, 7, 7, 1024)   0           conv4_block5_out[0][0]           \n",
      "__________________________________________________________________________________________________\n",
      "conv4_block6_3_conv (Conv2D)    (None, 7, 7, 1024)   263168      conv4_block6_2_relu[0][0]        \n",
      "__________________________________________________________________________________________________\n",
      "conv4_block6_out (Add)          (None, 7, 7, 1024)   0           max_pooling2d_5[0][0]            \n",
      "                                                                 conv4_block6_3_conv[0][0]        \n",
      "__________________________________________________________________________________________________\n",
      "conv5_block1_preact_bn (BatchNo (None, 7, 7, 1024)   4096        conv4_block6_out[0][0]           \n",
      "__________________________________________________________________________________________________\n",
      "conv5_block1_preact_relu (Activ (None, 7, 7, 1024)   0           conv5_block1_preact_bn[0][0]     \n",
      "__________________________________________________________________________________________________\n",
      "conv5_block1_1_conv (Conv2D)    (None, 7, 7, 512)    524288      conv5_block1_preact_relu[0][0]   \n",
      "__________________________________________________________________________________________________\n",
      "conv5_block1_1_bn (BatchNormali (None, 7, 7, 512)    2048        conv5_block1_1_conv[0][0]        \n",
      "__________________________________________________________________________________________________\n",
      "conv5_block1_1_relu (Activation (None, 7, 7, 512)    0           conv5_block1_1_bn[0][0]          \n",
      "__________________________________________________________________________________________________\n",
      "conv5_block1_2_pad (ZeroPadding (None, 9, 9, 512)    0           conv5_block1_1_relu[0][0]        \n",
      "__________________________________________________________________________________________________\n",
      "conv5_block1_2_conv (Conv2D)    (None, 7, 7, 512)    2359296     conv5_block1_2_pad[0][0]         \n",
      "__________________________________________________________________________________________________\n",
      "conv5_block1_2_bn (BatchNormali (None, 7, 7, 512)    2048        conv5_block1_2_conv[0][0]        \n",
      "__________________________________________________________________________________________________\n",
      "conv5_block1_2_relu (Activation (None, 7, 7, 512)    0           conv5_block1_2_bn[0][0]          \n",
      "__________________________________________________________________________________________________\n",
      "conv5_block1_0_conv (Conv2D)    (None, 7, 7, 2048)   2099200     conv5_block1_preact_relu[0][0]   \n",
      "__________________________________________________________________________________________________\n",
      "conv5_block1_3_conv (Conv2D)    (None, 7, 7, 2048)   1050624     conv5_block1_2_relu[0][0]        \n",
      "__________________________________________________________________________________________________\n",
      "conv5_block1_out (Add)          (None, 7, 7, 2048)   0           conv5_block1_0_conv[0][0]        \n",
      "                                                                 conv5_block1_3_conv[0][0]        \n",
      "__________________________________________________________________________________________________\n",
      "conv5_block2_preact_bn (BatchNo (None, 7, 7, 2048)   8192        conv5_block1_out[0][0]           \n",
      "__________________________________________________________________________________________________\n",
      "conv5_block2_preact_relu (Activ (None, 7, 7, 2048)   0           conv5_block2_preact_bn[0][0]     \n",
      "__________________________________________________________________________________________________\n",
      "conv5_block2_1_conv (Conv2D)    (None, 7, 7, 512)    1048576     conv5_block2_preact_relu[0][0]   \n",
      "__________________________________________________________________________________________________\n",
      "conv5_block2_1_bn (BatchNormali (None, 7, 7, 512)    2048        conv5_block2_1_conv[0][0]        \n",
      "__________________________________________________________________________________________________\n",
      "conv5_block2_1_relu (Activation (None, 7, 7, 512)    0           conv5_block2_1_bn[0][0]          \n",
      "__________________________________________________________________________________________________\n",
      "conv5_block2_2_pad (ZeroPadding (None, 9, 9, 512)    0           conv5_block2_1_relu[0][0]        \n",
      "__________________________________________________________________________________________________\n",
      "conv5_block2_2_conv (Conv2D)    (None, 7, 7, 512)    2359296     conv5_block2_2_pad[0][0]         \n",
      "__________________________________________________________________________________________________\n",
      "conv5_block2_2_bn (BatchNormali (None, 7, 7, 512)    2048        conv5_block2_2_conv[0][0]        \n",
      "__________________________________________________________________________________________________\n",
      "conv5_block2_2_relu (Activation (None, 7, 7, 512)    0           conv5_block2_2_bn[0][0]          \n",
      "__________________________________________________________________________________________________\n",
      "conv5_block2_3_conv (Conv2D)    (None, 7, 7, 2048)   1050624     conv5_block2_2_relu[0][0]        \n",
      "__________________________________________________________________________________________________\n",
      "conv5_block2_out (Add)          (None, 7, 7, 2048)   0           conv5_block1_out[0][0]           \n",
      "                                                                 conv5_block2_3_conv[0][0]        \n",
      "__________________________________________________________________________________________________\n",
      "conv5_block3_preact_bn (BatchNo (None, 7, 7, 2048)   8192        conv5_block2_out[0][0]           \n",
      "__________________________________________________________________________________________________\n",
      "conv5_block3_preact_relu (Activ (None, 7, 7, 2048)   0           conv5_block3_preact_bn[0][0]     \n",
      "__________________________________________________________________________________________________\n",
      "conv5_block3_1_conv (Conv2D)    (None, 7, 7, 512)    1048576     conv5_block3_preact_relu[0][0]   \n",
      "__________________________________________________________________________________________________\n",
      "conv5_block3_1_bn (BatchNormali (None, 7, 7, 512)    2048        conv5_block3_1_conv[0][0]        \n",
      "__________________________________________________________________________________________________\n",
      "conv5_block3_1_relu (Activation (None, 7, 7, 512)    0           conv5_block3_1_bn[0][0]          \n",
      "__________________________________________________________________________________________________\n",
      "conv5_block3_2_pad (ZeroPadding (None, 9, 9, 512)    0           conv5_block3_1_relu[0][0]        \n",
      "__________________________________________________________________________________________________\n",
      "conv5_block3_2_conv (Conv2D)    (None, 7, 7, 512)    2359296     conv5_block3_2_pad[0][0]         \n",
      "__________________________________________________________________________________________________\n",
      "conv5_block3_2_bn (BatchNormali (None, 7, 7, 512)    2048        conv5_block3_2_conv[0][0]        \n",
      "__________________________________________________________________________________________________\n",
      "conv5_block3_2_relu (Activation (None, 7, 7, 512)    0           conv5_block3_2_bn[0][0]          \n",
      "__________________________________________________________________________________________________\n",
      "conv5_block3_3_conv (Conv2D)    (None, 7, 7, 2048)   1050624     conv5_block3_2_relu[0][0]        \n",
      "__________________________________________________________________________________________________\n",
      "conv5_block3_out (Add)          (None, 7, 7, 2048)   0           conv5_block2_out[0][0]           \n",
      "                                                                 conv5_block3_3_conv[0][0]        \n",
      "__________________________________________________________________________________________________\n",
      "post_bn (BatchNormalization)    (None, 7, 7, 2048)   8192        conv5_block3_out[0][0]           \n",
      "__________________________________________________________________________________________________\n",
      "post_relu (Activation)          (None, 7, 7, 2048)   0           post_bn[0][0]                    \n",
      "__________________________________________________________________________________________________\n",
      "avg_pool (GlobalAveragePooling2 (None, 2048)         0           post_relu[0][0]                  \n",
      "__________________________________________________________________________________________________\n",
      "dense_5 (Dense)                 (None, 1024)         2098176     avg_pool[0][0]                   \n",
      "__________________________________________________________________________________________________\n",
      "dense_6 (Dense)                 (None, 97)           99425       dense_5[0][0]                    \n",
      "==================================================================================================\n",
      "Total params: 25,762,401\n",
      "Trainable params: 2,197,601\n",
      "Non-trainable params: 23,564,800\n",
      "__________________________________________________________________________________________________\n"
     ]
    }
   ],
   "source": [
    "# make all layers untrainable by freezing weights (except for last 2 layers)\n",
    "for l, layer in enumerate(model_tl_v2.layers[:-2]):\n",
    "    layer.trainable = False\n",
    "\n",
    "# ensure the last two layers are trainable/not frozen\n",
    "for l, layer in enumerate(model_tl_v2.layers[-2:]):\n",
    "    layer.trainable = True\n",
    "\n",
    "model_tl_v2.compile(loss='categorical_crossentropy',\n",
    "                    optimizer=keras.optimizers.Adam(learning_rate=3e-4),\n",
    "                    metrics=['accuracy'])\n",
    "model_tl_v2.summary()"
   ]
  },
  {
   "cell_type": "code",
   "execution_count": 50,
   "metadata": {
    "colab": {
     "base_uri": "https://localhost:8080/",
     "height": 493
    },
    "colab_type": "code",
    "id": "wSvr79XxiWKu",
    "outputId": "da8df23b-a936-4df8-a90e-2e5518119156"
   },
   "outputs": [
    {
     "name": "stdout",
     "output_type": "stream",
     "text": [
      "Epoch 1/100\n",
      "34/33 [==============================] - 48s 1s/step - loss: 0.1712 - accuracy: 0.9558 - val_loss: 0.4170 - val_accuracy: 0.9001\n",
      "Epoch 2/100\n",
      "34/33 [==============================] - 43s 1s/step - loss: 0.1053 - accuracy: 0.9742 - val_loss: 0.4103 - val_accuracy: 0.9033\n",
      "Epoch 3/100\n",
      "34/33 [==============================] - 45s 1s/step - loss: 0.0964 - accuracy: 0.9761 - val_loss: 0.3888 - val_accuracy: 0.9044\n",
      "Epoch 4/100\n",
      "34/33 [==============================] - 44s 1s/step - loss: 0.0799 - accuracy: 0.9793 - val_loss: 0.3812 - val_accuracy: 0.9119\n",
      "Epoch 5/100\n",
      "34/33 [==============================] - 45s 1s/step - loss: 0.0637 - accuracy: 0.9846 - val_loss: 0.4084 - val_accuracy: 0.9044\n",
      "Epoch 6/100\n",
      "34/33 [==============================] - 45s 1s/step - loss: 0.0590 - accuracy: 0.9860 - val_loss: 0.4130 - val_accuracy: 0.9066\n",
      "Epoch 7/100\n",
      "34/33 [==============================] - 45s 1s/step - loss: 0.0487 - accuracy: 0.9880 - val_loss: 0.4128 - val_accuracy: 0.9076\n",
      "Epoch 8/100\n",
      "34/33 [==============================] - 45s 1s/step - loss: 0.0377 - accuracy: 0.9917 - val_loss: 0.4113 - val_accuracy: 0.9076\n",
      "Epoch 9/100\n",
      "34/33 [==============================] - 45s 1s/step - loss: 0.0406 - accuracy: 0.9903 - val_loss: 0.4210 - val_accuracy: 0.9001\n",
      "Epoch 10/100\n",
      "34/33 [==============================] - 45s 1s/step - loss: 0.0399 - accuracy: 0.9919 - val_loss: 0.4006 - val_accuracy: 0.9044\n",
      "Epoch 11/100\n",
      "34/33 [==============================] - 45s 1s/step - loss: 0.0305 - accuracy: 0.9940 - val_loss: 0.4080 - val_accuracy: 0.9033\n",
      "Epoch 12/100\n",
      "34/33 [==============================] - 45s 1s/step - loss: 0.0243 - accuracy: 0.9970 - val_loss: 0.4178 - val_accuracy: 0.9044\n",
      "Epoch 13/100\n",
      "34/33 [==============================] - 45s 1s/step - loss: 0.0220 - accuracy: 0.9963 - val_loss: 0.4050 - val_accuracy: 0.9130\n",
      "Epoch 14/100\n",
      "34/33 [==============================] - 45s 1s/step - loss: 0.0173 - accuracy: 0.9979 - val_loss: 0.4128 - val_accuracy: 0.9087\n"
     ]
    }
   ],
   "source": [
    "history_aug_v2 = model_tl_v2.fit(datagen.flow(x_train_new, y_train, batch_size),\n",
    "                                    steps_per_epoch=len(x_train_new) / batch_size, epochs=100,\n",
    "                                    validation_data=(x_val, y_val),\n",
    "                                    callbacks=[keras.callbacks.EarlyStopping(patience=10, restore_best_weights=True)])"
   ]
  },
  {
   "cell_type": "code",
   "execution_count": 51,
   "metadata": {
    "colab": {
     "base_uri": "https://localhost:8080/",
     "height": 51
    },
    "colab_type": "code",
    "id": "-as9cehshCy0",
    "outputId": "50630ca8-ca6b-4b27-ee67-be9244598d5b"
   },
   "outputs": [
    {
     "name": "stdout",
     "output_type": "stream",
     "text": [
      "Test loss: 0.3249804762395922\n",
      "Test accuracy: 0.917382001876831\n"
     ]
    }
   ],
   "source": [
    "loss_aug_v2_train, accuracy_aug_v2_train = model_tl_v2.evaluate(x_train, y_train, verbose=0)\n",
    "loss_aug_v2_val, accuracy_aug_v2_val = model_tl_v2.evaluate(x_val, y_val, verbose=0)\n",
    "loss_aug_v2_test, accuracy_aug_v2_test = model_tl_v2.evaluate(x_test, y_test, verbose=0)\n",
    "\n",
    "print('Test loss:', loss_aug_v2_test)\n",
    "print('Test accuracy:', accuracy_aug_v2_test)"
   ]
  },
  {
   "cell_type": "code",
   "execution_count": 52,
   "metadata": {
    "colab": {
     "base_uri": "https://localhost:8080/",
     "height": 386
    },
    "colab_type": "code",
    "id": "kV6uqzIvs1E6",
    "outputId": "db6d0d83-22d3-402b-d5cb-1b464203b1c4"
   },
   "outputs": [
    {
     "data": {
      "text/plain": [
       "<seaborn.axisgrid.FacetGrid at 0x7fda401e60b8>"
      ]
     },
     "execution_count": 52,
     "metadata": {
      "tags": []
     },
     "output_type": "execute_result"
    },
    {
     "data": {
      "image/png": "[encoded data removed]",
      "text/plain": [
       "<Figure size 456.625x360 with 1 Axes>"
      ]
     },
     "metadata": {
      "needs_background": "light",
      "tags": []
     },
     "output_type": "display_data"
    }
   ],
   "source": [
    "metrics_aug_v1 = [accuracy_aug_v1_train, accuracy_aug_v1_val, accuracy_aug_v1_test]\n",
    "metrics_aug_v2 = [accuracy_aug_v2_train, accuracy_aug_v2_val, accuracy_aug_v2_test]\n",
    "metrics_aug_df = pd.DataFrame({'aug_1layer': metrics_aug_v1, 'aug_2layers': metrics_aug_v2})\n",
    "metrics_aug_df['data'] = ['train', 'val', 'test']\n",
    "metrics_aug_df = pd.melt(metrics_aug_df, id_vars=['data'])\n",
    "\n",
    "sns.catplot(x='data', y='value', hue='variable', data=metrics_aug_df, kind='bar', palette='muted')  "
   ]
  },
  {
   "cell_type": "markdown",
   "metadata": {
    "colab_type": "text",
    "id": "dZpFdvjyGb7q"
   },
   "source": [
    "Comparing the performance of the networks after retraining them with the new generated images, not much have changed. The accuracy of the networks are still more than 90%."
   ]
  },
  {
   "cell_type": "code",
   "execution_count": 0,
   "metadata": {
    "colab": {},
    "colab_type": "code",
    "id": "Xh_shbbSDgqS"
   },
   "outputs": [],
   "source": [
    "aug_one_train = pd.DataFrame(history_aug_v1.history)\n",
    "aug_one_train['category'] = 'aug_one_layer'\n",
    "aug_one_train['epoch'] = range(len(aug_one_train))\n",
    "aug_two_train = pd.DataFrame(history_aug_v2.history)\n",
    "aug_two_train['category'] = 'aug_two_layers'\n",
    "aug_two_train['epoch'] = range(len(aug_two_train))\n",
    "\n",
    "aug_cnn = aug_one_train.append(aug_two_train)\n",
    "aug_cnn.epoch = aug_cnn.epoch + 1"
   ]
  },
  {
   "cell_type": "code",
   "execution_count": 54,
   "metadata": {
    "colab": {
     "base_uri": "https://localhost:8080/",
     "height": 417
    },
    "colab_type": "code",
    "id": "gbfbrt8_DU1o",
    "outputId": "97c2fdac-3aea-4f5d-9585-7944862ca16b"
   },
   "outputs": [
    {
     "data": {
      "text/plain": [
       "(-0.05, 1.05)"
      ]
     },
     "execution_count": 54,
     "metadata": {
      "tags": []
     },
     "output_type": "execute_result"
    },
    {
     "data": {
      "image/png": "[encoded data removed]",
      "text/plain": [
       "<Figure size 1800x504 with 8 Axes>"
      ]
     },
     "metadata": {
      "needs_background": "light",
      "tags": []
     },
     "output_type": "display_data"
    }
   ],
   "source": [
    "fig, axs = plt.subplots(ncols=4, nrows=2, figsize=(25,7))\n",
    "\n",
    "all_tl_cnn = tl_cnn.append(aug_cnn)\n",
    "\n",
    "ax1 = plot_line(tl_cnn, 'loss', 'val_loss', 'train_one_layer', 'epoch', 'value', 'variable', 0, 0)\n",
    "ax1.set_title('Training One Layer Only')\n",
    "ax1.set_ylim(-0.05, max(subset_df(all_tl_cnn, 'loss', 'val_loss').value))\n",
    "\n",
    "ax2 = plot_line(tl_cnn, 'loss', 'val_loss', 'train_two_layers', 'epoch', 'value', 'variable', 0, 2)\n",
    "ax2.set_title('Training Two Layers')\n",
    "ax2.set_ylim(-0.05, max(subset_df(all_tl_cnn, 'loss', 'val_loss').value))\n",
    "\n",
    "ax1 = plot_line(tl_cnn, 'accuracy', 'val_accuracy', 'train_one_layer', 'epoch', 'value', 'variable', 1, 0)\n",
    "ax1.set_ylim(-0.05, 1.05)\n",
    "\n",
    "ax1 = plot_line(tl_cnn, 'accuracy', 'val_accuracy', 'train_two_layers', 'epoch', 'value', 'variable', 1, 2)\n",
    "ax1.set_ylim(-0.05, 1.05)\n",
    "\n",
    "ax5 = plot_line(aug_cnn, 'loss', 'val_loss', 'aug_one_layer', 'epoch', 'value', 'variable', 0, 1)\n",
    "ax5.set_title('Training One Layer with Augmentation')\n",
    "ax5.set_ylim(-0.05, max(subset_df(all_tl_cnn, 'loss', 'val_loss').value))\n",
    "\n",
    "ax6 = plot_line(aug_cnn, 'loss', 'val_loss', 'aug_two_layers', 'epoch', 'value', 'variable', 0, 3)\n",
    "ax6.set_title('Training Two Layers with Augmentation')\n",
    "ax6.set_ylim(-0.05, max(subset_df(all_tl_cnn, 'loss', 'val_loss').value))\n",
    "\n",
    "ax7 = plot_line(aug_cnn, 'accuracy', 'val_accuracy', 'aug_one_layer', 'epoch', 'value', 'variable', 1, 1)\n",
    "ax7.set_ylim(-0.05, 1.05)\n",
    "\n",
    "ax8 = plot_line(aug_cnn, 'accuracy', 'val_accuracy', 'aug_two_layers', 'epoch', 'value', 'variable', 1, 3)\n",
    "ax8.set_ylim(-0.05, 1.05)"
   ]
  },
  {
   "cell_type": "code",
   "execution_count": 55,
   "metadata": {
    "colab": {
     "base_uri": "https://localhost:8080/",
     "height": 386
    },
    "colab_type": "code",
    "id": "MX2PliIhBYUC",
    "outputId": "e063cc60-e449-45ac-f008-c37f7063afaf"
   },
   "outputs": [
    {
     "data": {
      "text/plain": [
       "<seaborn.axisgrid.FacetGrid at 0x7fdadd4e4ba8>"
      ]
     },
     "execution_count": 55,
     "metadata": {
      "tags": []
     },
     "output_type": "execute_result"
    },
    {
     "data": {
      "image/png": "[encoded data removed]",
      "text/plain": [
       "<Figure size 456.625x360 with 1 Axes>"
      ]
     },
     "metadata": {
      "needs_background": "light",
      "tags": []
     },
     "output_type": "display_data"
    }
   ],
   "source": [
    "metrics_tl = metrics_tl_df.append(metrics_aug_df)\n",
    "sns.catplot(x='data', y='value', hue='variable', data=metrics_tl, kind='bar', palette='muted') "
   ]
  },
  {
   "cell_type": "markdown",
   "metadata": {
    "colab_type": "text",
    "id": "Pz8wWusBMGKU"
   },
   "source": [
    "Lastly, comparing the networks from the transfer learning ran from the previous section against the updated transfer learning networks we just ran, we can see that there is no siginificant improvement in terms of the networks' accuracy."
   ]
  },
  {
   "cell_type": "code",
   "execution_count": 0,
   "metadata": {
    "colab": {},
    "colab_type": "code",
    "id": "CRjrUQ4pBzgz"
   },
   "outputs": [],
   "source": []
  }
 ],
 "metadata": {
  "accelerator": "GPU",
  "colab": {
   "machine_shape": "hm",
   "name": "Assessed_task3",
   "provenance": [],
   "toc_visible": true
  },
  "kernelspec": {
   "display_name": "Python 3",
   "language": "python",
   "name": "python3"
  },
  "language_info": {
   "codemirror_mode": {
    "name": "ipython",
    "version": 3
   },
   "file_extension": ".py",
   "mimetype": "text/x-python",
   "name": "python",
   "nbconvert_exporter": "python",
   "pygments_lexer": "ipython3",
   "version": "3.7.3"
  }
 },
 "nbformat": 4,
 "nbformat_minor": 1
}
